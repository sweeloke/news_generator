{
  "nbformat": 4,
  "nbformat_minor": 0,
  "metadata": {
    "colab": {
      "name": "PART1-processing-data-files",
      "provenance": [],
      "collapsed_sections": [],
      "machine_shape": "hm"
    },
    "kernelspec": {
      "name": "python3",
      "display_name": "Python 3"
    }
  },
  "cells": [
    {
      "cell_type": "markdown",
      "metadata": {
        "id": "L2PLq3sZzwWO"
      },
      "source": [
        "# **News Generator Term Project**\n",
        "\n",
        "**Swee Loke** | SCS3546 (Deep Learning) | University of Toronto | Dec 1, 2020\n",
        "\n",
        "This project use different experiments to decide how to construct the datasets and parameters to use to train a news text generation model.\n",
        "\n",
        "Data Source: \n",
        "\n",
        "* Kaggle (\"clmentbisaillon/fake-and-real-news-dataset\")\n",
        "* Kaggle (\"rmisra/news-category-dataset\")"
      ]
    },
    {
      "cell_type": "markdown",
      "metadata": {
        "id": "mZuulevfrHpe"
      },
      "source": [
        ""
      ]
    },
    {
      "cell_type": "markdown",
      "metadata": {
        "id": "PhJaX9mdo7SP"
      },
      "source": [
        "# **Part 1 - Preprocessing the data files**\n",
        "\n",
        "This notebook is for preprosessing the data files (the preprocessing of the actual train/validation datasets is presented in the next notebook). \n",
        "\n",
        "It downloads the dataset files (json format) and merge the news title and news body column into the same lines and write the combined text into text files (for training in the next notebook).\n",
        "\n",
        "We want to seperate the constructions of the text files (from any datasets) from the actual training and experiment. The model uses only plain text files as input and can be easily change to accept different text files as input. "
      ]
    },
    {
      "cell_type": "code",
      "metadata": {
        "id": "sz6Uq-62gBn-",
        "colab": {
          "base_uri": "https://localhost:8080/"
        },
        "outputId": "3f2fe103-873e-499d-871a-a4d5c5455002"
      },
      "source": [
        "# First we must mount google drive \n",
        "import os.path\n",
        "from google.colab import files\n",
        "from google.colab import drive\n",
        "GDRIVE_BASE_PATH = '/content/gdrive'\n",
        "drive.mount(GDRIVE_BASE_PATH, force_remount=True)\n",
        "\n",
        "# # Load the project from GitHub and adjust our `HOME_DIR`\n",
        "HOME_DIR = f'{GDRIVE_BASE_PATH}/My Drive/Colab Notebooks/NewsGenerator/'\n",
        "DATA_DIR = f'{GDRIVE_BASE_PATH}/My Drive/Colab Notebooks/data/'\n",
        "# # Going to the home directory and loading the project setup\n",
        "% cd '$HOME_DIR'"
      ],
      "execution_count": null,
      "outputs": [
        {
          "output_type": "stream",
          "text": [
            "Mounted at /content/gdrive\n",
            "/content/gdrive/My Drive/Colab Notebooks/NewsGenerator\n"
          ],
          "name": "stdout"
        }
      ]
    },
    {
      "cell_type": "code",
      "metadata": {
        "id": "EOpLKvZvpkOd"
      },
      "source": [
        "import pandas as pd\n",
        "import numpy as np"
      ],
      "execution_count": null,
      "outputs": []
    },
    {
      "cell_type": "markdown",
      "metadata": {
        "id": "OjxceTE2l5wr"
      },
      "source": [
        "# Downloading the dataset\n",
        "\n",
        "- [x] Setup Kaggle command line client\n",
        "- [x] Download dataset from Kaggle\n",
        "- [x] Decompress the files into the expected directories"
      ]
    },
    {
      "cell_type": "code",
      "metadata": {
        "id": "PMQ1RYHml5lI",
        "colab": {
          "base_uri": "https://localhost:8080/"
        },
        "outputId": "dd6ee838-2bd9-456b-9672-453fb12355da"
      },
      "source": [
        "# Now we setup the kaggle token so we can perform the download directly from them\n",
        "if not os.path.isfile(os.path.expanduser('~/.kaggle/kaggle.json')):\n",
        "    print('Could not find ~/.kaggle/kaggle.json to download the dataset. Please do the following steps:')\n",
        "    print('  1. Go to your account on kaggle')\n",
        "    print('  2. Scroll to API section and click on `Expire API Token` to remove previous tokens')\n",
        "    print('  3. Click on `Create New API Token`. It will download `kaggle.json` file on your machine')\n",
        "    print('  4. Upload you kaggle.json in the box below')\n",
        "\n",
        "    % cd /content\n",
        "    files.upload()\n",
        "\n",
        "    ! mkdir -p ~/.kaggle\n",
        "    ! cp kaggle.json ~/.kaggle/\n",
        "    ! chmod 600 ~/.kaggle/kaggle.json\n",
        "    ! pip install -q kaggle\n",
        "else:\n",
        "  print(\"Ready for Kaggle download\")"
      ],
      "execution_count": null,
      "outputs": [
        {
          "output_type": "stream",
          "text": [
            "Ready for Kaggle download\n"
          ],
          "name": "stdout"
        }
      ]
    },
    {
      "cell_type": "markdown",
      "metadata": {
        "id": "oCRN-UQ5mSSW"
      },
      "source": [
        "We are comparing two datasets in this project. \n",
        "\n",
        "* The first one is a short one from News Category dataset, it consist of just a title and a brief description. We refer to this set as short news.\n",
        "\n",
        "* The second one is longer version, with a title and news text. We refer to this set as long news. \n",
        "\n",
        "We also want to download the GloVe (Global Vectors for Word Representation)"
      ]
    },
    {
      "cell_type": "code",
      "metadata": {
        "colab": {
          "base_uri": "https://localhost:8080/"
        },
        "id": "ngz_u_d-mR_2",
        "outputId": "323340f4-50f4-4cfe-caa7-4e1e589c97e7"
      },
      "source": [
        "# This function download a dataset from kaggle\n",
        "# category specify if it is from a competition or a dataset\n",
        "def download_kaggle_dataset(category, dataset_name):\n",
        "  print(\"download_kaggle_dataset\", category, dataset_name)\n",
        "\n",
        "  % cd $DATA_DIR\n",
        "  ! kaggle $category download $dataset_name \n",
        "  ! unzip -o -q '*.zip'\n",
        "  ! rm *.zip\n",
        "  ! ls \n",
        "\n",
        "\n",
        "# SHORT NEWS:\n",
        "# If we don't have this json file, download this from kaggle \n",
        "if os.path.exists(f\"{DATA_DIR}/News_Category_Dataset_v2.json\"):\n",
        "    print(\"short news dataset exists, no need to download\")\n",
        "else:\n",
        "    dataset = \"rmisra/news-category-dataset\"\n",
        "    # ! kaggle datasets list -s $dataset\n",
        "    download_kaggle_dataset(\"datasets\", dataset)\n",
        "\n",
        "# LONG NEWS: \n",
        "if os.path.exists(f\"{DATA_DIR}/True.csv\") and os.path.exists(f\"{DATA_DIR}/Fake.csv\"):\n",
        "    print(\"long news dataset exists, no need to download\")\n",
        "else:\n",
        "    dataset = \"clmentbisaillon/fake-and-real-news-dataset\"\n",
        "    # ! kaggle datasets list -s $dataset\n",
        "    download_kaggle_dataset(\"datasets\", dataset)\n",
        "\n",
        "# We also want to download the GloVe (Global Vectors for Word Representation)\n",
        "# download word embeddings\n",
        "if os.path.exists(f\"{DATA_DIR}/glove.6B.50d.txt\"):\n",
        "    print(\"glove exists, no need to download\")\n",
        "else:\n",
        "    !wget http://nlp.stanford.edu/data/glove.6B.zip\n",
        "    !unzip -q glove.6B.zip"
      ],
      "execution_count": null,
      "outputs": [
        {
          "output_type": "stream",
          "text": [
            "short news dataset exists, no need to download\n",
            "long news dataset exists, no need to download\n",
            "glove exists, no need to download\n"
          ],
          "name": "stdout"
        }
      ]
    },
    {
      "cell_type": "code",
      "metadata": {
        "colab": {
          "base_uri": "https://localhost:8080/"
        },
        "id": "yGiVQ__RmgTg",
        "outputId": "1475ceeb-9dab-4508-c49d-c91c73470165"
      },
      "source": [
        "!ls  '$DATA_DIR'"
      ],
      "execution_count": null,
      "outputs": [
        {
          "output_type": "stream",
          "text": [
            "combined_news_text.txt\tglove.6B.300d.txt\t       short_news_text.txt\n",
            "Fake.csv\t\tglove.6B.50d.txt\t       True.csv\n",
            "fake_news_text.txt\tNews_Category_Dataset_v2.json  true_news_text.txt\n",
            "glove.6B.100d.txt\toutfile.txt\n",
            "glove.6B.200d.txt\tshakespeare.txt\n"
          ],
          "name": "stdout"
        }
      ]
    },
    {
      "cell_type": "markdown",
      "metadata": {
        "id": "-HtKeREY2VXh"
      },
      "source": [
        "# **Preprocess the dataset files**\n",
        "\n",
        "This part we extract the title and text of news in json files (for both long and short news datasets) and save them into plain text files.\n",
        "\n",
        "The reason we seperate this part is we can use any dataset to construct the text files and in the training part, we only use text files to generate run-time datasets."
      ]
    },
    {
      "cell_type": "markdown",
      "metadata": {
        "id": "GLQgUhUh22vJ"
      },
      "source": [
        "# Long News\n",
        "\n",
        "First we preprocessed the long news dataset. The original news dataset is with label true or fake news. But for our text generator training purpose, we only use the True news (which is already a lot of data). \n",
        "\n",
        "We also create a combined_text that we merged both the true and fake news in case we want the bigger datasets."
      ]
    },
    {
      "cell_type": "code",
      "metadata": {
        "id": "DsCzr2Dcb4-u"
      },
      "source": [
        "pd.set_option('max_colwidth', 400)"
      ],
      "execution_count": null,
      "outputs": []
    },
    {
      "cell_type": "code",
      "metadata": {
        "colab": {
          "base_uri": "https://localhost:8080/",
          "height": 293
        },
        "id": "T8Gth3cjnAme",
        "outputId": "660efe79-6c43-4e8c-b127-df25d245232f"
      },
      "source": [
        "# The True news csv include the source of the news in the text, we want to remove that and only include the news text.\n",
        "csv_file1 = DATA_DIR+\"True.csv\"\n",
        "true_news = pd.read_csv(csv_file1)\n",
        "true_news = true_news[['title', 'text']]\n",
        "\n",
        "# Remove source in the text\n",
        "true_news['text'] = true_news['text'].str.partition(\"-\")[2]\n",
        "true_news.head(5)"
      ],
      "execution_count": null,
      "outputs": [
        {
          "output_type": "execute_result",
          "data": {
            "text/html": [
              "<div>\n",
              "<style scoped>\n",
              "    .dataframe tbody tr th:only-of-type {\n",
              "        vertical-align: middle;\n",
              "    }\n",
              "\n",
              "    .dataframe tbody tr th {\n",
              "        vertical-align: top;\n",
              "    }\n",
              "\n",
              "    .dataframe thead th {\n",
              "        text-align: right;\n",
              "    }\n",
              "</style>\n",
              "<table border=\"1\" class=\"dataframe\">\n",
              "  <thead>\n",
              "    <tr style=\"text-align: right;\">\n",
              "      <th></th>\n",
              "      <th>title</th>\n",
              "      <th>text</th>\n",
              "    </tr>\n",
              "  </thead>\n",
              "  <tbody>\n",
              "    <tr>\n",
              "      <th>0</th>\n",
              "      <td>As U.S. budget fight looms, Republicans flip their fiscal script</td>\n",
              "      <td>The head of a conservative Republican faction in the U.S. Congress, who voted this month for a huge expansion of the national debt to pay for tax cuts, called himself a “fiscal conservative” on Sunday and urged budget restraint in 2018. In keeping with a sharp pivot under way among Republicans, U.S. Representative Mark Meadows, speaking on CBS’ “Face the Nation,” drew a hard line on federal s...</td>\n",
              "    </tr>\n",
              "    <tr>\n",
              "      <th>1</th>\n",
              "      <td>U.S. military to accept transgender recruits on Monday: Pentagon</td>\n",
              "      <td>Transgender people will be allowed for the first time to enlist in the U.S. military starting on Monday as ordered by federal courts, the Pentagon said on Friday, after President Donald Trump’s administration decided not to appeal rulings that blocked his transgender ban. Two federal appeals courts, one in Washington and one in Virginia, last week rejected the administration’s request to put ...</td>\n",
              "    </tr>\n",
              "    <tr>\n",
              "      <th>2</th>\n",
              "      <td>Senior U.S. Republican senator: 'Let Mr. Mueller do his job'</td>\n",
              "      <td>The special counsel investigation of links between Russia and President Trump’s 2016 election campaign should continue without interference in 2018, despite calls from some Trump administration allies and Republican lawmakers to shut it down, a prominent Republican senator said on Sunday. Lindsey Graham, who serves on the Senate armed forces and judiciary committees, said Department of Justic...</td>\n",
              "    </tr>\n",
              "    <tr>\n",
              "      <th>3</th>\n",
              "      <td>FBI Russia probe helped by Australian diplomat tip-off: NYT</td>\n",
              "      <td>Trump campaign adviser George Papadopoulos told an Australian diplomat in May 2016 that Russia had political dirt on Democratic presidential candidate Hillary Clinton, the New York Times reported on Saturday. The conversation between Papadopoulos and the diplomat, Alexander Downer, in London was a driving factor behind the FBI’s decision to open a counter-intelligence investigation of Moscow’...</td>\n",
              "    </tr>\n",
              "    <tr>\n",
              "      <th>4</th>\n",
              "      <td>Trump wants Postal Service to charge 'much more' for Amazon shipments</td>\n",
              "      <td>President Donald Trump called on the U.S. Postal Service on Friday to charge “much more” to ship packages for Amazon (AMZN.O), picking another fight with an online retail giant he has criticized in the past.     “Why is the United States Post Office, which is losing many billions of dollars a year, while charging Amazon and others so little to deliver their packages, making Amazon richer and ...</td>\n",
              "    </tr>\n",
              "  </tbody>\n",
              "</table>\n",
              "</div>"
            ],
            "text/plain": [
              "                                                                   title                                                                                                                                                                                                                                                                                                                                                                                                             text\n",
              "0       As U.S. budget fight looms, Republicans flip their fiscal script   The head of a conservative Republican faction in the U.S. Congress, who voted this month for a huge expansion of the national debt to pay for tax cuts, called himself a “fiscal conservative” on Sunday and urged budget restraint in 2018. In keeping with a sharp pivot under way among Republicans, U.S. Representative Mark Meadows, speaking on CBS’ “Face the Nation,” drew a hard line on federal s...\n",
              "1       U.S. military to accept transgender recruits on Monday: Pentagon   Transgender people will be allowed for the first time to enlist in the U.S. military starting on Monday as ordered by federal courts, the Pentagon said on Friday, after President Donald Trump’s administration decided not to appeal rulings that blocked his transgender ban. Two federal appeals courts, one in Washington and one in Virginia, last week rejected the administration’s request to put ...\n",
              "2           Senior U.S. Republican senator: 'Let Mr. Mueller do his job'   The special counsel investigation of links between Russia and President Trump’s 2016 election campaign should continue without interference in 2018, despite calls from some Trump administration allies and Republican lawmakers to shut it down, a prominent Republican senator said on Sunday. Lindsey Graham, who serves on the Senate armed forces and judiciary committees, said Department of Justic...\n",
              "3            FBI Russia probe helped by Australian diplomat tip-off: NYT   Trump campaign adviser George Papadopoulos told an Australian diplomat in May 2016 that Russia had political dirt on Democratic presidential candidate Hillary Clinton, the New York Times reported on Saturday. The conversation between Papadopoulos and the diplomat, Alexander Downer, in London was a driving factor behind the FBI’s decision to open a counter-intelligence investigation of Moscow’...\n",
              "4  Trump wants Postal Service to charge 'much more' for Amazon shipments   President Donald Trump called on the U.S. Postal Service on Friday to charge “much more” to ship packages for Amazon (AMZN.O), picking another fight with an online retail giant he has criticized in the past.     “Why is the United States Post Office, which is losing many billions of dollars a year, while charging Amazon and others so little to deliver their packages, making Amazon richer and ..."
            ]
          },
          "metadata": {
            "tags": []
          },
          "execution_count": 17
        }
      ]
    },
    {
      "cell_type": "code",
      "metadata": {
        "colab": {
          "base_uri": "https://localhost:8080/",
          "height": 293
        },
        "id": "3YcbHbTlTPl-",
        "outputId": "0055266f-b9e9-4212-e48c-d2ebe6172f36"
      },
      "source": [
        "true_news.tail(5)"
      ],
      "execution_count": null,
      "outputs": [
        {
          "output_type": "execute_result",
          "data": {
            "text/html": [
              "<div>\n",
              "<style scoped>\n",
              "    .dataframe tbody tr th:only-of-type {\n",
              "        vertical-align: middle;\n",
              "    }\n",
              "\n",
              "    .dataframe tbody tr th {\n",
              "        vertical-align: top;\n",
              "    }\n",
              "\n",
              "    .dataframe thead th {\n",
              "        text-align: right;\n",
              "    }\n",
              "</style>\n",
              "<table border=\"1\" class=\"dataframe\">\n",
              "  <thead>\n",
              "    <tr style=\"text-align: right;\">\n",
              "      <th></th>\n",
              "      <th>title</th>\n",
              "      <th>text</th>\n",
              "    </tr>\n",
              "  </thead>\n",
              "  <tbody>\n",
              "    <tr>\n",
              "      <th>21412</th>\n",
              "      <td>'Fully committed' NATO backs new U.S. approach on Afghanistan</td>\n",
              "      <td>NATO allies on Tuesday welcomed President Donald Trump s decision to commit more forces to Afghanistan, as part of a new U.S. strategy he said would require more troops and funding from America s partners. Having run for the White House last year on a pledge to withdraw swiftly from Afghanistan, Trump reversed course on Monday and promised a stepped-up military campaign against  Taliban insur...</td>\n",
              "    </tr>\n",
              "    <tr>\n",
              "      <th>21413</th>\n",
              "      <td>LexisNexis withdrew two products from Chinese market</td>\n",
              "      <td>LexisNexis, a provider of legal, regulatory and business information, said on Tuesday it had withdrawn two products from the Chinese market in March this year after it was asked to remove some content.  The issue of academic freedom in China hit the headlines this week after the leading British academic publisher,  Cambridge University Press, said it had complied with a request to block onlin...</td>\n",
              "    </tr>\n",
              "    <tr>\n",
              "      <th>21414</th>\n",
              "      <td>Minsk cultural hub becomes haven from authorities</td>\n",
              "      <td>In the shadow of disused Soviet-era factories in Minsk, a street lined with eclectic bars, art galleries and yoga studios has become a haven from the vigilant eyes of the Belarussian authorities.  This place is like an island,  said Yegor, 21, who works at  popular bar Hooligan.  It s the street of freedom.  The government of President Alexander Lukashenko, who has ruled Belarus for the past ...</td>\n",
              "    </tr>\n",
              "    <tr>\n",
              "      <th>21415</th>\n",
              "      <td>Vatican upbeat on possibility of Pope Francis visiting Russia</td>\n",
              "      <td>Vatican Secretary of State Cardinal Pietro Parolin said on Tuesday that there was  positive momentum  behind the idea of Pope Francis visiting Russia, but suggested there was more work to be done if it were to happen.  Parolin, speaking at a joint news conference in Moscow alongside Russian Foreign Minister Sergei Lavrov, did not give any date for such a possible visit. The Eastern and Wester...</td>\n",
              "    </tr>\n",
              "    <tr>\n",
              "      <th>21416</th>\n",
              "      <td>Indonesia to buy $1.14 billion worth of Russian jets</td>\n",
              "      <td>Indonesia will buy 11 Sukhoi fighter jets worth $1.14 billion from Russia in exchange for cash and Indonesian commodities, two cabinet ministers said on Tuesday. The Southeast Asian country has pledged to ship up to $570 million worth of commodities in addition to cash to pay for the Suhkoi SU-35 fighter jets, which are expected to be delivered in stages starting in two years. Indonesian Trad...</td>\n",
              "    </tr>\n",
              "  </tbody>\n",
              "</table>\n",
              "</div>"
            ],
            "text/plain": [
              "                                                               title                                                                                                                                                                                                                                                                                                                                                                                                             text\n",
              "21412  'Fully committed' NATO backs new U.S. approach on Afghanistan   NATO allies on Tuesday welcomed President Donald Trump s decision to commit more forces to Afghanistan, as part of a new U.S. strategy he said would require more troops and funding from America s partners. Having run for the White House last year on a pledge to withdraw swiftly from Afghanistan, Trump reversed course on Monday and promised a stepped-up military campaign against  Taliban insur...\n",
              "21413           LexisNexis withdrew two products from Chinese market   LexisNexis, a provider of legal, regulatory and business information, said on Tuesday it had withdrawn two products from the Chinese market in March this year after it was asked to remove some content.  The issue of academic freedom in China hit the headlines this week after the leading British academic publisher,  Cambridge University Press, said it had complied with a request to block onlin...\n",
              "21414              Minsk cultural hub becomes haven from authorities   In the shadow of disused Soviet-era factories in Minsk, a street lined with eclectic bars, art galleries and yoga studios has become a haven from the vigilant eyes of the Belarussian authorities.  This place is like an island,  said Yegor, 21, who works at  popular bar Hooligan.  It s the street of freedom.  The government of President Alexander Lukashenko, who has ruled Belarus for the past ...\n",
              "21415  Vatican upbeat on possibility of Pope Francis visiting Russia   Vatican Secretary of State Cardinal Pietro Parolin said on Tuesday that there was  positive momentum  behind the idea of Pope Francis visiting Russia, but suggested there was more work to be done if it were to happen.  Parolin, speaking at a joint news conference in Moscow alongside Russian Foreign Minister Sergei Lavrov, did not give any date for such a possible visit. The Eastern and Wester...\n",
              "21416           Indonesia to buy $1.14 billion worth of Russian jets   Indonesia will buy 11 Sukhoi fighter jets worth $1.14 billion from Russia in exchange for cash and Indonesian commodities, two cabinet ministers said on Tuesday. The Southeast Asian country has pledged to ship up to $570 million worth of commodities in addition to cash to pay for the Suhkoi SU-35 fighter jets, which are expected to be delivered in stages starting in two years. Indonesian Trad..."
            ]
          },
          "metadata": {
            "tags": []
          },
          "execution_count": 20
        }
      ]
    },
    {
      "cell_type": "code",
      "metadata": {
        "colab": {
          "base_uri": "https://localhost:8080/"
        },
        "id": "XM3DDyQfqIco",
        "outputId": "f3333f8c-b871-48f5-f28a-5d59c2767e90"
      },
      "source": [
        "# Merged both title and text into the same line. \n",
        "true_news_text = true_news['title'] + '. ' + true_news['text'] + ' '\n",
        "true_news_text[:5]"
      ],
      "execution_count": null,
      "outputs": [
        {
          "output_type": "execute_result",
          "data": {
            "text/plain": [
              "0    As U.S. budget fight looms, Republicans flip their fiscal script.  The head of a conservative Republican faction in the U.S. Congress, who voted this month for a huge expansion of the national debt to pay for tax cuts, called himself a “fiscal conservative” on Sunday and urged budget restraint in 2018. In keeping with a sharp pivot under way among Republicans, U.S. Representative Mark Meadows,...\n",
              "1    U.S. military to accept transgender recruits on Monday: Pentagon.  Transgender people will be allowed for the first time to enlist in the U.S. military starting on Monday as ordered by federal courts, the Pentagon said on Friday, after President Donald Trump’s administration decided not to appeal rulings that blocked his transgender ban. Two federal appeals courts, one in Washington and one in...\n",
              "2    Senior U.S. Republican senator: 'Let Mr. Mueller do his job'.  The special counsel investigation of links between Russia and President Trump’s 2016 election campaign should continue without interference in 2018, despite calls from some Trump administration allies and Republican lawmakers to shut it down, a prominent Republican senator said on Sunday. Lindsey Graham, who serves on the Senate ar...\n",
              "3    FBI Russia probe helped by Australian diplomat tip-off: NYT.  Trump campaign adviser George Papadopoulos told an Australian diplomat in May 2016 that Russia had political dirt on Democratic presidential candidate Hillary Clinton, the New York Times reported on Saturday. The conversation between Papadopoulos and the diplomat, Alexander Downer, in London was a driving factor behind the FBI’s dec...\n",
              "4    Trump wants Postal Service to charge 'much more' for Amazon shipments.  President Donald Trump called on the U.S. Postal Service on Friday to charge “much more” to ship packages for Amazon (AMZN.O), picking another fight with an online retail giant he has criticized in the past.     “Why is the United States Post Office, which is losing many billions of dollars a year, while charging Amazon an...\n",
              "dtype: object"
            ]
          },
          "metadata": {
            "tags": []
          },
          "execution_count": 21
        }
      ]
    },
    {
      "cell_type": "code",
      "metadata": {
        "colab": {
          "base_uri": "https://localhost:8080/",
          "height": 293
        },
        "id": "xmLQGnb0Bwr_",
        "outputId": "e2457857-49f4-4d58-c4e6-023553255ebd"
      },
      "source": [
        "# The Fake news csv doesn't have the source of the news in the text, so no need to strip that.\n",
        "csv_file2 = DATA_DIR+\"Fake.csv\"\n",
        "fake_news = pd.read_csv(csv_file2)\n",
        "fake_news = fake_news[['title', 'text']]\n",
        "\n",
        "fake_news.head(5)"
      ],
      "execution_count": null,
      "outputs": [
        {
          "output_type": "execute_result",
          "data": {
            "text/html": [
              "<div>\n",
              "<style scoped>\n",
              "    .dataframe tbody tr th:only-of-type {\n",
              "        vertical-align: middle;\n",
              "    }\n",
              "\n",
              "    .dataframe tbody tr th {\n",
              "        vertical-align: top;\n",
              "    }\n",
              "\n",
              "    .dataframe thead th {\n",
              "        text-align: right;\n",
              "    }\n",
              "</style>\n",
              "<table border=\"1\" class=\"dataframe\">\n",
              "  <thead>\n",
              "    <tr style=\"text-align: right;\">\n",
              "      <th></th>\n",
              "      <th>title</th>\n",
              "      <th>text</th>\n",
              "    </tr>\n",
              "  </thead>\n",
              "  <tbody>\n",
              "    <tr>\n",
              "      <th>0</th>\n",
              "      <td>Donald Trump Sends Out Embarrassing New Year’s Eve Message; This is Disturbing</td>\n",
              "      <td>Donald Trump just couldn t wish all Americans a Happy New Year and leave it at that. Instead, he had to give a shout out to his enemies, haters and  the very dishonest fake news media.  The former reality show star had just one job to do and he couldn t do it. As our Country rapidly grows stronger and smarter, I want to wish all of my friends, supporters, enemies, haters, and even the very dis...</td>\n",
              "    </tr>\n",
              "    <tr>\n",
              "      <th>1</th>\n",
              "      <td>Drunk Bragging Trump Staffer Started Russian Collusion Investigation</td>\n",
              "      <td>House Intelligence Committee Chairman Devin Nunes is going to have a bad day. He s been under the assumption, like many of us, that the Christopher Steele-dossier was what prompted the Russia investigation so he s been lashing out at the Department of Justice and the FBI in order to protect Trump. As it happens, the dossier is not what started the investigation, according to documents obtained...</td>\n",
              "    </tr>\n",
              "    <tr>\n",
              "      <th>2</th>\n",
              "      <td>Sheriff David Clarke Becomes An Internet Joke For Threatening To Poke People ‘In The Eye’</td>\n",
              "      <td>On Friday, it was revealed that former Milwaukee Sheriff David Clarke, who was being considered for Homeland Security Secretary in Donald Trump s administration, has an email scandal of his own.In January, there was a brief run-in on a plane between Clarke and fellow passenger Dan Black, who he later had detained by the police for no reason whatsoever, except that maybe his feelings were hurt....</td>\n",
              "    </tr>\n",
              "    <tr>\n",
              "      <th>3</th>\n",
              "      <td>Trump Is So Obsessed He Even Has Obama’s Name Coded Into His Website (IMAGES)</td>\n",
              "      <td>On Christmas day, Donald Trump announced that he would  be back to work  the following day, but he is golfing for the fourth day in a row. The former reality show star blasted former President Barack Obama for playing golf and now Trump is on track to outpace the number of golf games his predecessor played.Updated my tracker of Trump s appearances at Trump properties.71 rounds of golf includin...</td>\n",
              "    </tr>\n",
              "    <tr>\n",
              "      <th>4</th>\n",
              "      <td>Pope Francis Just Called Out Donald Trump During His Christmas Speech</td>\n",
              "      <td>Pope Francis used his annual Christmas Day message to rebuke Donald Trump without even mentioning his name. The Pope delivered his message just days after members of the United Nations condemned Trump s move to recognize Jerusalem as the capital of Israel. The Pontiff prayed on Monday for the  peaceful coexistence of two states within mutually agreed and internationally recognized borders. We ...</td>\n",
              "    </tr>\n",
              "  </tbody>\n",
              "</table>\n",
              "</div>"
            ],
            "text/plain": [
              "                                                                                        title                                                                                                                                                                                                                                                                                                                                                                                                             text\n",
              "0              Donald Trump Sends Out Embarrassing New Year’s Eve Message; This is Disturbing  Donald Trump just couldn t wish all Americans a Happy New Year and leave it at that. Instead, he had to give a shout out to his enemies, haters and  the very dishonest fake news media.  The former reality show star had just one job to do and he couldn t do it. As our Country rapidly grows stronger and smarter, I want to wish all of my friends, supporters, enemies, haters, and even the very dis...\n",
              "1                        Drunk Bragging Trump Staffer Started Russian Collusion Investigation  House Intelligence Committee Chairman Devin Nunes is going to have a bad day. He s been under the assumption, like many of us, that the Christopher Steele-dossier was what prompted the Russia investigation so he s been lashing out at the Department of Justice and the FBI in order to protect Trump. As it happens, the dossier is not what started the investigation, according to documents obtained...\n",
              "2   Sheriff David Clarke Becomes An Internet Joke For Threatening To Poke People ‘In The Eye’  On Friday, it was revealed that former Milwaukee Sheriff David Clarke, who was being considered for Homeland Security Secretary in Donald Trump s administration, has an email scandal of his own.In January, there was a brief run-in on a plane between Clarke and fellow passenger Dan Black, who he later had detained by the police for no reason whatsoever, except that maybe his feelings were hurt....\n",
              "3               Trump Is So Obsessed He Even Has Obama’s Name Coded Into His Website (IMAGES)  On Christmas day, Donald Trump announced that he would  be back to work  the following day, but he is golfing for the fourth day in a row. The former reality show star blasted former President Barack Obama for playing golf and now Trump is on track to outpace the number of golf games his predecessor played.Updated my tracker of Trump s appearances at Trump properties.71 rounds of golf includin...\n",
              "4                       Pope Francis Just Called Out Donald Trump During His Christmas Speech  Pope Francis used his annual Christmas Day message to rebuke Donald Trump without even mentioning his name. The Pope delivered his message just days after members of the United Nations condemned Trump s move to recognize Jerusalem as the capital of Israel. The Pontiff prayed on Monday for the  peaceful coexistence of two states within mutually agreed and internationally recognized borders. We ..."
            ]
          },
          "metadata": {
            "tags": []
          },
          "execution_count": 22
        }
      ]
    },
    {
      "cell_type": "code",
      "metadata": {
        "colab": {
          "base_uri": "https://localhost:8080/",
          "height": 293
        },
        "id": "Lj62xS9oTvWL",
        "outputId": "0bd8e512-4759-412b-999e-d2975f9f1a66"
      },
      "source": [
        "fake_news.tail(5)"
      ],
      "execution_count": null,
      "outputs": [
        {
          "output_type": "execute_result",
          "data": {
            "text/html": [
              "<div>\n",
              "<style scoped>\n",
              "    .dataframe tbody tr th:only-of-type {\n",
              "        vertical-align: middle;\n",
              "    }\n",
              "\n",
              "    .dataframe tbody tr th {\n",
              "        vertical-align: top;\n",
              "    }\n",
              "\n",
              "    .dataframe thead th {\n",
              "        text-align: right;\n",
              "    }\n",
              "</style>\n",
              "<table border=\"1\" class=\"dataframe\">\n",
              "  <thead>\n",
              "    <tr style=\"text-align: right;\">\n",
              "      <th></th>\n",
              "      <th>title</th>\n",
              "      <th>text</th>\n",
              "    </tr>\n",
              "  </thead>\n",
              "  <tbody>\n",
              "    <tr>\n",
              "      <th>23476</th>\n",
              "      <td>McPain: John McCain Furious That Iran Treated US Sailors Well</td>\n",
              "      <td>21st Century Wire says As 21WIRE reported earlier this week, the unlikely  mishap  of two US Naval vessels straying into Iranian waters   just hours before the President s State of the Union speech, followed by the usual parade of arch-neocons coming on TV in real time to declare the incident as  an act of aggression  by Iran against the United States   is no mere coincidence.24 hours after th...</td>\n",
              "    </tr>\n",
              "    <tr>\n",
              "      <th>23477</th>\n",
              "      <td>JUSTICE? Yahoo Settles E-mail Privacy Class-action: $4M for Lawyers, $0 for Users</td>\n",
              "      <td>21st Century Wire says It s a familiar theme. Whenever there is a dispute or a change of law, and two tribes go to war, there is normally only one real winner after the tribulation  the lawyers. Ars TechnicaIn late 2013, Yahoo was hit with six lawsuits over its practice of using automated scans of e-mail to produce targeted ads. The cases, which were consolidated in federal court, all argued t...</td>\n",
              "    </tr>\n",
              "    <tr>\n",
              "      <th>23478</th>\n",
              "      <td>Sunnistan: US and Allied ‘Safe Zone’ Plan to Take Territorial Booty in Northern Syria</td>\n",
              "      <td>Patrick Henningsen  21st Century WireRemember when the Obama Administration told the world how it hoped to identify 5,000 reliable non-jihadist  moderate  rebels hanging out in Turkey and Jordan, who might want to fight for Washington in Syria? After all the drama over its infamous  train and equip  program to create their own Arab army in Syria, they want to give it another try.This week, Pen...</td>\n",
              "    </tr>\n",
              "    <tr>\n",
              "      <th>23479</th>\n",
              "      <td>How to Blow $700 Million: Al Jazeera America Finally Calls it Quits</td>\n",
              "      <td>21st Century Wire says Al Jazeera America will go down in history as one of the biggest failures in broadcast media history.Ever since the US and its allies began plotting to overthrow Libya and Syria, Al Jazeera has deteriorated from a promising international news network in 2003   into what it has become in 2016   a full-blown agit prop media shop for the US State Department and the Pentagon...</td>\n",
              "    </tr>\n",
              "    <tr>\n",
              "      <th>23480</th>\n",
              "      <td>10 U.S. Navy Sailors Held by Iranian Military – Signs of a Neocon Political Stunt</td>\n",
              "      <td>21st Century Wire says As 21WIRE predicted in its new year s look ahead, we have a new  hostage  crisis underway.Today, Iranian military forces report that two small riverine U.S. Navy boats were seized in Iranian waters, and are currently being held on Iran s Farsi Island in the Persian Gulf. A total of 10 U.S. Navy personnel, nine men and one woman, have been detained by Iranian authorities....</td>\n",
              "    </tr>\n",
              "  </tbody>\n",
              "</table>\n",
              "</div>"
            ],
            "text/plain": [
              "                                                                                       title                                                                                                                                                                                                                                                                                                                                                                                                             text\n",
              "23476                          McPain: John McCain Furious That Iran Treated US Sailors Well  21st Century Wire says As 21WIRE reported earlier this week, the unlikely  mishap  of two US Naval vessels straying into Iranian waters   just hours before the President s State of the Union speech, followed by the usual parade of arch-neocons coming on TV in real time to declare the incident as  an act of aggression  by Iran against the United States   is no mere coincidence.24 hours after th...\n",
              "23477      JUSTICE? Yahoo Settles E-mail Privacy Class-action: $4M for Lawyers, $0 for Users  21st Century Wire says It s a familiar theme. Whenever there is a dispute or a change of law, and two tribes go to war, there is normally only one real winner after the tribulation  the lawyers. Ars TechnicaIn late 2013, Yahoo was hit with six lawsuits over its practice of using automated scans of e-mail to produce targeted ads. The cases, which were consolidated in federal court, all argued t...\n",
              "23478  Sunnistan: US and Allied ‘Safe Zone’ Plan to Take Territorial Booty in Northern Syria  Patrick Henningsen  21st Century WireRemember when the Obama Administration told the world how it hoped to identify 5,000 reliable non-jihadist  moderate  rebels hanging out in Turkey and Jordan, who might want to fight for Washington in Syria? After all the drama over its infamous  train and equip  program to create their own Arab army in Syria, they want to give it another try.This week, Pen...\n",
              "23479                    How to Blow $700 Million: Al Jazeera America Finally Calls it Quits  21st Century Wire says Al Jazeera America will go down in history as one of the biggest failures in broadcast media history.Ever since the US and its allies began plotting to overthrow Libya and Syria, Al Jazeera has deteriorated from a promising international news network in 2003   into what it has become in 2016   a full-blown agit prop media shop for the US State Department and the Pentagon...\n",
              "23480      10 U.S. Navy Sailors Held by Iranian Military – Signs of a Neocon Political Stunt  21st Century Wire says As 21WIRE predicted in its new year s look ahead, we have a new  hostage  crisis underway.Today, Iranian military forces report that two small riverine U.S. Navy boats were seized in Iranian waters, and are currently being held on Iran s Farsi Island in the Persian Gulf. A total of 10 U.S. Navy personnel, nine men and one woman, have been detained by Iranian authorities...."
            ]
          },
          "metadata": {
            "tags": []
          },
          "execution_count": 23
        }
      ]
    },
    {
      "cell_type": "code",
      "metadata": {
        "colab": {
          "base_uri": "https://localhost:8080/"
        },
        "id": "RmiPNT_fCfhm",
        "outputId": "d9d03a13-67f0-424b-fe48-6c0e6085afb8"
      },
      "source": [
        "# Merged both title and text into the same line. \n",
        "fake_news_text = fake_news['title'] + '. ' + fake_news['text'] + ' '\n",
        "fake_news_text[:5]"
      ],
      "execution_count": null,
      "outputs": [
        {
          "output_type": "execute_result",
          "data": {
            "text/plain": [
              "0     Donald Trump Sends Out Embarrassing New Year’s Eve Message; This is Disturbing. Donald Trump just couldn t wish all Americans a Happy New Year and leave it at that. Instead, he had to give a shout out to his enemies, haters and  the very dishonest fake news media.  The former reality show star had just one job to do and he couldn t do it. As our Country rapidly grows stronger and smarter, I w...\n",
              "1     Drunk Bragging Trump Staffer Started Russian Collusion Investigation. House Intelligence Committee Chairman Devin Nunes is going to have a bad day. He s been under the assumption, like many of us, that the Christopher Steele-dossier was what prompted the Russia investigation so he s been lashing out at the Department of Justice and the FBI in order to protect Trump. As it happens, the dossier...\n",
              "2     Sheriff David Clarke Becomes An Internet Joke For Threatening To Poke People ‘In The Eye’. On Friday, it was revealed that former Milwaukee Sheriff David Clarke, who was being considered for Homeland Security Secretary in Donald Trump s administration, has an email scandal of his own.In January, there was a brief run-in on a plane between Clarke and fellow passenger Dan Black, who he later ha...\n",
              "3     Trump Is So Obsessed He Even Has Obama’s Name Coded Into His Website (IMAGES). On Christmas day, Donald Trump announced that he would  be back to work  the following day, but he is golfing for the fourth day in a row. The former reality show star blasted former President Barack Obama for playing golf and now Trump is on track to outpace the number of golf games his predecessor played.Updated ...\n",
              "4     Pope Francis Just Called Out Donald Trump During His Christmas Speech. Pope Francis used his annual Christmas Day message to rebuke Donald Trump without even mentioning his name. The Pope delivered his message just days after members of the United Nations condemned Trump s move to recognize Jerusalem as the capital of Israel. The Pontiff prayed on Monday for the  peaceful coexistence of two s...\n",
              "dtype: object"
            ]
          },
          "metadata": {
            "tags": []
          },
          "execution_count": 24
        }
      ]
    },
    {
      "cell_type": "code",
      "metadata": {
        "id": "u83D6Y59zQyz"
      },
      "source": [
        "# We then write both of those news into the plain text files (no longer json)\n",
        "def write_dataset_to_file(file_name, text_list):\n",
        "  with open(DATA_DIR+file_name, \"w\") as outfile:\n",
        "      outfile.write(\"\\n\".join(str(item) for item in text_list))\n",
        "\n",
        "\n",
        "write_dataset_to_file(\"true_news_text.txt\", true_news_text)\n",
        "write_dataset_to_file(\"fake_news_text.txt\", fake_news_text)\n",
        "#combine them \n",
        "write_dataset_to_file(\"combined_news_text.txt\", true_news_text+fake_news_text)"
      ],
      "execution_count": null,
      "outputs": []
    },
    {
      "cell_type": "markdown",
      "metadata": {
        "id": "cCOcCcXF4IfG"
      },
      "source": [
        "# Short News\n",
        "\n",
        "Now we process the short news dataset. The short news has also the headline and a short description, we will combine them into the same line."
      ]
    },
    {
      "cell_type": "code",
      "metadata": {
        "colab": {
          "base_uri": "https://localhost:8080/",
          "height": 206
        },
        "id": "DVHBOqa7uv6r",
        "outputId": "c733693c-9df6-40f2-e0ca-b5c9d1a69dc2"
      },
      "source": [
        "json_filename = DATA_DIR + 'News_Category_Dataset_v2.json'\n",
        "short_news = pd.read_json(json_filename, lines=True)\n",
        "short_news = short_news[['headline', 'short_description']]\n",
        "short_news.head(5)"
      ],
      "execution_count": null,
      "outputs": [
        {
          "output_type": "execute_result",
          "data": {
            "text/html": [
              "<div>\n",
              "<style scoped>\n",
              "    .dataframe tbody tr th:only-of-type {\n",
              "        vertical-align: middle;\n",
              "    }\n",
              "\n",
              "    .dataframe tbody tr th {\n",
              "        vertical-align: top;\n",
              "    }\n",
              "\n",
              "    .dataframe thead th {\n",
              "        text-align: right;\n",
              "    }\n",
              "</style>\n",
              "<table border=\"1\" class=\"dataframe\">\n",
              "  <thead>\n",
              "    <tr style=\"text-align: right;\">\n",
              "      <th></th>\n",
              "      <th>headline</th>\n",
              "      <th>short_description</th>\n",
              "    </tr>\n",
              "  </thead>\n",
              "  <tbody>\n",
              "    <tr>\n",
              "      <th>0</th>\n",
              "      <td>There Were 2 Mass Shootings In Texas Last Week, But Only 1 On TV</td>\n",
              "      <td>She left her husband. He killed their children. Just another day in America.</td>\n",
              "    </tr>\n",
              "    <tr>\n",
              "      <th>1</th>\n",
              "      <td>Will Smith Joins Diplo And Nicky Jam For The 2018 World Cup's Official Song</td>\n",
              "      <td>Of course it has a song.</td>\n",
              "    </tr>\n",
              "    <tr>\n",
              "      <th>2</th>\n",
              "      <td>Hugh Grant Marries For The First Time At Age 57</td>\n",
              "      <td>The actor and his longtime girlfriend Anna Eberstein tied the knot in a civil ceremony.</td>\n",
              "    </tr>\n",
              "    <tr>\n",
              "      <th>3</th>\n",
              "      <td>Jim Carrey Blasts 'Castrato' Adam Schiff And Democrats In New Artwork</td>\n",
              "      <td>The actor gives Dems an ass-kicking for not fighting hard enough against Donald Trump.</td>\n",
              "    </tr>\n",
              "    <tr>\n",
              "      <th>4</th>\n",
              "      <td>Julianna Margulies Uses Donald Trump Poop Bags To Pick Up After Her Dog</td>\n",
              "      <td>The \"Dietland\" actress said using the bags is a \"really cathartic, therapeutic moment.\"</td>\n",
              "    </tr>\n",
              "  </tbody>\n",
              "</table>\n",
              "</div>"
            ],
            "text/plain": [
              "                                                                      headline                                                                        short_description\n",
              "0             There Were 2 Mass Shootings In Texas Last Week, But Only 1 On TV             She left her husband. He killed their children. Just another day in America.\n",
              "1  Will Smith Joins Diplo And Nicky Jam For The 2018 World Cup's Official Song                                                                 Of course it has a song.\n",
              "2                              Hugh Grant Marries For The First Time At Age 57  The actor and his longtime girlfriend Anna Eberstein tied the knot in a civil ceremony.\n",
              "3        Jim Carrey Blasts 'Castrato' Adam Schiff And Democrats In New Artwork   The actor gives Dems an ass-kicking for not fighting hard enough against Donald Trump.\n",
              "4      Julianna Margulies Uses Donald Trump Poop Bags To Pick Up After Her Dog  The \"Dietland\" actress said using the bags is a \"really cathartic, therapeutic moment.\""
            ]
          },
          "metadata": {
            "tags": []
          },
          "execution_count": 26
        }
      ]
    },
    {
      "cell_type": "code",
      "metadata": {
        "id": "C6swPicaT322",
        "colab": {
          "base_uri": "https://localhost:8080/",
          "height": 206
        },
        "outputId": "de352c39-a926-472c-d9a0-a88837e2f93b"
      },
      "source": [
        "short_news.tail(5)"
      ],
      "execution_count": null,
      "outputs": [
        {
          "output_type": "execute_result",
          "data": {
            "text/html": [
              "<div>\n",
              "<style scoped>\n",
              "    .dataframe tbody tr th:only-of-type {\n",
              "        vertical-align: middle;\n",
              "    }\n",
              "\n",
              "    .dataframe tbody tr th {\n",
              "        vertical-align: top;\n",
              "    }\n",
              "\n",
              "    .dataframe thead th {\n",
              "        text-align: right;\n",
              "    }\n",
              "</style>\n",
              "<table border=\"1\" class=\"dataframe\">\n",
              "  <thead>\n",
              "    <tr style=\"text-align: right;\">\n",
              "      <th></th>\n",
              "      <th>headline</th>\n",
              "      <th>short_description</th>\n",
              "    </tr>\n",
              "  </thead>\n",
              "  <tbody>\n",
              "    <tr>\n",
              "      <th>200848</th>\n",
              "      <td>RIM CEO Thorsten Heins' 'Significant' Plans For BlackBerry</td>\n",
              "      <td>Verizon Wireless and AT&amp;T are already promoting LTE devices including smartphones and tablets from RIM's rivals. RIM's first</td>\n",
              "    </tr>\n",
              "    <tr>\n",
              "      <th>200849</th>\n",
              "      <td>Maria Sharapova Stunned By Victoria Azarenka In Australian Open Final</td>\n",
              "      <td>Afterward, Azarenka, more effusive with the press than normal, credited her coach of two years, Sam Sumyk, for his patient</td>\n",
              "    </tr>\n",
              "    <tr>\n",
              "      <th>200850</th>\n",
              "      <td>Giants Over Patriots, Jets Over Colts Among  Most Improbable Super Bowl Upsets Of All Time (VIDEOS)</td>\n",
              "      <td>Leading up to Super Bowl XLVI, the most talked about game could end up being one that occurred a few years ago. After all</td>\n",
              "    </tr>\n",
              "    <tr>\n",
              "      <th>200851</th>\n",
              "      <td>Aldon Smith Arrested: 49ers Linebacker Busted For DUI</td>\n",
              "      <td>CORRECTION: An earlier version of this story incorrectly stated the location of KTVU and the 2011 league leader in sacks</td>\n",
              "    </tr>\n",
              "    <tr>\n",
              "      <th>200852</th>\n",
              "      <td>Dwight Howard Rips Teammates After Magic Loss To Hornets</td>\n",
              "      <td>The five-time all-star center tore into his teammates Friday night after Orlando committed 23 turnovers en route to losing</td>\n",
              "    </tr>\n",
              "  </tbody>\n",
              "</table>\n",
              "</div>"
            ],
            "text/plain": [
              "                                                                                                   headline                                                                                                             short_description\n",
              "200848                                           RIM CEO Thorsten Heins' 'Significant' Plans For BlackBerry  Verizon Wireless and AT&T are already promoting LTE devices including smartphones and tablets from RIM's rivals. RIM's first\n",
              "200849                                Maria Sharapova Stunned By Victoria Azarenka In Australian Open Final    Afterward, Azarenka, more effusive with the press than normal, credited her coach of two years, Sam Sumyk, for his patient\n",
              "200850  Giants Over Patriots, Jets Over Colts Among  Most Improbable Super Bowl Upsets Of All Time (VIDEOS)     Leading up to Super Bowl XLVI, the most talked about game could end up being one that occurred a few years ago. After all\n",
              "200851                                                Aldon Smith Arrested: 49ers Linebacker Busted For DUI      CORRECTION: An earlier version of this story incorrectly stated the location of KTVU and the 2011 league leader in sacks\n",
              "200852                                             Dwight Howard Rips Teammates After Magic Loss To Hornets    The five-time all-star center tore into his teammates Friday night after Orlando committed 23 turnovers en route to losing"
            ]
          },
          "metadata": {
            "tags": []
          },
          "execution_count": 27
        }
      ]
    },
    {
      "cell_type": "code",
      "metadata": {
        "id": "FAtcv328vj2t",
        "colab": {
          "base_uri": "https://localhost:8080/"
        },
        "outputId": "1d0a08cb-e97f-4fb8-e179-43481dc5e590"
      },
      "source": [
        "# Merged both headline and short_description into the same line. \n",
        "short_news_text = short_news['headline'] + '. ' + short_news['short_description'] +' '\n",
        "short_news_text[:5]\n"
      ],
      "execution_count": null,
      "outputs": [
        {
          "output_type": "execute_result",
          "data": {
            "text/plain": [
              "0                      There Were 2 Mass Shootings In Texas Last Week, But Only 1 On TV. She left her husband. He killed their children. Just another day in America. \n",
              "1                                                               Will Smith Joins Diplo And Nicky Jam For The 2018 World Cup's Official Song. Of course it has a song. \n",
              "2                            Hugh Grant Marries For The First Time At Age 57. The actor and his longtime girlfriend Anna Eberstein tied the knot in a civil ceremony. \n",
              "3       Jim Carrey Blasts 'Castrato' Adam Schiff And Democrats In New Artwork. The actor gives Dems an ass-kicking for not fighting hard enough against Donald Trump. \n",
              "4    Julianna Margulies Uses Donald Trump Poop Bags To Pick Up After Her Dog. The \"Dietland\" actress said using the bags is a \"really cathartic, therapeutic moment.\" \n",
              "dtype: object"
            ]
          },
          "metadata": {
            "tags": []
          },
          "execution_count": 28
        }
      ]
    },
    {
      "cell_type": "code",
      "metadata": {
        "id": "pEXasSYxz-eG",
        "colab": {
          "base_uri": "https://localhost:8080/"
        },
        "outputId": "6313d328-9355-42be-fa16-2f0ed96b8808"
      },
      "source": [
        "!ls '$DATA_DIR'"
      ],
      "execution_count": null,
      "outputs": [
        {
          "output_type": "stream",
          "text": [
            "combined_news_text.txt\tglove.6B.300d.txt\t       short_news_text.txt\n",
            "Fake.csv\t\tglove.6B.50d.txt\t       True.csv\n",
            "fake_news_text.txt\tNews_Category_Dataset_v2.json  true_news_text.txt\n",
            "glove.6B.100d.txt\toutfile.txt\n",
            "glove.6B.200d.txt\tshakespeare.txt\n"
          ],
          "name": "stdout"
        }
      ]
    },
    {
      "cell_type": "code",
      "metadata": {
        "id": "ygNN0YXd4mh_"
      },
      "source": [
        "# write them to a file\n",
        "write_dataset_to_file(\"short_news_text.txt\", short_news_text)"
      ],
      "execution_count": null,
      "outputs": []
    },
    {
      "cell_type": "code",
      "metadata": {
        "id": "ntWqVOWeccZR"
      },
      "source": [
        ""
      ],
      "execution_count": null,
      "outputs": []
    }
  ]
}