{
  "nbformat": 4,
  "nbformat_minor": 0,
  "metadata": {
    "colab": {
      "name": "PART2-training-model.ipynb",
      "provenance": [],
      "collapsed_sections": [
        "wDfrrW7Cz2-T",
        "BPSzoSlQ_rTU",
        "TKTKKteK3jhy",
        "DzRdxASwXiDP",
        "c7R0kv6SXNcG",
        "6qFsz1YIco6N",
        "LxmpXy2XvDqw",
        "eU_ABJB23Ndk",
        "Gg38OptJlSpn",
        "ItDz3t70upo5",
        "kQ1r6-4m_esz"
      ],
      "machine_shape": "hm"
    },
    "kernelspec": {
      "name": "python3",
      "display_name": "Python 3"
    },
    "accelerator": "GPU"
  },
  "cells": [
    {
      "cell_type": "markdown",
      "metadata": {
        "id": "wDfrrW7Cz2-T"
      },
      "source": [
        "# **News Generator Term Project**\n",
        "\n",
        "**Swee Loke** | SCS3546 (Deep Learning) | University of Toronto | Dec 1, 2020\n",
        "\n",
        "This project use different experiments to decide how to construct the datasets and parameters to use to train a news generation model. Although it is called \"News Generator\", the model can be trained with any text data and will generate text style similar to the trained datasets.\n",
        "\n",
        "Data Source: \n",
        "\n",
        "* Kaggle (\"clmentbisaillon/fake-and-real-news-dataset\")\n",
        "* Kaggle (\"rmisra/news-category-dataset\")"
      ]
    },
    {
      "cell_type": "markdown",
      "metadata": {
        "id": "BPSzoSlQ_rTU"
      },
      "source": [
        "# **PART 2: Training the model**\n",
        "\n",
        "*(Note: PART 1 is in a different notebook)*\n",
        "\n",
        "This notebook first runs different experiments and select the datasets, embedding and model parameters, and then use the selected parameters for the final model. \n",
        "\n",
        "The experiments are:\n",
        "1. Comparing **2 datasets**\n",
        "\n",
        "2. Comparing **max_sequence_length** (10, 20, 30)\n",
        "\n",
        "3. Comparing **using or not using** pretrain embeddings\n",
        "\n",
        "4. Comparing **different** pretrained embeddings \n",
        "\n",
        "5. Comparing **different** number of LSTM layer\n",
        "\n",
        "6. Comparing **different** RNN units per LSTM layer\n",
        "\n",
        "\n",
        "There are several classes implemented to support running different experiements easily. It allows us to generate the required vocab and train/validation datasets in one call (with a text file name, vocab_size, embedding dimension, max_seq_len, validation_split and batch_size). \n",
        "\n",
        "* VocabClass \n",
        "\n",
        "    This class is initialized with a specific file and max_tokens (vocabulary size). We also allow a limit_text_size if we want to truncate the input to a fixed size. This is useful when we want to compare different datasets where the text file sizes are very different.\n",
        "\n",
        "* PretrainedEmbedding\n",
        "\n",
        "  This class loads the GloVe pretrained embedding of a specified dimension and initializes an embedding matrix given a set of vocabulary (passed in as an instance of Vocab_Class)\n",
        "\n",
        "* TextDataset\n",
        "\n",
        "  This class generate the VocabClass, PretrainedEmbedding and the train/validation datasets with a specified batch size and train_validation split.\n",
        "\n",
        "* Experiment \n",
        "\n",
        "  This class builds a model, train it with a specified number of epoch with the provided datasets, it also returns the result in a dictionary that contains the performance stats, the trained model and the model with batch size=1 for text generation. It also support us continue training from the previous trained model so that we can resume the training with additional epoch.\n",
        "\n",
        "* ResultsDisplay\n",
        "\n",
        "  This class is for displaying the results of different experiments, include showing plots of the performance stats and running the text generation models with the predefined set of starting strings. There is also method for generating individual text.\n",
        "\n",
        "\n",
        "**This is all experimental code, not production qualtiy - no error checking is done.  It is merely for the purpose of running different experiments.**\n",
        "\n",
        "\n",
        "\n",
        "\n",
        "\n"
      ]
    },
    {
      "cell_type": "code",
      "metadata": {
        "colab": {
          "base_uri": "https://localhost:8080/"
        },
        "id": "NWAVMBXnfxMw",
        "outputId": "0896fdea-6615-4080-b054-efdfc7da95dc"
      },
      "source": [
        "# First we must mount google drive \n",
        "import os.path\n",
        "from google.colab import files\n",
        "from google.colab import drive\n",
        "GDRIVE_BASE_PATH = '/content/gdrive'\n",
        "drive.mount(GDRIVE_BASE_PATH, force_remount=True)\n",
        "\n",
        "# # Load the project from GitHub and adjust our `HOME_DIR`\n",
        "HOME_DIR = f'{GDRIVE_BASE_PATH}/My Drive/Colab Notebooks/NewsGenerator/'\n",
        "DATA_DIR = f'{GDRIVE_BASE_PATH}/My Drive/Colab Notebooks/data/'\n",
        "# # Going to the home directory and loading the project setup\n",
        "% cd '$HOME_DIR'"
      ],
      "execution_count": 2,
      "outputs": [
        {
          "output_type": "stream",
          "text": [
            "Mounted at /content/gdrive\n",
            "/content/gdrive/My Drive/Colab Notebooks/NewsGenerator\n"
          ],
          "name": "stdout"
        }
      ]
    },
    {
      "cell_type": "code",
      "metadata": {
        "id": "Vs45h_-VgBxC"
      },
      "source": [
        "import pandas as pd\n",
        "import numpy as np\n",
        "import tensorflow as tf\n",
        "import keras\n",
        "from keras.layers.experimental.preprocessing import TextVectorization\n",
        "from keras.layers import LSTM\n",
        "import matplotlib.pyplot as plt\n",
        "import datetime"
      ],
      "execution_count": 3,
      "outputs": []
    },
    {
      "cell_type": "code",
      "metadata": {
        "id": "hexnCUZfLs9s"
      },
      "source": [
        "# This class keeps keeps our vocabulary and also text_as_int and text_in_tokens\n",
        "class VocabClass():\n",
        "  def __init__(self, text_file_path, max_tokens, limit_text_size=0): # 0 = no limit, for reference, the small_news text has 5852253 and long news has 8373511\n",
        "    self.text_file_path = text_file_path\n",
        "    self.max_tokens = max_tokens\n",
        "    self.limit_text_size = limit_text_size # This is to limit the input text size if we don't want to process too much\n",
        "\n",
        "    self.__get_vocab_from_input_file(text_file_path, max_tokens)\n",
        "\n",
        "  def __get_list_of_strings_from_file(self, file_name):\n",
        "    with open(file_name) as f:\n",
        "      lines = list(tuple(open(file_name, 'r')))\n",
        "      # Remove any new line so that all lines are merged.\n",
        "      lines = [ x.replace('\\n', '') for x in lines]\n",
        "\n",
        "    return lines\n",
        "\n",
        "  def __create_vocab(self, raw_data, maximum_token):\n",
        "    vectorizer = TextVectorization(max_tokens=maximum_token)\n",
        "    text_ds = tf.data.Dataset.from_tensor_slices([raw_data])\n",
        "    vectorizer.adapt(text_ds)\n",
        "    self.vectorizer = vectorizer\n",
        "    self.vocab = vectorizer.get_vocabulary()\n",
        "    self.vocab_size = len(self.vocab)\n",
        "    self.word2idx =  {u:i for i, u in enumerate(self.vocab)}\n",
        "    self.idx2word = np.array(self.vocab)\n",
        "    temp = vectorizer([raw_data]).numpy()\n",
        "    self.text_as_int = [y for x in temp for y in x]\n",
        "    self.text_in_tokens = [self.idx2word[i] for i in self.text_as_int]\n",
        "\n",
        "  # We clean up the text as well, keep only the characters listed\n",
        "  def __get_vocab_from_input_file(self, file_name, max_tokens):\n",
        "    samples = self.__get_list_of_strings_from_file(file_name)\n",
        "    # join each line with a EOS token (which will likely map to unknown word)\n",
        "    joined_samples = ' '.join(samples)\n",
        "    # We only want to include common characters\n",
        "    PERMITTED_CHARS = \"0123456789abcdefghijklmnopqrstuvwxyzABCDEFGHIJKLMNOPQRSTUVWXYZ_- .,:;!?'\" \n",
        "    joined_samples = \"\".join(c for c in joined_samples if c in PERMITTED_CHARS)\n",
        "\n",
        "    # if we set a limit, truncate it here \n",
        "    # this is useful when we want to compare text of different lenth\n",
        "    if (self.limit_text_size > 0):\n",
        "        joined_samples = joined_samples[:self.limit_text_size]\n",
        "    self.__create_vocab(joined_samples, max_tokens)\n"
      ],
      "execution_count": 4,
      "outputs": []
    },
    {
      "cell_type": "code",
      "metadata": {
        "id": "8kGJ-930gOuk"
      },
      "source": [
        "# This loads pretrained gloVe.6B embedding and create an embedding matrix for our vocab\n",
        "class PretrainedEmbedding():\n",
        "  def __init__(self, embedding_dim, vocab_class):\n",
        "        self.embedding_dim = embedding_dim\n",
        "        self.my_vocab = vocab_class\n",
        "        if embedding_dim > 0:\n",
        "          self.embedding_matrix = self.__create_embedding_matrix(embedding_dim, vocab_class)\n",
        "        else:\n",
        "          self.embedding_matrix = None\n",
        "\n",
        "  # This function expects the embedding_dim of 50, 100, 200 or 300\n",
        "  # No error checking of the dimension, will \n",
        "  def __create_embedding_matrix(self, embedding_dim, vocab):\n",
        "    # Load the embedding files \n",
        "    path_to_glove_file =  DATA_DIR+\"glove.6B.\"+str(embedding_dim)+\"d.txt\"\n",
        "    embeddings_index = {}\n",
        "    with open(path_to_glove_file) as f:\n",
        "        for line in f:\n",
        "            word, coefs = line.split(maxsplit=1)\n",
        "            coefs = np.fromstring(coefs, \"f\", sep=\" \")\n",
        "            embeddings_index[word] = coefs\n",
        "    print(\"Found %s word vectors.\" % len(embeddings_index))\n",
        "\n",
        "    num_tokens = vocab.vocab_size + 2\n",
        "    self.hits = 0\n",
        "    self.misses = 0\n",
        "    self.missed_words = [] # for debugged\n",
        "    self.hit_words = []  # for debugged\n",
        "\n",
        "    # Prepare embedding matrix\n",
        "    embedding_matrix = np.zeros((num_tokens, embedding_dim))\n",
        "    for word, i in vocab.word2idx.items():\n",
        "        embedding_vector = embeddings_index.get(word)\n",
        "        if embedding_vector is not None:\n",
        "            # Words not found in embedding index will be all-zeros.\n",
        "            # This includes the representation for \"padding\" and \"OOV\"\n",
        "            embedding_matrix[i] = embedding_vector\n",
        "            self.hits += 1\n",
        "            self.hit_words.append(word)\n",
        "        else:\n",
        "            self.misses += 1\n",
        "            #print(word)\n",
        "            self.missed_words.append(word)\n",
        "    print(\"Converted %d words (%d misses) in the embedding\" % (self.hits, self.misses))\n",
        "    return embedding_matrix"
      ],
      "execution_count": 5,
      "outputs": []
    },
    {
      "cell_type": "code",
      "metadata": {
        "id": "7V8l57-ZoD1j"
      },
      "source": [
        "# This class creates everything (vocab, embedding, datasets)\n",
        "# It is mean for us to easily generate datasets using a filename \n",
        "class TextDataset:\n",
        "  def __init__(self, \n",
        "           text_file_path, # specify where the text file is\n",
        "           limit_text_size,# This limit the amount of text (in char) we use from input text file (after parsed)\n",
        "           max_tokens,     # max words in to be kept in vocab\n",
        "           embedding_dim,  # embedding dimension (matching the glove pretrained embedding dimension) \n",
        "           max_seq_len,    # max size of each sequence \n",
        "           validation_split, # size of validation samples wrt the total\n",
        "           batch_size        # batch size for training\n",
        "           ):\n",
        "    \n",
        "    self.text_file_path = text_file_path\n",
        "    self.max_tokens = max_tokens\n",
        "    self.embedding_dim = embedding_dim\n",
        "    self.max_seq_len = max_seq_len\n",
        "    self.validation_split = validation_split\n",
        "    self.batch_size = batch_size\n",
        "    self.limit_text_size = limit_text_size\n",
        "\n",
        "    # Generate all vocab (including embedding) and train/test datasets\n",
        "    self.generate_vocab_embedding_dataset()\n",
        "\n",
        "  # creating tn input and target text by shifting one word to the left \n",
        "  # for X, drop the last word\n",
        "  # for Y, drop the first word \n",
        "  def __split_input_target(self, chunk):\n",
        "      input_text = chunk[:-1]\n",
        "      target_text = chunk[1:]\n",
        "      return input_text, target_text\n",
        "\n",
        "  #create train test split assemble into different datasets of batch size \n",
        "  def __create_train_val_datasets(self, vocab_class, max_seq_len, validation_split, batch_size):\n",
        "\n",
        "      raw_data_tokens = vocab_class.text_as_int\n",
        "      seq_length = max_seq_len\n",
        "      total_tokens = len(raw_data_tokens)\n",
        "      #print(\"total_tokens:\", total_tokens)\n",
        "      examples_per_epoch = total_tokens//(seq_length+1)\n",
        "      #print(\"examples_per_epoch\", examples_per_epoch)\n",
        "\n",
        "      # Create training examples / targets\n",
        "      word_dataset = tf.data.Dataset.from_tensor_slices(raw_data_tokens)\n",
        "      sequences = word_dataset.batch(seq_length+1, drop_remainder=True)\n",
        "\n",
        "      # for each sequence, we construct the input and target sets (i.e., X, Y)\n",
        "      dataset = sequences.map(self.__split_input_target)\n",
        "\n",
        "      print(\"\\ndataset size:\", dataset.cardinality().numpy())\n",
        "\n",
        "      BUFFER_SIZE = 10000\n",
        "      RANDOM_SEED = 123 \n",
        "      # shuffle the dataset before we split into train test\n",
        "      dataset = dataset.shuffle(BUFFER_SIZE, seed=RANDOM_SEED)\n",
        "\n",
        "      # split the dataset into train and test\n",
        "      total_size =  dataset.cardinality().numpy()\n",
        "      num_validation_samples = int(validation_split * total_size)\n",
        "      num_train_samples = total_size - num_validation_samples\n",
        "      print(\"num_validation_samples:\", num_validation_samples)\n",
        "      \n",
        "      dataset_train = dataset.take(num_train_samples) \n",
        "      dataset_val = dataset.skip(num_train_samples)\n",
        "\n",
        "      print(\"dataset_train size:\", dataset_train.cardinality().numpy())\n",
        "      print(\"dataset_val size:\", dataset_val.cardinality().numpy())\n",
        "\n",
        "      # for debug\n",
        "      # for input_example, target_example in dataset_val.take(1):\n",
        "      #   print(input_example)\n",
        "      #   print(target_example)\n",
        "      #   print('Input data: ', repr(' '.join(vocab_class.idx2word[input_example.numpy()])))\n",
        "      #   print('Target data:', repr(' '.join(vocab_class.idx2word[target_example.numpy()])))\n",
        "\n",
        "      dataset_train = dataset_train.shuffle(BUFFER_SIZE).batch(batch_size, drop_remainder=True)\n",
        "      dataset_val = dataset_val.shuffle(BUFFER_SIZE).batch(batch_size, drop_remainder=True)\n",
        "      print(\"dataset_train batch size:\", dataset_train.cardinality().numpy())\n",
        "      print(\"dataset_val batch size:\", dataset_val.cardinality().numpy())\n",
        "\n",
        "      return dataset_train, dataset_val\n",
        "\n",
        "  # This simplify the process of creating vocab+embedding+dataset for testing models\n",
        "  def generate_vocab_embedding_dataset(self):\n",
        "\n",
        "    # First create the vocab\n",
        "    self.my_vocab = VocabClass(self.text_file_path, self.max_tokens, self.limit_text_size)\n",
        "\n",
        "    # Create the embedding_matrix based on glove pretrain embedding of the specified dimension\n",
        "    self.embedding = PretrainedEmbedding(self.embedding_dim, self.my_vocab)        \n",
        "\n",
        "    # Now create the dataset \n",
        "    self.dataset_train, self.dataset_val = self.__create_train_val_datasets(self.my_vocab, self.max_seq_len, self.validation_split, self.batch_size )\n"
      ],
      "execution_count": 6,
      "outputs": []
    },
    {
      "cell_type": "markdown",
      "metadata": {
        "id": "rOyZFRSy1blL"
      },
      "source": [
        "The following are classes and utilities for model training and experiments.\n"
      ]
    },
    {
      "cell_type": "code",
      "metadata": {
        "id": "RELrdjzva7-a"
      },
      "source": [
        "# This has to be outside of classes, as it is called by others which will have no self object passed in \n",
        "def loss(labels, logits):\n",
        "  return tf.keras.losses.sparse_categorical_crossentropy(labels, logits, from_logits=True)\n",
        "\n",
        "# This class will build the model, train and set up the predict model for us to generate text later. \n",
        "class Experiment():\n",
        "  def __init__(self,     \n",
        "                   experiment_name,\n",
        "                   training_param_dict,\n",
        "                   embedding_dim, \n",
        "                   embedding_matrix, # if we don't pass in any, will use the untrained embedding (that is fully trainable)\n",
        "                   embedding_trainable, # if we pass in embedding_matrix, do we want it to be trainable? N/A if embedding_matrix is None\n",
        "                   dataset_class): \n",
        "\n",
        "    self.name = experiment_name\n",
        "    self.vocab_size = dataset_class.my_vocab.vocab_size\n",
        "    # passing in the training parameters in a dictionary so that we don't have to modify method signature when we decide to\n",
        "    # change model type or add/delete parameters\n",
        "    self.training_param_dict = training_param_dict\n",
        "    self.embedding_dim = embedding_dim\n",
        "    self.embedding_matrix = embedding_matrix\n",
        "    self.embedding_trainable = embedding_trainable\n",
        "    self.dataset_class = dataset_class\n",
        "\n",
        "    print(\"dataset_train batch size:\", dataset_class.dataset_train.cardinality().numpy())\n",
        "    print(\"dataset_val batch size:\", dataset_class.dataset_val.cardinality().numpy())\n",
        "\n",
        "  # private class for building models \n",
        "  def __build_model(self, vocab_size, embedding_dim, num_lstm_layer, rnn_units, batch_size, dropout, embedding_matrix=None, embedding_trainable=False):\n",
        "\n",
        "    # print(\"rnn_units:\",rnn_units)\n",
        "    # print(\"embedding_dim:\",embedding_dim)\n",
        "    # print(\"num_lstm_layer:\",num_lstm_layer)\n",
        "    # print(\"batch_size:\",batch_size)\n",
        "    # print(\"dropout:\",dropout)\n",
        "    # print(\"embedding_trainable:\",embedding_trainable)\n",
        "\n",
        "    model = tf.keras.Sequential()\n",
        "    if (embedding_matrix is None):\n",
        "      # not passing in any embedding \n",
        "      # print(\"adding default_embedding...\")\n",
        "      model.add(tf.keras.layers.Embedding(vocab_size+2, \n",
        "                                          embedding_dim,\n",
        "                                          batch_input_shape=[batch_size, None], \n",
        "                                          name=\"empty-embedding\"))\n",
        "    else:\n",
        "      print(embedding_matrix.shape)\n",
        "      model.add(tf.keras.layers.Embedding(\n",
        "                            vocab_size+2, \n",
        "                            embedding_dim,\n",
        "                            embeddings_initializer=keras.initializers.Constant(embedding_matrix),\n",
        "                            batch_input_shape=[batch_size, None],\n",
        "                            trainable=embedding_trainable, name=\"pretrained-embedding\"))\n",
        "\n",
        "    for i in range(num_lstm_layer):\n",
        "        # we add drop out before the LSTM \n",
        "        # if (dropout):\n",
        "        #     model.add(tf.keras.layers.Dropout(dropout))\n",
        "        model.add(tf.keras.layers.LSTM(rnn_units, return_sequences=True))\n",
        "        if (dropout):\n",
        "          model.add(tf.keras.layers.Dropout(dropout))\n",
        "\n",
        "    # Last layer is Dense layer \n",
        "    model.add(tf.keras.layers.Dense(vocab_size))\n",
        "    return model\n",
        "\n",
        "  # This allows us to start the initial runs of a model or continue training the previous model for additional epoch\n",
        "  def run_experiment(self,\n",
        "                    memo_string, # for display only\n",
        "                    prev_result,  # if we want to continue training from previous run, pass in the previous result\n",
        "                    epoch ): \n",
        "\n",
        "    experiment_result = {}\n",
        "    experiment_result['training_param'] = self.training_param_dict\n",
        "    experiment_result['max_seq_len'] = self.dataset_class.max_seq_len \n",
        "    experiment_result['memo'] = self.name +\":\" + memo_string\n",
        "\n",
        "    print(f\"Running {experiment_result['memo']}...\\n\")\n",
        "    # Directory where the checkpoints will be saved (want to use a diff directory each time we run)\n",
        "    today_str = datetime.datetime.strftime(datetime.datetime.today(), '%m-%d-%H:%M')\n",
        "    checkpoint_dir = './training_checkpoints_'+today_str\n",
        "    print(\"checkpoint_dir:\", checkpoint_dir)\n",
        "    # Store the checkpoint dir name for later \n",
        "    experiment_result['checkpoint_dir'] = checkpoint_dir\n",
        "    # Name of the checkpoint files\n",
        "    checkpoint_prefix = os.path.join(checkpoint_dir, \"ckpt_{epoch}\")\n",
        "\n",
        "    checkpoint_callback = tf.keras.callbacks.ModelCheckpoint(\n",
        "        filepath=checkpoint_prefix,\n",
        "        save_weights_only=True)\n",
        "\n",
        "    # We allow the experiment to be continued from a previously trained model by passing in the \n",
        "    # model and we will run additional epoch as specified\n",
        "    if (prev_result is None):\n",
        "        my_model = self.__build_model(\n",
        "            vocab_size=self.vocab_size,\n",
        "            embedding_dim=self.embedding_dim,\n",
        "            num_lstm_layer=self.training_param_dict['lstm_layer'],\n",
        "            rnn_units=self.training_param_dict['rnn_units'],\n",
        "            batch_size=self.dataset_class.batch_size,\n",
        "            dropout=self.training_param_dict['dropout'],\n",
        "            embedding_matrix=self.embedding_matrix,\n",
        "            embedding_trainable=self.embedding_trainable\n",
        "            )\n",
        "        \n",
        "        my_model.compile(loss=loss, optimizer='adam', metrics=['accuracy']) \n",
        "        my_model.summary()\n",
        "    else:\n",
        "        print(\"Passing in prev_model... continue training\")\n",
        "        print(prev_result['model'])\n",
        "        my_model = prev_result['model'] \n",
        "        # my_model.summary()\n",
        "        # continue training \n",
        "\n",
        "    # For testing logic - switch to this when we want to test with small datasets\n",
        "    # Train with small batch when we want to test the logic of the code \n",
        "    # temp_result = my_model.fit(self.dataset_class.dataset_train.take(10), \n",
        "    #                                             epochs=epoch, \n",
        "    #                                             batch_size=self.dataset_class.batch_size, \n",
        "    #                                             validation_data=self.dataset_class.dataset_val.take(10), \n",
        "    #                                             callbacks=[checkpoint_callback])\n",
        "    temp_result = my_model.fit(self.dataset_class.dataset_train, \n",
        "                                                epochs=epoch, \n",
        "                                                batch_size=self.dataset_class.batch_size, \n",
        "                                                validation_data=self.dataset_class.dataset_val, \n",
        "                                                callbacks=[checkpoint_callback])\n",
        "    \n",
        "    if (prev_result is not None):\n",
        "      # we will concat the results so that all epochs can be shown in one graph\n",
        "      history = {}\n",
        "      h1 = prev_result['history'].history\n",
        "      h2 = temp_result.history\n",
        "      for key in h1.keys():\n",
        "        #print(key)\n",
        "        history[key] = h1[key] + h2[key]\n",
        "      temp_result.history = history\n",
        "      print(temp_result)\n",
        "    \n",
        "    experiment_result['history'] = temp_result\n",
        "    experiment_result['model'] = my_model\n",
        "    self.model = my_model\n",
        "    print(f\"Done {epoch} epoch.\")\n",
        "\n",
        "    # change the batch size for prediction\n",
        "    model_predict = self.__build_model(\n",
        "      self.vocab_size,\n",
        "      embedding_dim=self.embedding_dim,\n",
        "      num_lstm_layer=self.training_param_dict['lstm_layer'],\n",
        "      rnn_units=self.training_param_dict['rnn_units'],\n",
        "      batch_size=1,\n",
        "      dropout=self.training_param_dict['dropout']\n",
        "      )\n",
        "      \n",
        "    model_predict.load_weights(tf.train.latest_checkpoint(checkpoint_dir)).expect_partial()\n",
        "    model_predict.build(tf.TensorShape([1, None]))\n",
        "    experiment_result['predict'] = model_predict\n",
        "    self.model_predict = model_predict\n",
        "\n",
        "    return experiment_result"
      ],
      "execution_count": 7,
      "outputs": []
    },
    {
      "cell_type": "code",
      "metadata": {
        "id": "ROLNEGPsb_Mb"
      },
      "source": [
        "# This class is for displaying training results.\n",
        "# We will use this to compare different models\n",
        "class ResultsDisplay():\n",
        "\n",
        "  def __init__(self, test_start_string_list):\n",
        "    self.start_string = test_start_string_list\n",
        "\n",
        "  # This function plots loss and accuracy plots side by side input the results from model training\n",
        "  @classmethod\n",
        "  def plot_loss_and_accuracy_graphs(cls, history):\n",
        "\n",
        "    print(\"\\n\")\n",
        "    plt.figure(figsize=(7, 5))\n",
        "\n",
        "    history_d = history.history\n",
        "    if 'val_accuracy' in history_d.keys():\n",
        "      val_acc = history_d['val_accuracy']\n",
        "      val_loss = history_d['val_loss']\n",
        "      val_acc_values = history_d['val_accuracy']\n",
        "      plot_validation = True\n",
        "    else:\n",
        "      plot_validation = False\n",
        "\n",
        "    acc = history_d['accuracy']\n",
        "    loss = history_d['loss']\n",
        "    acc_values = history_d['accuracy']\n",
        "\n",
        "    epochs = range(1, len(acc) + 1)\n",
        "\n",
        "    # \"bo\" is for \"blue dot\"\n",
        "    plt.subplot(1, 2, 1)\n",
        "    plt.plot(epochs, loss, 'b', label='Training loss')\n",
        "    # b is for \"solid blue line\"\n",
        "    if (plot_validation):\n",
        "      plt.plot(epochs, val_loss, 'r', label='Validation loss')\n",
        "      plt.title('Training and validation loss')\n",
        "    else:\n",
        "      plt.title('Training loss')\n",
        "\n",
        "    plt.xlabel('Epochs')\n",
        "    plt.ylabel('Loss')\n",
        "    plt.legend(loc='lower left')\n",
        "\n",
        "    plt.subplot(1, 2, 2)\n",
        "\n",
        "    plt.plot(epochs, acc, 'b', label='Training acc')\n",
        "    if (plot_validation):\n",
        "      plt.plot(epochs, val_acc, 'r', label='Validation acc')\n",
        "      plt.title('Training and validation accuracy')\n",
        "    else:\n",
        "      plt.title('Training accuracy')\n",
        "\n",
        "    plt.xlabel('Epochs')\n",
        "    plt.ylabel('Accuracy')\n",
        "    plt.legend(loc='lower left')\n",
        "    plt.tight_layout()\n",
        "    plt.show()\n",
        "\n",
        "  # This generate texts using the model and start_string and vocabulary\n",
        "  def generate_text(self, model, start_string, vocab_class, word_to_generate):\n",
        "    # Evaluation step (generating text using the learned model)\n",
        "\n",
        "    # Number of characters to generate\n",
        "    num_generate = 0\n",
        "\n",
        "    # Converting our start string to numbers (vectorizing)\n",
        "    vectorizer = vocab_class.vectorizer\n",
        "    input_eval = vectorizer([start_string])\n",
        "    # print(input_eval.shape)\n",
        "    # print(input_eval)\n",
        "    #input_eval = tf.expand_dims(input_eval, 0)\n",
        "\n",
        "    # Empty string to store our results\n",
        "    text_generated = []#\n",
        "\n",
        "    # Low temperature results in more predictable text.\n",
        "    # Higher temperature results in more surprising text.\n",
        "    # Experiment to find the best setting.\n",
        "    temperature = 1.0\n",
        "\n",
        "    # Here batch size = 1\n",
        "    model.reset_states()\n",
        "    while (num_generate < word_to_generate):\n",
        "        predictions = model(input_eval)\n",
        "        # remove the batch dimension\n",
        "        predictions = tf.squeeze(predictions, 0)\n",
        "\n",
        "        # # using a categorical distribution to predict the character returned by the model\n",
        "        predictions = predictions / temperature\n",
        "        predicted_id = tf.random.categorical(predictions, num_samples=1)[-1,0].numpy()\n",
        "\n",
        "        if (predicted_id <2 ):\n",
        "          # try again\n",
        "          continue\n",
        "        \n",
        "        num_generate += 1\n",
        "        # Pass the predicted character as the next input to the model\n",
        "        # along with the previous hidden state\n",
        "        input_eval = tf.expand_dims([predicted_id], 0)\n",
        "        text_generated.append(vocab_class.idx2word[predicted_id])\n",
        "\n",
        "    return (' '.join(text_generated)) \n",
        "\n",
        "  # Use the model to generate some text using the list of start_string\n",
        "  def test_generate_text(self , text_list, model, vocab_class, word_to_generate): \n",
        "    for i, text in enumerate(text_list, start=1):\n",
        "      print(f\"#{i}:  {text}...\")\n",
        "      print(\"        \", self.generate_text(model, start_string=text, vocab_class=vocab_class,  word_to_generate=word_to_generate))\n",
        "      #print(\"\\n\")\n",
        "\n",
        "  # This shows the graph and runs the text generation test \n",
        "  def show_experiment_results(self, result_dict, vocab):   \n",
        "    print(\"Experiment:\", result_dict['memo'])\n",
        "    print(\"training_param:\", result_dict['training_param'])\n",
        "    print(\"max_seq_len:\", result_dict['max_seq_len'])\n",
        "    self.plot_loss_and_accuracy_graphs(result_dict['history'])\n",
        "    self.test_generate_text(self.start_string, result_dict['predict'], vocab, 20)\n"
      ],
      "execution_count": 89,
      "outputs": []
    },
    {
      "cell_type": "markdown",
      "metadata": {
        "id": "TKTKKteK3jhy"
      },
      "source": [
        "# **Experiment 1:** Comparing Datasets\n",
        "\n",
        "We will compare the accuary of running the same model with 2 different datasets, and see which one is better after the same number of epoch.\n",
        "\n",
        "This is to decide which dataset we will to use for other experiments and our final model.  \n",
        "\n",
        "We intentionally make the long news dataset size the same as the short news, so the quantity of the text data is not a factor. \n",
        " \n",
        "We explain the different datasets in the previous notebook (preprosessing)."
      ]
    },
    {
      "cell_type": "markdown",
      "metadata": {
        "id": "X7ZydBX2OMzw"
      },
      "source": [
        "First we load the short news file into sequence of 10 words. We will use max_seq_length of 10 to compare the datasets."
      ]
    },
    {
      "cell_type": "code",
      "metadata": {
        "colab": {
          "base_uri": "https://localhost:8080/"
        },
        "id": "S9_yfyw_OUVo",
        "outputId": "4f16e3fd-bba1-4ea6-e0f3-36d33288e481"
      },
      "source": [
        "VALIDATION_SPLIT = 0.2 \n",
        "BATCH_SIZE = 128 \n",
        "EMBEDDING_DIM = 50 \n",
        "MAX_TOKENS = 20000 # this is fixed to 20K for all tests \n",
        "TEXT_LIMIT = 5800000 # Using this as limit as it is just about the size of the short news text (so we will have both datasets about the same text length)\n",
        "\n",
        "short_news_file_path = DATA_DIR+'short_news_text.txt'\n",
        "short_news_dataset_10seq = TextDataset(short_news_file_path, TEXT_LIMIT, MAX_TOKENS, EMBEDDING_DIM, 10, VALIDATION_SPLIT, BATCH_SIZE)"
      ],
      "execution_count": 33,
      "outputs": [
        {
          "output_type": "stream",
          "text": [
            "Found 190189 word vectors.\n",
            "Converted 18416 words (1584 misses) in the embedding\n",
            "\n",
            "dataset size: 85282\n",
            "num_validation_samples: 17056\n",
            "dataset_train size: 68226\n",
            "dataset_val size: 17056\n",
            "dataset_train batch size: 533\n",
            "dataset_val batch size: 133\n"
          ],
          "name": "stdout"
        }
      ]
    },
    {
      "cell_type": "code",
      "metadata": {
        "colab": {
          "base_uri": "https://localhost:8080/",
          "height": 140
        },
        "id": "HP7nEyV-Ow2H",
        "outputId": "1c8afd7f-3d97-4f2e-b5f9-f198420fc0de"
      },
      "source": [
        "# Show example of news\n",
        "WORD_TO_SHOW = 200\n",
        "# Short news are just a title and a brief description of the news, no full body\n",
        "repr(' '.join(short_news_dataset_10seq.my_vocab.text_in_tokens[:WORD_TO_SHOW]))"
      ],
      "execution_count": null,
      "outputs": [
        {
          "output_type": "execute_result",
          "data": {
            "application/vnd.google.colaboratory.intrinsic+json": {
              "type": "string"
            },
            "text/plain": [
              "\"'there were 2 mass shootings in texas last week but only 1 on tv she left her husband he killed their children just another day in america will smith joins [UNK] and nicky jam for the 2018 world cups official song of course it has a song hugh grant marries for the first time at age 57 the actor and his longtime girlfriend anna [UNK] tied the knot in a civil ceremony jim carrey blasts [UNK] adam schiff and democrats in new artwork the actor gives dems an [UNK] for not fighting hard enough against donald trump [UNK] [UNK] uses donald trump poop bags to pick up after her dog the [UNK] actress said using the bags is a really [UNK] therapeutic moment morgan freeman devastated that sexual harassment claims could undermine legacy it is not right to [UNK] horrific incidents of sexual assault with [UNK] compliments or humor he said in a statement donald trump is lovin new mcdonalds jingle in tonight show bit its catchy all right what to watch on amazon prime thats new this week theres a great miniseries joining this week mike myers reveals hed like to do a fourth austin powers film myers kids'\""
            ]
          },
          "metadata": {
            "tags": []
          },
          "execution_count": 11
        }
      ]
    },
    {
      "cell_type": "markdown",
      "metadata": {
        "id": "PskyJ2ktOFhA"
      },
      "source": [
        "Now we load the long news file with max_seq_length of 10. We will use max_seq_length of 10 to compare the two datasets."
      ]
    },
    {
      "cell_type": "code",
      "metadata": {
        "colab": {
          "base_uri": "https://localhost:8080/"
        },
        "id": "xIxxXKcyOr4W",
        "outputId": "5323a4e4-9661-4ae8-b758-616e5f7b2de0"
      },
      "source": [
        "long_news_file_path = DATA_DIR+'true_news_text.txt'\n",
        "\n",
        "long_news_dataset_10seq = TextDataset(long_news_file_path, TEXT_LIMIT, MAX_TOKENS, EMBEDDING_DIM, 10, VALIDATION_SPLIT, BATCH_SIZE)"
      ],
      "execution_count": 34,
      "outputs": [
        {
          "output_type": "stream",
          "text": [
            "Found 190189 word vectors.\n",
            "Converted 17114 words (2886 misses) in the embedding\n",
            "\n",
            "dataset size: 84478\n",
            "num_validation_samples: 16895\n",
            "dataset_train size: 67583\n",
            "dataset_val size: 16895\n",
            "dataset_train batch size: 527\n",
            "dataset_val batch size: 131\n"
          ],
          "name": "stdout"
        }
      ]
    },
    {
      "cell_type": "code",
      "metadata": {
        "colab": {
          "base_uri": "https://localhost:8080/",
          "height": 140
        },
        "id": "kx-vVkG0RRCM",
        "outputId": "14cef605-6a03-41d2-f12f-0cd55a999a16"
      },
      "source": [
        "# Show the body of the long news text\n",
        "repr(' '.join(long_news_dataset_10seq.my_vocab.text_in_tokens[:WORD_TO_SHOW]))"
      ],
      "execution_count": null,
      "outputs": [
        {
          "output_type": "execute_result",
          "data": {
            "application/vnd.google.colaboratory.intrinsic+json": {
              "type": "string"
            },
            "text/plain": [
              "\"'as us budget fight looms republicans flip their fiscal script the head of a conservative republican faction in the us congress who voted this month for a huge expansion of the national debt to pay for tax cuts called himself a fiscal conservative on sunday and urged budget restraint in 2018 in keeping with a sharp pivot under way among republicans us representative mark meadows speaking on cbs face the nation drew a hard line on federal spending which lawmakers are bracing to do battle over in january when they return from the holidays on wednesday lawmakers will begin trying to pass a federal budget in a fight likely to be linked to other issues such as immigration policy even as the november congressional election campaigns approach in which republicans will seek to keep control of congress president donald trump and his republicans want a big budget increase in military spending while democrats also want proportional increases for nondefense discretionary spending on programs that support education scientific research infrastructure public health and environmental protection the trump administration has already been willing to say were going to increase nondefense discretionary spending by about 7 percent meadows chairman of the small but'\""
            ]
          },
          "metadata": {
            "tags": []
          },
          "execution_count": 13
        }
      ]
    },
    {
      "cell_type": "code",
      "metadata": {
        "id": "V0wYDL8DGeW9"
      },
      "source": [
        ""
      ],
      "execution_count": null,
      "outputs": []
    },
    {
      "cell_type": "markdown",
      "metadata": {
        "id": "nuLOdWrjPXFC"
      },
      "source": [
        "Now comparing the two datasets, training with the same parameters.\n"
      ]
    },
    {
      "cell_type": "code",
      "metadata": {
        "colab": {
          "base_uri": "https://localhost:8080/"
        },
        "id": "6A6ESA4oPSg_",
        "outputId": "3bd52a2c-6b63-481a-f2fb-043b8b74135e"
      },
      "source": [
        "# Running the test on short news dataset\n",
        "RNN_UNITS = 256\n",
        "DROPOUT = 0.1\n",
        "LSTM_LAYER = 1\n",
        "my_training_param = {'rnn_units' : RNN_UNITS,\n",
        "                     'dropout'   : DROPOUT,\n",
        "                     'lstm_layer': LSTM_LAYER}\n",
        "\n",
        "short_news_experiment_10seq = Experiment(\n",
        "                   \"short news str len 10 no pretrained embedding \",\n",
        "                   my_training_param,\n",
        "                   EMBEDDING_DIM, \n",
        "                   None, # if we don't pass in any, will use the untrained embedding (that is fully trainable)\n",
        "                   True, # if we pass in embedding_matrix, do we want it to be trainable \n",
        "                   short_news_dataset_10seq)\n",
        "\n",
        "EPOCH = 20\n",
        "short_news_result_10seq  = short_news_experiment_10seq.run_experiment(\n",
        "                          f\"Test first {EPOCH} epoch\",\n",
        "                          None,  # if we want to continue training from previous run, pass in the model \n",
        "                          EPOCH ) "
      ],
      "execution_count": null,
      "outputs": [
        {
          "output_type": "stream",
          "text": [
            "dataset_train batch size: 533\n",
            "dataset_val batch size: 133\n",
            "Running short news str len 10 no pretrained embedding :Test first 20 epoch...\n",
            "\n",
            "checkpoint_dir: ./training_checkpoints_12-01-03:12\n",
            "Model: \"sequential\"\n",
            "_________________________________________________________________\n",
            "Layer (type)                 Output Shape              Param #   \n",
            "=================================================================\n",
            "empty-embedding (Embedding)  (128, None, 50)           1000100   \n",
            "_________________________________________________________________\n",
            "lstm (LSTM)                  (128, None, 256)          314368    \n",
            "_________________________________________________________________\n",
            "dropout (Dropout)            (128, None, 256)          0         \n",
            "_________________________________________________________________\n",
            "dense (Dense)                (128, None, 20000)        5140000   \n",
            "=================================================================\n",
            "Total params: 6,454,468\n",
            "Trainable params: 6,454,468\n",
            "Non-trainable params: 0\n",
            "_________________________________________________________________\n",
            "Epoch 1/20\n",
            "533/533 [==============================] - ETA: 0s - loss: 7.6919 - accuracy: 0.0464WARNING:tensorflow:Callbacks method `on_test_batch_end` is slow compared to the batch time (batch time: 0.0030s vs `on_test_batch_end` time: 0.0334s). Check your callbacks.\n",
            "533/533 [==============================] - 37s 70ms/step - loss: 7.6919 - accuracy: 0.0464 - val_loss: 7.3334 - val_accuracy: 0.0505\n",
            "Epoch 2/20\n",
            "533/533 [==============================] - 37s 69ms/step - loss: 7.2204 - accuracy: 0.0660 - val_loss: 7.0629 - val_accuracy: 0.0748\n",
            "Epoch 3/20\n",
            "533/533 [==============================] - 37s 69ms/step - loss: 7.0018 - accuracy: 0.0785 - val_loss: 6.9021 - val_accuracy: 0.0829\n",
            "Epoch 4/20\n",
            "533/533 [==============================] - 37s 69ms/step - loss: 6.8264 - accuracy: 0.0866 - val_loss: 6.7439 - val_accuracy: 0.0915\n",
            "Epoch 5/20\n",
            "533/533 [==============================] - 37s 69ms/step - loss: 6.6611 - accuracy: 0.0950 - val_loss: 6.6202 - val_accuracy: 0.0997\n",
            "Epoch 6/20\n",
            "533/533 [==============================] - 37s 69ms/step - loss: 6.5170 - accuracy: 0.1031 - val_loss: 6.5147 - val_accuracy: 0.1081\n",
            "Epoch 7/20\n",
            "533/533 [==============================] - 37s 69ms/step - loss: 6.3787 - accuracy: 0.1124 - val_loss: 6.4169 - val_accuracy: 0.1162\n",
            "Epoch 8/20\n",
            "533/533 [==============================] - 37s 70ms/step - loss: 6.2538 - accuracy: 0.1194 - val_loss: 6.3437 - val_accuracy: 0.1226\n",
            "Epoch 9/20\n",
            "533/533 [==============================] - 37s 69ms/step - loss: 6.1374 - accuracy: 0.1263 - val_loss: 6.2756 - val_accuracy: 0.1276\n",
            "Epoch 10/20\n",
            "533/533 [==============================] - 37s 69ms/step - loss: 6.0327 - accuracy: 0.1317 - val_loss: 6.2209 - val_accuracy: 0.1319\n",
            "Epoch 11/20\n",
            "533/533 [==============================] - 37s 69ms/step - loss: 5.9295 - accuracy: 0.1365 - val_loss: 6.1717 - val_accuracy: 0.1356\n",
            "Epoch 12/20\n",
            "533/533 [==============================] - 37s 69ms/step - loss: 5.8358 - accuracy: 0.1405 - val_loss: 6.1281 - val_accuracy: 0.1376\n",
            "Epoch 13/20\n",
            "533/533 [==============================] - 37s 69ms/step - loss: 5.7446 - accuracy: 0.1449 - val_loss: 6.1038 - val_accuracy: 0.1406\n",
            "Epoch 14/20\n",
            "533/533 [==============================] - 37s 69ms/step - loss: 5.6559 - accuracy: 0.1483 - val_loss: 6.0732 - val_accuracy: 0.1428\n",
            "Epoch 15/20\n",
            "533/533 [==============================] - 37s 69ms/step - loss: 5.5744 - accuracy: 0.1525 - val_loss: 6.0458 - val_accuracy: 0.1457\n",
            "Epoch 16/20\n",
            "533/533 [==============================] - 37s 70ms/step - loss: 5.4933 - accuracy: 0.1559 - val_loss: 6.0193 - val_accuracy: 0.1478\n",
            "Epoch 17/20\n",
            "533/533 [==============================] - 37s 69ms/step - loss: 5.4179 - accuracy: 0.1596 - val_loss: 6.0060 - val_accuracy: 0.1486\n",
            "Epoch 18/20\n",
            "533/533 [==============================] - 37s 69ms/step - loss: 5.3452 - accuracy: 0.1633 - val_loss: 5.9875 - val_accuracy: 0.1510\n",
            "Epoch 19/20\n",
            "533/533 [==============================] - 37s 69ms/step - loss: 5.2730 - accuracy: 0.1676 - val_loss: 5.9740 - val_accuracy: 0.1522\n",
            "Epoch 20/20\n",
            "533/533 [==============================] - 37s 69ms/step - loss: 5.2075 - accuracy: 0.1712 - val_loss: 5.9672 - val_accuracy: 0.1539\n",
            "Done 20 epoch.\n"
          ],
          "name": "stdout"
        }
      ]
    },
    {
      "cell_type": "code",
      "metadata": {
        "colab": {
          "base_uri": "https://localhost:8080/"
        },
        "id": "HO-jZ3lmVhq7",
        "outputId": "2045eba5-8401-4316-cb41-407b77f0995c"
      },
      "source": [
        "# Running the test on long news dataset\n",
        "long_news_experiment_10seq = Experiment(\n",
        "                   \"str len 10 no pretrained embedding\",\n",
        "                   my_training_param,\n",
        "                   EMBEDDING_DIM, \n",
        "                   None, # if we don't pass in any, will use the untrained embedding (that is fully trainable)\n",
        "                   True, # if we pass in embedding_matrix, do we want it to be trainable \n",
        "                   long_news_dataset_10seq)\n",
        "\n",
        "EPOCH = 20\n",
        "long_news_result_10seq  = long_news_experiment_10seq.run_experiment(\n",
        "                          f\"Test first {EPOCH} epoch\",\n",
        "                          None,  # if we want to continue training from previous run, pass in the model \n",
        "                          EPOCH ) "
      ],
      "execution_count": null,
      "outputs": [
        {
          "output_type": "stream",
          "text": [
            "dataset_train batch size: 527\n",
            "dataset_val batch size: 131\n",
            "Running str len 10 no pretrained embedding:Test first 20 epoch...\n",
            "\n",
            "checkpoint_dir: ./training_checkpoints_12-01-03:24\n",
            "Model: \"sequential_2\"\n",
            "_________________________________________________________________\n",
            "Layer (type)                 Output Shape              Param #   \n",
            "=================================================================\n",
            "empty-embedding (Embedding)  (128, None, 50)           1000100   \n",
            "_________________________________________________________________\n",
            "lstm_2 (LSTM)                (128, None, 256)          314368    \n",
            "_________________________________________________________________\n",
            "dropout_2 (Dropout)          (128, None, 256)          0         \n",
            "_________________________________________________________________\n",
            "dense_2 (Dense)              (128, None, 20000)        5140000   \n",
            "=================================================================\n",
            "Total params: 6,454,468\n",
            "Trainable params: 6,454,468\n",
            "Non-trainable params: 0\n",
            "_________________________________________________________________\n",
            "Epoch 1/20\n",
            "526/527 [============================>.] - ETA: 0s - loss: 7.3344 - accuracy: 0.0570WARNING:tensorflow:Callbacks method `on_test_batch_end` is slow compared to the batch time (batch time: 0.0036s vs `on_test_batch_end` time: 0.0317s). Check your callbacks.\n",
            "527/527 [==============================] - 37s 70ms/step - loss: 7.3337 - accuracy: 0.0570 - val_loss: 7.0263 - val_accuracy: 0.0569\n",
            "Epoch 2/20\n",
            "527/527 [==============================] - 36s 69ms/step - loss: 6.7387 - accuracy: 0.0768 - val_loss: 6.6061 - val_accuracy: 0.0945\n",
            "Epoch 3/20\n",
            "527/527 [==============================] - 36s 69ms/step - loss: 6.3351 - accuracy: 0.1050 - val_loss: 6.2854 - val_accuracy: 0.1174\n",
            "Epoch 4/20\n",
            "527/527 [==============================] - 37s 70ms/step - loss: 6.0376 - accuracy: 0.1248 - val_loss: 6.0863 - val_accuracy: 0.1323\n",
            "Epoch 5/20\n",
            "527/527 [==============================] - 37s 69ms/step - loss: 5.8304 - accuracy: 0.1393 - val_loss: 5.9502 - val_accuracy: 0.1434\n",
            "Epoch 6/20\n",
            "527/527 [==============================] - 36s 69ms/step - loss: 5.6642 - accuracy: 0.1519 - val_loss: 5.8278 - val_accuracy: 0.1543\n",
            "Epoch 7/20\n",
            "527/527 [==============================] - 36s 69ms/step - loss: 5.5181 - accuracy: 0.1632 - val_loss: 5.7451 - val_accuracy: 0.1622\n",
            "Epoch 8/20\n",
            "527/527 [==============================] - 36s 69ms/step - loss: 5.3880 - accuracy: 0.1726 - val_loss: 5.6684 - val_accuracy: 0.1699\n",
            "Epoch 9/20\n",
            "527/527 [==============================] - 36s 69ms/step - loss: 5.2675 - accuracy: 0.1814 - val_loss: 5.5924 - val_accuracy: 0.1767\n",
            "Epoch 10/20\n",
            "527/527 [==============================] - 36s 68ms/step - loss: 5.1604 - accuracy: 0.1885 - val_loss: 5.5366 - val_accuracy: 0.1809\n",
            "Epoch 11/20\n",
            "527/527 [==============================] - 36s 68ms/step - loss: 5.0610 - accuracy: 0.1946 - val_loss: 5.4833 - val_accuracy: 0.1853\n",
            "Epoch 12/20\n",
            "527/527 [==============================] - 36s 69ms/step - loss: 4.9652 - accuracy: 0.2010 - val_loss: 5.4422 - val_accuracy: 0.1896\n",
            "Epoch 13/20\n",
            "527/527 [==============================] - 37s 69ms/step - loss: 4.8786 - accuracy: 0.2062 - val_loss: 5.4120 - val_accuracy: 0.1919\n",
            "Epoch 14/20\n",
            "527/527 [==============================] - 37s 71ms/step - loss: 4.7969 - accuracy: 0.2111 - val_loss: 5.3728 - val_accuracy: 0.1969\n",
            "Epoch 15/20\n",
            "527/527 [==============================] - 37s 70ms/step - loss: 4.7197 - accuracy: 0.2160 - val_loss: 5.3441 - val_accuracy: 0.1985\n",
            "Epoch 16/20\n",
            "527/527 [==============================] - 37s 70ms/step - loss: 4.6490 - accuracy: 0.2204 - val_loss: 5.3150 - val_accuracy: 0.2011\n",
            "Epoch 17/20\n",
            "527/527 [==============================] - 37s 71ms/step - loss: 4.5795 - accuracy: 0.2257 - val_loss: 5.2948 - val_accuracy: 0.2042\n",
            "Epoch 18/20\n",
            "527/527 [==============================] - 37s 71ms/step - loss: 4.5114 - accuracy: 0.2304 - val_loss: 5.2787 - val_accuracy: 0.2065\n",
            "Epoch 19/20\n",
            "527/527 [==============================] - 37s 71ms/step - loss: 4.4516 - accuracy: 0.2354 - val_loss: 5.2569 - val_accuracy: 0.2093\n",
            "Epoch 20/20\n",
            "527/527 [==============================] - 37s 71ms/step - loss: 4.3932 - accuracy: 0.2397 - val_loss: 5.2444 - val_accuracy: 0.2106\n",
            "Done 20 epoch.\n"
          ],
          "name": "stdout"
        }
      ]
    },
    {
      "cell_type": "markdown",
      "metadata": {
        "id": "idh0GpKuT5sl"
      },
      "source": [
        "Here we show why we are limiting the vocabulary size (max_tokens) to 20K. The actual vocab in the long news text is only 26207, so using 30K vocab is pointless (since it increase the required resources during training). \n",
        "\n",
        "Also we show that even if we increase the max_token to 25K, the additional words contributed a significant portion of the missed words (which will be mapped to Unknown words)."
      ]
    },
    {
      "cell_type": "code",
      "metadata": {
        "colab": {
          "base_uri": "https://localhost:8080/"
        },
        "id": "HgLDPYpjGz3k",
        "outputId": "f0ae911b-af3e-4ce9-ee4c-dc35b5c04d65"
      },
      "source": [
        "# Show increasing the max_tokens (vocab size) does not porportionally increase the ones we will use in the training (most will be mapped to unknown)\n",
        "t2 = TextDataset(long_news_file_path, TEXT_LIMIT, 30000, EMBEDDING_DIM, 10, VALIDATION_SPLIT, BATCH_SIZE)\n",
        "t2.my_vocab.vocab_size\n",
        "del t2"
      ],
      "execution_count": null,
      "outputs": [
        {
          "output_type": "stream",
          "text": [
            "Found 190189 word vectors.\n",
            "Converted 21214 words (4993 misses) in the embedding\n",
            "\n",
            "dataset size: 84478\n",
            "num_validation_samples: 16895\n",
            "dataset_train size: 67583\n",
            "dataset_val size: 16895\n",
            "dataset_train batch size: 527\n",
            "dataset_val batch size: 131\n"
          ],
          "name": "stdout"
        }
      ]
    },
    {
      "cell_type": "code",
      "metadata": {
        "colab": {
          "base_uri": "https://localhost:8080/"
        },
        "id": "bC6meWm4Hcxn",
        "outputId": "7653b1b6-137c-476d-8ad9-46479f2ef30a"
      },
      "source": [
        "# Show increasing the max_tokens (vocab size) does not porportionally increase the ones we will use in the training (most will be mapped to unknown)\n",
        "t3 = TextDataset(long_news_file_path, TEXT_LIMIT, 25000, EMBEDDING_DIM, 10, VALIDATION_SPLIT, BATCH_SIZE)\n",
        "t3.my_vocab.vocab_size\n",
        "del t3"
      ],
      "execution_count": null,
      "outputs": [
        {
          "output_type": "stream",
          "text": [
            "Found 190189 word vectors.\n",
            "Converted 20617 words (4383 misses) in the embedding\n",
            "\n",
            "dataset size: 84478\n",
            "num_validation_samples: 16895\n",
            "dataset_train size: 67583\n",
            "dataset_val size: 16895\n",
            "dataset_train batch size: 527\n",
            "dataset_val batch size: 131\n"
          ],
          "name": "stdout"
        }
      ]
    },
    {
      "cell_type": "markdown",
      "metadata": {
        "id": "DzRdxASwXiDP"
      },
      "source": [
        "## **Result:** \n",
        "\n",
        "The long news dataset performs better (with max_seq_len=10). So we will proceed the rest of the experiments with long news dataset.\n",
        "\n",
        "We are keeping the number of tokens (vocab max) as 20K because using addiitonal ones slow down the training and yet it does not porportianlly increase the match with the words in the pretrained embeddings. Using 20K max_tokens, we have 2886 missed words (words do not exist in the pretrained embedding), and when we have 25K max_tokens, the misses increase to 4383 (The additional 5K words have high percentage of missed words, so not worth adding the cost of having extra 5K in the vocabulary size. "
      ]
    },
    {
      "cell_type": "code",
      "metadata": {
        "id": "KH9_NV2etoWN"
      },
      "source": [
        "# delete not needed data to free up memory\n",
        "del short_news_dataset_10seq"
      ],
      "execution_count": null,
      "outputs": []
    },
    {
      "cell_type": "markdown",
      "metadata": {
        "id": "c7R0kv6SXNcG"
      },
      "source": [
        "# **Experiment 2:** Comparing max sequence length\n",
        "\n",
        "Max sequence length specifies the maximum number of words in each training sequence, it is how we chop the long text into chunks of the maximum sequence length (The last chunk that is < max_seq_lenth will be dropped).\n",
        "\n",
        "We want to run this experiment using a max_sequence_len of 10, 20 and 30. \n",
        "\n",
        "Option 1: With max_seq_len=10 (we have already performed this run in the previous experiment, so no need to run again)\n",
        "\n",
        "Option 2: With max_seq_len=20\n",
        "\n",
        "Option 3: With max_seq_len=30\n",
        "\n",
        "The way we run this experiment is training with different datasets that is generated using different max_seq_len when we set up the sequence. The different datasets are:\n",
        "\n",
        "* long_news_dataset_10seq\n",
        "* long_news_dataset_20seq\n",
        "* long_news_dataset_30seq\n"
      ]
    },
    {
      "cell_type": "markdown",
      "metadata": {
        "id": "RsjooIRTX9XG"
      },
      "source": [
        "We will need to create another 2 datasets, one for max_seq_len=20 and another for max_seq_len=30. As we can see, with increased max_seq_len, the dataset size gets smaller because there is more text in each set."
      ]
    },
    {
      "cell_type": "code",
      "metadata": {
        "colab": {
          "base_uri": "https://localhost:8080/"
        },
        "id": "VEzYX6-jPSQW",
        "outputId": "1f19d13f-5f64-444a-a578-4d2c2c75c347"
      },
      "source": [
        "long_news_dataset_20seq = TextDataset(long_news_file_path, TEXT_LIMIT, MAX_TOKENS, EMBEDDING_DIM, 20, VALIDATION_SPLIT, BATCH_SIZE)"
      ],
      "execution_count": null,
      "outputs": [
        {
          "output_type": "stream",
          "text": [
            "Found 190189 word vectors.\n",
            "Converted 17114 words (2886 misses) in the embedding\n",
            "\n",
            "dataset size: 44250\n",
            "num_validation_samples: 8850\n",
            "dataset_train size: 35400\n",
            "dataset_val size: 8850\n",
            "dataset_train batch size: 276\n",
            "dataset_val batch size: 69\n"
          ],
          "name": "stdout"
        }
      ]
    },
    {
      "cell_type": "code",
      "metadata": {
        "colab": {
          "base_uri": "https://localhost:8080/"
        },
        "id": "Y458kRc0N7gH",
        "outputId": "45005e03-766e-4769-cfec-521a91299520"
      },
      "source": [
        "long_news_dataset_30seq = TextDataset(long_news_file_path, TEXT_LIMIT, MAX_TOKENS, EMBEDDING_DIM, 30, VALIDATION_SPLIT, BATCH_SIZE)"
      ],
      "execution_count": null,
      "outputs": [
        {
          "output_type": "stream",
          "text": [
            "Found 190189 word vectors.\n",
            "Converted 17114 words (2886 misses) in the embedding\n",
            "\n",
            "dataset size: 29976\n",
            "num_validation_samples: 5995\n",
            "dataset_train size: 23981\n",
            "dataset_val size: 5995\n",
            "dataset_train batch size: 187\n",
            "dataset_val batch size: 46\n"
          ],
          "name": "stdout"
        }
      ]
    },
    {
      "cell_type": "code",
      "metadata": {
        "colab": {
          "base_uri": "https://localhost:8080/"
        },
        "id": "KiCVbXjQY9Jm",
        "outputId": "f97c2e47-904c-4656-bbe6-b7fed186863a"
      },
      "source": [
        "# Run this with the dataset of max_seq_len=20\n",
        "long_news_experiment_20seq = Experiment(\n",
        "                   \"long news str len 20 no pretrained embedding \",\n",
        "                   my_training_param,\n",
        "                   EMBEDDING_DIM, \n",
        "                   None, # if we don't pass in any, will use the untrained embedding (that is fully trainable)\n",
        "                   True, # This is ignored since we didn't pass in any embedding\n",
        "                   long_news_dataset_20seq)\n",
        "\n",
        "EPOCH = 20\n",
        "long_news_result_20seq  = long_news_experiment_20seq.run_experiment(\n",
        "                          f\"Test first {EPOCH} epoch\",\n",
        "                          None,  # if we want to continue training from previous run, pass in the model \n",
        "                          EPOCH ) "
      ],
      "execution_count": null,
      "outputs": [
        {
          "output_type": "stream",
          "text": [
            "dataset_train batch size: 276\n",
            "dataset_val batch size: 69\n",
            "Running long news str len 20 no pretrained embedding :Test first 20 epoch...\n",
            "\n",
            "checkpoint_dir: ./training_checkpoints_12-01-03:41\n",
            "Model: \"sequential_4\"\n",
            "_________________________________________________________________\n",
            "Layer (type)                 Output Shape              Param #   \n",
            "=================================================================\n",
            "empty-embedding (Embedding)  (128, None, 50)           1000100   \n",
            "_________________________________________________________________\n",
            "lstm_4 (LSTM)                (128, None, 256)          314368    \n",
            "_________________________________________________________________\n",
            "dropout_4 (Dropout)          (128, None, 256)          0         \n",
            "_________________________________________________________________\n",
            "dense_4 (Dense)              (128, None, 20000)        5140000   \n",
            "=================================================================\n",
            "Total params: 6,454,468\n",
            "Trainable params: 6,454,468\n",
            "Non-trainable params: 0\n",
            "_________________________________________________________________\n",
            "Epoch 1/20\n",
            "276/276 [==============================] - ETA: 0s - loss: 7.4681 - accuracy: 0.0566WARNING:tensorflow:Callbacks method `on_test_batch_end` is slow compared to the batch time (batch time: 0.0033s vs `on_test_batch_end` time: 0.0397s). Check your callbacks.\n",
            "276/276 [==============================] - 23s 85ms/step - loss: 7.4681 - accuracy: 0.0566 - val_loss: 7.1458 - val_accuracy: 0.0565\n",
            "Epoch 2/20\n",
            "276/276 [==============================] - 23s 83ms/step - loss: 7.0290 - accuracy: 0.0570 - val_loss: 6.9385 - val_accuracy: 0.0572\n",
            "Epoch 3/20\n",
            "276/276 [==============================] - 23s 82ms/step - loss: 6.7641 - accuracy: 0.0741 - val_loss: 6.6126 - val_accuracy: 0.0904\n",
            "Epoch 4/20\n",
            "276/276 [==============================] - 23s 85ms/step - loss: 6.4977 - accuracy: 0.0963 - val_loss: 6.4082 - val_accuracy: 0.1034\n",
            "Epoch 5/20\n",
            "276/276 [==============================] - 23s 85ms/step - loss: 6.2962 - accuracy: 0.1091 - val_loss: 6.2334 - val_accuracy: 0.1155\n",
            "Epoch 6/20\n",
            "276/276 [==============================] - 23s 83ms/step - loss: 6.1200 - accuracy: 0.1199 - val_loss: 6.0674 - val_accuracy: 0.1276\n",
            "Epoch 7/20\n",
            "276/276 [==============================] - 23s 83ms/step - loss: 5.9639 - accuracy: 0.1303 - val_loss: 5.9361 - val_accuracy: 0.1356\n",
            "Epoch 8/20\n",
            "276/276 [==============================] - 23s 84ms/step - loss: 5.8353 - accuracy: 0.1401 - val_loss: 5.8240 - val_accuracy: 0.1459\n",
            "Epoch 9/20\n",
            "276/276 [==============================] - 23s 83ms/step - loss: 5.7263 - accuracy: 0.1490 - val_loss: 5.7028 - val_accuracy: 0.1558\n",
            "Epoch 10/20\n",
            "276/276 [==============================] - 23s 84ms/step - loss: 5.6320 - accuracy: 0.1566 - val_loss: 5.6526 - val_accuracy: 0.1590\n",
            "Epoch 11/20\n",
            "276/276 [==============================] - 23s 83ms/step - loss: 5.5425 - accuracy: 0.1630 - val_loss: 5.5694 - val_accuracy: 0.1657\n",
            "Epoch 12/20\n",
            "276/276 [==============================] - 23s 84ms/step - loss: 5.4621 - accuracy: 0.1687 - val_loss: 5.5073 - val_accuracy: 0.1705\n",
            "Epoch 13/20\n",
            "276/276 [==============================] - 23s 83ms/step - loss: 5.3889 - accuracy: 0.1740 - val_loss: 5.4098 - val_accuracy: 0.1769\n",
            "Epoch 14/20\n",
            "276/276 [==============================] - 23s 83ms/step - loss: 5.3159 - accuracy: 0.1787 - val_loss: 5.3743 - val_accuracy: 0.1812\n",
            "Epoch 15/20\n",
            "276/276 [==============================] - 23s 83ms/step - loss: 5.2507 - accuracy: 0.1832 - val_loss: 5.3049 - val_accuracy: 0.1858\n",
            "Epoch 16/20\n",
            "276/276 [==============================] - 23s 83ms/step - loss: 5.1867 - accuracy: 0.1876 - val_loss: 5.2557 - val_accuracy: 0.1890\n",
            "Epoch 17/20\n",
            "276/276 [==============================] - 24s 86ms/step - loss: 5.1218 - accuracy: 0.1922 - val_loss: 5.2104 - val_accuracy: 0.1915\n",
            "Epoch 18/20\n",
            "276/276 [==============================] - 23s 84ms/step - loss: 5.0631 - accuracy: 0.1960 - val_loss: 5.1374 - val_accuracy: 0.1968\n",
            "Epoch 19/20\n",
            "276/276 [==============================] - 23s 83ms/step - loss: 5.0057 - accuracy: 0.1992 - val_loss: 5.0989 - val_accuracy: 0.1989\n",
            "Epoch 20/20\n",
            "276/276 [==============================] - 23s 83ms/step - loss: 4.9493 - accuracy: 0.2028 - val_loss: 5.0565 - val_accuracy: 0.2008\n",
            "Done 20 epoch.\n"
          ],
          "name": "stdout"
        }
      ]
    },
    {
      "cell_type": "code",
      "metadata": {
        "colab": {
          "base_uri": "https://localhost:8080/"
        },
        "id": "QBEnBNL0ZL0s",
        "outputId": "c1b446ab-49a0-47b6-8eb4-526adc1bff72"
      },
      "source": [
        "# Run this with the dataset of max_seq_len=30\n",
        "long_news_experiment_30seq = Experiment(\n",
        "                   \"long news str len 30 no pretrained embedding \",\n",
        "                   my_training_param,\n",
        "                   EMBEDDING_DIM, \n",
        "                   None, # if we don't pass in any, will use the untrained embedding (that is fully trainable)\n",
        "                   True, # This is ignored since we didn't pass in any embedding\n",
        "                   long_news_dataset_30seq)\n",
        "\n",
        "EPOCH = 20\n",
        "long_news_result_30seq  = long_news_experiment_30seq.run_experiment(\n",
        "                          f\"Test first {EPOCH} epoch\",\n",
        "                          None,  # if we want to continue training from previous run, pass in the model \n",
        "                          EPOCH ) "
      ],
      "execution_count": null,
      "outputs": [
        {
          "output_type": "stream",
          "text": [
            "dataset_train batch size: 187\n",
            "dataset_val batch size: 46\n",
            "Running long news str len 30 no pretrained embedding :Test first 20 epoch...\n",
            "\n",
            "checkpoint_dir: ./training_checkpoints_12-01-03:49\n",
            "Model: \"sequential_6\"\n",
            "_________________________________________________________________\n",
            "Layer (type)                 Output Shape              Param #   \n",
            "=================================================================\n",
            "empty-embedding (Embedding)  (128, None, 50)           1000100   \n",
            "_________________________________________________________________\n",
            "lstm_6 (LSTM)                (128, None, 256)          314368    \n",
            "_________________________________________________________________\n",
            "dropout_6 (Dropout)          (128, None, 256)          0         \n",
            "_________________________________________________________________\n",
            "dense_6 (Dense)              (128, None, 20000)        5140000   \n",
            "=================================================================\n",
            "Total params: 6,454,468\n",
            "Trainable params: 6,454,468\n",
            "Non-trainable params: 0\n",
            "_________________________________________________________________\n",
            "Epoch 1/20\n",
            "187/187 [==============================] - ETA: 0s - loss: 7.5337 - accuracy: 0.0569WARNING:tensorflow:Callbacks method `on_test_batch_end` is slow compared to the batch time (batch time: 0.0030s vs `on_test_batch_end` time: 0.0414s). Check your callbacks.\n",
            "187/187 [==============================] - 18s 96ms/step - loss: 7.5337 - accuracy: 0.0569 - val_loss: 7.1789 - val_accuracy: 0.0572\n",
            "Epoch 2/20\n",
            "187/187 [==============================] - 18s 94ms/step - loss: 7.1307 - accuracy: 0.0567 - val_loss: 7.0740 - val_accuracy: 0.0553\n",
            "Epoch 3/20\n",
            "187/187 [==============================] - 18s 94ms/step - loss: 7.0047 - accuracy: 0.0636 - val_loss: 6.9262 - val_accuracy: 0.0692\n",
            "Epoch 4/20\n",
            "187/187 [==============================] - 18s 94ms/step - loss: 6.8879 - accuracy: 0.0706 - val_loss: 6.8058 - val_accuracy: 0.0727\n",
            "Epoch 5/20\n",
            "187/187 [==============================] - 18s 94ms/step - loss: 6.7241 - accuracy: 0.0770 - val_loss: 6.5927 - val_accuracy: 0.0837\n",
            "Epoch 6/20\n",
            "187/187 [==============================] - 18s 94ms/step - loss: 6.5183 - accuracy: 0.0905 - val_loss: 6.4220 - val_accuracy: 0.1003\n",
            "Epoch 7/20\n",
            "187/187 [==============================] - 18s 94ms/step - loss: 6.3577 - accuracy: 0.1055 - val_loss: 6.2901 - val_accuracy: 0.1129\n",
            "Epoch 8/20\n",
            "187/187 [==============================] - 18s 95ms/step - loss: 6.2394 - accuracy: 0.1155 - val_loss: 6.1674 - val_accuracy: 0.1215\n",
            "Epoch 9/20\n",
            "187/187 [==============================] - 18s 94ms/step - loss: 6.1319 - accuracy: 0.1224 - val_loss: 6.0721 - val_accuracy: 0.1275\n",
            "Epoch 10/20\n",
            "187/187 [==============================] - 18s 94ms/step - loss: 6.0386 - accuracy: 0.1290 - val_loss: 5.9930 - val_accuracy: 0.1330\n",
            "Epoch 11/20\n",
            "187/187 [==============================] - 18s 94ms/step - loss: 5.9547 - accuracy: 0.1353 - val_loss: 5.9054 - val_accuracy: 0.1410\n",
            "Epoch 12/20\n",
            "187/187 [==============================] - 18s 95ms/step - loss: 5.8802 - accuracy: 0.1416 - val_loss: 5.8236 - val_accuracy: 0.1486\n",
            "Epoch 13/20\n",
            "187/187 [==============================] - 19s 99ms/step - loss: 5.8093 - accuracy: 0.1476 - val_loss: 5.7536 - val_accuracy: 0.1517\n",
            "Epoch 14/20\n",
            "187/187 [==============================] - 18s 95ms/step - loss: 5.7443 - accuracy: 0.1525 - val_loss: 5.7047 - val_accuracy: 0.1557\n",
            "Epoch 15/20\n",
            "187/187 [==============================] - 18s 95ms/step - loss: 5.6869 - accuracy: 0.1574 - val_loss: 5.6565 - val_accuracy: 0.1625\n",
            "Epoch 16/20\n",
            "187/187 [==============================] - 18s 94ms/step - loss: 5.6309 - accuracy: 0.1618 - val_loss: 5.5954 - val_accuracy: 0.1665\n",
            "Epoch 17/20\n",
            "187/187 [==============================] - 17s 94ms/step - loss: 5.5787 - accuracy: 0.1659 - val_loss: 5.5417 - val_accuracy: 0.1700\n",
            "Epoch 18/20\n",
            "187/187 [==============================] - 18s 95ms/step - loss: 5.5335 - accuracy: 0.1692 - val_loss: 5.4882 - val_accuracy: 0.1744\n",
            "Epoch 19/20\n",
            "187/187 [==============================] - 18s 94ms/step - loss: 5.4898 - accuracy: 0.1720 - val_loss: 5.4606 - val_accuracy: 0.1763\n",
            "Epoch 20/20\n",
            "187/187 [==============================] - 18s 95ms/step - loss: 5.4464 - accuracy: 0.1752 - val_loss: 5.4030 - val_accuracy: 0.1797\n",
            "Done 20 epoch.\n"
          ],
          "name": "stdout"
        }
      ]
    },
    {
      "cell_type": "code",
      "metadata": {
        "colab": {
          "base_uri": "https://localhost:8080/",
          "height": 403
        },
        "id": "5pYbiEWUxJYT",
        "outputId": "22820ca9-b182-47aa-fd10-333c02b02881"
      },
      "source": [
        "# max sequence = 10\n",
        "ResultsDisplay.plot_loss_and_accuracy_graphs(long_news_result_10seq['history'])"
      ],
      "execution_count": null,
      "outputs": [
        {
          "output_type": "stream",
          "text": [
            "\n",
            "\n"
          ],
          "name": "stdout"
        },
        {
          "output_type": "display_data",
          "data": {
            "image/png": "[encoded data removed]",
            "text/plain": [
              "<Figure size 504x360 with 2 Axes>"
            ]
          },
          "metadata": {
            "tags": [],
            "needs_background": "light"
          }
        }
      ]
    },
    {
      "cell_type": "code",
      "metadata": {
        "colab": {
          "base_uri": "https://localhost:8080/",
          "height": 403
        },
        "id": "VsJAoQ-Vc3VL",
        "outputId": "84cd9c6f-8910-490c-fa05-5692231f13bc"
      },
      "source": [
        "# max sequence = 20\n",
        "ResultsDisplay.plot_loss_and_accuracy_graphs(long_news_result_20seq['history'])"
      ],
      "execution_count": null,
      "outputs": [
        {
          "output_type": "stream",
          "text": [
            "\n",
            "\n"
          ],
          "name": "stdout"
        },
        {
          "output_type": "display_data",
          "data": {
            "image/png": "[encoded data removed]",
            "text/plain": [
              "<Figure size 504x360 with 2 Axes>"
            ]
          },
          "metadata": {
            "tags": [],
            "needs_background": "light"
          }
        }
      ]
    },
    {
      "cell_type": "code",
      "metadata": {
        "colab": {
          "base_uri": "https://localhost:8080/",
          "height": 403
        },
        "id": "GQvLRKFFc5c6",
        "outputId": "29dd42b3-8b12-4e28-b1be-1c6eb3a6f626"
      },
      "source": [
        "# max sequence = 30 \n",
        "ResultsDisplay.plot_loss_and_accuracy_graphs(long_news_result_30seq['history'])"
      ],
      "execution_count": null,
      "outputs": [
        {
          "output_type": "stream",
          "text": [
            "\n",
            "\n"
          ],
          "name": "stdout"
        },
        {
          "output_type": "display_data",
          "data": {
            "image/png": "[encoded data removed]",
            "text/plain": [
              "<Figure size 504x360 with 2 Axes>"
            ]
          },
          "metadata": {
            "tags": [],
            "needs_background": "light"
          }
        }
      ]
    },
    {
      "cell_type": "markdown",
      "metadata": {
        "id": "6qFsz1YIco6N"
      },
      "source": [
        "## **Result:**\n",
        "Using the same number of epoch, the model trains better with the long news dataset with max_seq_len=10 (although overfit, we will deal with that later) than the max_seq_size of 20 or 30. So we will proceed the rest of the experiments with long news dataset with max_seq_len=10. With shorter max_sequence, we have more training sets, that may explain the improved performance."
      ]
    },
    {
      "cell_type": "code",
      "metadata": {
        "id": "IylFyuSbt5H8"
      },
      "source": [
        "# delete not needed data to free up memory\n",
        "del long_news_result_20seq\n",
        "del long_news_experiment_20seq\n",
        "del long_news_dataset_20seq\n",
        "\n",
        "del long_news_result_30seq\n",
        "del long_news_experiment_30seq\n",
        "del long_news_dataset_30seq"
      ],
      "execution_count": null,
      "outputs": []
    },
    {
      "cell_type": "markdown",
      "metadata": {
        "id": "LxmpXy2XvDqw"
      },
      "source": [
        "# **Experiment 3:** Comparing embeddings\n",
        "\n",
        "We want to check what kind of embedding works better:\n",
        "\n",
        "\n",
        "1.   Using no pretrained embedding (which was done in the previous experiment)\n",
        "2.   Using GloVe 50 dimension pretrained embedding (set not retrainable)\n",
        "3.   Using GloVe 50 dimension pretrained embedding (set retrainable)\n",
        "\n"
      ]
    },
    {
      "cell_type": "code",
      "metadata": {
        "id": "IGch5PnoYbzK"
      },
      "source": [
        "# We have already run the experiment, just capture the result here\n",
        "result_3_1 = long_news_result_10seq"
      ],
      "execution_count": null,
      "outputs": []
    },
    {
      "cell_type": "code",
      "metadata": {
        "colab": {
          "base_uri": "https://localhost:8080/"
        },
        "id": "IQ6xyz3RdrUc",
        "outputId": "b6db2553-dda1-4ee2-f5ea-3cef90f91244"
      },
      "source": [
        "experiment_50dim_not_trainable = Experiment(\n",
        "                   \"long news str 50-dim pretrained embedding (not trainable) \",\n",
        "                   my_training_param,\n",
        "                   EMBEDDING_DIM, \n",
        "                   long_news_dataset_10seq.embedding.embedding_matrix, # if we don't pass in any, will use the untrained embedding (that is fully trainable)\n",
        "                   False, # Set to False here as we don't want it to be trainable \n",
        "                   long_news_dataset_10seq)\n",
        "\n",
        "EPOCH = 20\n",
        "result_3_2  = experiment_50dim_not_trainable.run_experiment(\n",
        "                          f\"Test first {EPOCH} epoch\",\n",
        "                          None,  # if we want to continue training from previous run, pass in the model \n",
        "                          EPOCH ) "
      ],
      "execution_count": null,
      "outputs": [
        {
          "output_type": "stream",
          "text": [
            "dataset_train batch size: 527\n",
            "dataset_val batch size: 131\n",
            "Running long news str 50-dim pretrained embedding (not trainable) :Test first 20 epoch...\n",
            "\n",
            "checkpoint_dir: ./training_checkpoints_12-01-04:00\n",
            "(20002, 50)\n",
            "Model: \"sequential_8\"\n",
            "_________________________________________________________________\n",
            "Layer (type)                 Output Shape              Param #   \n",
            "=================================================================\n",
            "pretrained-embedding (Embedd (128, None, 50)           1000100   \n",
            "_________________________________________________________________\n",
            "lstm_8 (LSTM)                (128, None, 256)          314368    \n",
            "_________________________________________________________________\n",
            "dropout_8 (Dropout)          (128, None, 256)          0         \n",
            "_________________________________________________________________\n",
            "dense_8 (Dense)              (128, None, 20000)        5140000   \n",
            "=================================================================\n",
            "Total params: 6,454,468\n",
            "Trainable params: 5,454,368\n",
            "Non-trainable params: 1,000,100\n",
            "_________________________________________________________________\n",
            "Epoch 1/20\n",
            "  2/527 [..............................] - ETA: 13s - loss: 9.8956 - accuracy: 3.9063e-04WARNING:tensorflow:Callbacks method `on_train_batch_end` is slow compared to the batch time (batch time: 0.0120s vs `on_train_batch_end` time: 0.0388s). Check your callbacks.\n",
            "526/527 [============================>.] - ETA: 0s - loss: 7.1481 - accuracy: 0.0600WARNING:tensorflow:Callbacks method `on_test_batch_end` is slow compared to the batch time (batch time: 0.0030s vs `on_test_batch_end` time: 0.0337s). Check your callbacks.\n",
            "527/527 [==============================] - 33s 62ms/step - loss: 7.1472 - accuracy: 0.0601 - val_loss: 6.8129 - val_accuracy: 0.0720\n",
            "Epoch 2/20\n",
            "527/527 [==============================] - 33s 62ms/step - loss: 6.4975 - accuracy: 0.0846 - val_loss: 6.3826 - val_accuracy: 0.0959\n",
            "Epoch 3/20\n",
            "527/527 [==============================] - 33s 62ms/step - loss: 6.1238 - accuracy: 0.1055 - val_loss: 6.1381 - val_accuracy: 0.1145\n",
            "Epoch 4/20\n",
            "527/527 [==============================] - 33s 62ms/step - loss: 5.8623 - accuracy: 0.1216 - val_loss: 5.9545 - val_accuracy: 0.1302\n",
            "Epoch 5/20\n",
            "527/527 [==============================] - 33s 62ms/step - loss: 5.6601 - accuracy: 0.1350 - val_loss: 5.8233 - val_accuracy: 0.1396\n",
            "Epoch 6/20\n",
            "527/527 [==============================] - 33s 63ms/step - loss: 5.4977 - accuracy: 0.1454 - val_loss: 5.7208 - val_accuracy: 0.1481\n",
            "Epoch 7/20\n",
            "527/527 [==============================] - 33s 62ms/step - loss: 5.3649 - accuracy: 0.1533 - val_loss: 5.6520 - val_accuracy: 0.1531\n",
            "Epoch 8/20\n",
            "527/527 [==============================] - 33s 62ms/step - loss: 5.2498 - accuracy: 0.1598 - val_loss: 5.5791 - val_accuracy: 0.1596\n",
            "Epoch 9/20\n",
            "527/527 [==============================] - 32s 62ms/step - loss: 5.1508 - accuracy: 0.1654 - val_loss: 5.5383 - val_accuracy: 0.1623\n",
            "Epoch 10/20\n",
            "527/527 [==============================] - 33s 62ms/step - loss: 5.0629 - accuracy: 0.1700 - val_loss: 5.4940 - val_accuracy: 0.1666\n",
            "Epoch 11/20\n",
            "527/527 [==============================] - 33s 62ms/step - loss: 4.9832 - accuracy: 0.1749 - val_loss: 5.4634 - val_accuracy: 0.1697\n",
            "Epoch 12/20\n",
            "527/527 [==============================] - 33s 62ms/step - loss: 4.9118 - accuracy: 0.1789 - val_loss: 5.4394 - val_accuracy: 0.1716\n",
            "Epoch 13/20\n",
            "527/527 [==============================] - 32s 62ms/step - loss: 4.8439 - accuracy: 0.1841 - val_loss: 5.4091 - val_accuracy: 0.1757\n",
            "Epoch 14/20\n",
            "527/527 [==============================] - 33s 62ms/step - loss: 4.7852 - accuracy: 0.1886 - val_loss: 5.3924 - val_accuracy: 0.1776\n",
            "Epoch 15/20\n",
            "527/527 [==============================] - 33s 62ms/step - loss: 4.7274 - accuracy: 0.1931 - val_loss: 5.3777 - val_accuracy: 0.1791\n",
            "Epoch 16/20\n",
            "527/527 [==============================] - 33s 63ms/step - loss: 4.6768 - accuracy: 0.1970 - val_loss: 5.3606 - val_accuracy: 0.1808\n",
            "Epoch 17/20\n",
            "527/527 [==============================] - 33s 62ms/step - loss: 4.6285 - accuracy: 0.2015 - val_loss: 5.3573 - val_accuracy: 0.1838\n",
            "Epoch 18/20\n",
            "527/527 [==============================] - 33s 62ms/step - loss: 4.5854 - accuracy: 0.2051 - val_loss: 5.3476 - val_accuracy: 0.1828\n",
            "Epoch 19/20\n",
            "527/527 [==============================] - 33s 62ms/step - loss: 4.5444 - accuracy: 0.2099 - val_loss: 5.3276 - val_accuracy: 0.1864\n",
            "Epoch 20/20\n",
            "527/527 [==============================] - 33s 62ms/step - loss: 4.5067 - accuracy: 0.2124 - val_loss: 5.3278 - val_accuracy: 0.1879\n",
            "Done 20 epoch.\n"
          ],
          "name": "stdout"
        }
      ]
    },
    {
      "cell_type": "code",
      "metadata": {
        "colab": {
          "base_uri": "https://localhost:8080/"
        },
        "id": "r9eAZWVbeMsc",
        "outputId": "9e11a987-99c5-4c11-8bc0-ae71b04ff095"
      },
      "source": [
        "experiment_50dim_trainable = Experiment(\n",
        "                   \"long news str 50-dim pretrained embedding (trainable) \",\n",
        "                   my_training_param,\n",
        "                   EMBEDDING_DIM, \n",
        "                   long_news_dataset_10seq.embedding.embedding_matrix, # if we don't pass in any, will use the untrained embedding (that is fully trainable)\n",
        "                   True, # use True here - we want it to be trainable \n",
        "                   long_news_dataset_10seq)\n",
        "\n",
        "EPOCH = 20\n",
        "result_3_3  = experiment_50dim_trainable.run_experiment(\n",
        "                          f\"Test first {EPOCH} epoch\",\n",
        "                          None,  # if we want to continue training from previous run, pass in the model \n",
        "                          EPOCH ) "
      ],
      "execution_count": null,
      "outputs": [
        {
          "output_type": "stream",
          "text": [
            "dataset_train batch size: 527\n",
            "dataset_val batch size: 131\n",
            "Running long news str 50-dim pretrained embedding (trainable) :Test first 20 epoch...\n",
            "\n",
            "checkpoint_dir: ./training_checkpoints_12-01-04:11\n",
            "(20002, 50)\n",
            "Model: \"sequential_10\"\n",
            "_________________________________________________________________\n",
            "Layer (type)                 Output Shape              Param #   \n",
            "=================================================================\n",
            "pretrained-embedding (Embedd (128, None, 50)           1000100   \n",
            "_________________________________________________________________\n",
            "lstm_10 (LSTM)               (128, None, 256)          314368    \n",
            "_________________________________________________________________\n",
            "dropout_10 (Dropout)         (128, None, 256)          0         \n",
            "_________________________________________________________________\n",
            "dense_10 (Dense)             (128, None, 20000)        5140000   \n",
            "=================================================================\n",
            "Total params: 6,454,468\n",
            "Trainable params: 6,454,468\n",
            "Non-trainable params: 0\n",
            "_________________________________________________________________\n",
            "Epoch 1/20\n",
            "527/527 [==============================] - ETA: 0s - loss: 7.0676 - accuracy: 0.0641WARNING:tensorflow:Callbacks method `on_test_batch_end` is slow compared to the batch time (batch time: 0.0026s vs `on_test_batch_end` time: 0.0341s). Check your callbacks.\n",
            "527/527 [==============================] - 37s 70ms/step - loss: 7.0676 - accuracy: 0.0641 - val_loss: 6.6175 - val_accuracy: 0.0870\n",
            "Epoch 2/20\n",
            "527/527 [==============================] - 36s 69ms/step - loss: 6.2354 - accuracy: 0.1088 - val_loss: 6.1106 - val_accuracy: 0.1256\n",
            "Epoch 3/20\n",
            "527/527 [==============================] - 36s 69ms/step - loss: 5.8118 - accuracy: 0.1372 - val_loss: 5.8395 - val_accuracy: 0.1446\n",
            "Epoch 4/20\n",
            "527/527 [==============================] - 37s 70ms/step - loss: 5.5316 - accuracy: 0.1567 - val_loss: 5.6584 - val_accuracy: 0.1611\n",
            "Epoch 5/20\n",
            "527/527 [==============================] - 36s 69ms/step - loss: 5.3281 - accuracy: 0.1719 - val_loss: 5.5346 - val_accuracy: 0.1717\n",
            "Epoch 6/20\n",
            "527/527 [==============================] - 36s 69ms/step - loss: 5.1642 - accuracy: 0.1827 - val_loss: 5.4400 - val_accuracy: 0.1777\n",
            "Epoch 7/20\n",
            "527/527 [==============================] - 36s 69ms/step - loss: 5.0238 - accuracy: 0.1920 - val_loss: 5.3681 - val_accuracy: 0.1851\n",
            "Epoch 8/20\n",
            "527/527 [==============================] - 36s 69ms/step - loss: 4.9057 - accuracy: 0.1992 - val_loss: 5.3040 - val_accuracy: 0.1893\n",
            "Epoch 9/20\n",
            "527/527 [==============================] - 36s 69ms/step - loss: 4.7984 - accuracy: 0.2060 - val_loss: 5.2570 - val_accuracy: 0.1938\n",
            "Epoch 10/20\n",
            "527/527 [==============================] - 36s 69ms/step - loss: 4.7037 - accuracy: 0.2116 - val_loss: 5.2171 - val_accuracy: 0.1977\n",
            "Epoch 11/20\n",
            "527/527 [==============================] - 36s 69ms/step - loss: 4.6156 - accuracy: 0.2175 - val_loss: 5.1791 - val_accuracy: 0.2010\n",
            "Epoch 12/20\n",
            "527/527 [==============================] - 37s 69ms/step - loss: 4.5362 - accuracy: 0.2232 - val_loss: 5.1523 - val_accuracy: 0.2041\n",
            "Epoch 13/20\n",
            "527/527 [==============================] - 37s 70ms/step - loss: 4.4609 - accuracy: 0.2285 - val_loss: 5.1351 - val_accuracy: 0.2061\n",
            "Epoch 14/20\n",
            "527/527 [==============================] - 36s 69ms/step - loss: 4.3958 - accuracy: 0.2342 - val_loss: 5.1217 - val_accuracy: 0.2086\n",
            "Epoch 15/20\n",
            "527/527 [==============================] - 36s 69ms/step - loss: 4.3295 - accuracy: 0.2398 - val_loss: 5.0966 - val_accuracy: 0.2114\n",
            "Epoch 16/20\n",
            "527/527 [==============================] - 36s 69ms/step - loss: 4.2729 - accuracy: 0.2450 - val_loss: 5.0807 - val_accuracy: 0.2135\n",
            "Epoch 17/20\n",
            "527/527 [==============================] - 36s 69ms/step - loss: 4.2167 - accuracy: 0.2501 - val_loss: 5.0690 - val_accuracy: 0.2161\n",
            "Epoch 18/20\n",
            "527/527 [==============================] - 37s 69ms/step - loss: 4.1668 - accuracy: 0.2555 - val_loss: 5.0523 - val_accuracy: 0.2192\n",
            "Epoch 19/20\n",
            "527/527 [==============================] - 36s 69ms/step - loss: 4.1164 - accuracy: 0.2597 - val_loss: 5.0643 - val_accuracy: 0.2186\n",
            "Epoch 20/20\n",
            "527/527 [==============================] - 36s 69ms/step - loss: 4.0703 - accuracy: 0.2653 - val_loss: 5.0473 - val_accuracy: 0.2218\n",
            "Done 20 epoch.\n"
          ],
          "name": "stdout"
        }
      ]
    },
    {
      "cell_type": "code",
      "metadata": {
        "colab": {
          "base_uri": "https://localhost:8080/",
          "height": 403
        },
        "id": "tXVJSMSyj57W",
        "outputId": "999bcfa5-be24-40cd-ccf7-3d6f435bfd2e"
      },
      "source": [
        "# no pretrained embedding\n",
        "ResultsDisplay.plot_loss_and_accuracy_graphs(result_3_1['history'])"
      ],
      "execution_count": null,
      "outputs": [
        {
          "output_type": "stream",
          "text": [
            "\n",
            "\n"
          ],
          "name": "stdout"
        },
        {
          "output_type": "display_data",
          "data": {
            "image/png": "[encoded data removed]",
            "text/plain": [
              "<Figure size 504x360 with 2 Axes>"
            ]
          },
          "metadata": {
            "tags": [],
            "needs_background": "light"
          }
        }
      ]
    },
    {
      "cell_type": "code",
      "metadata": {
        "colab": {
          "base_uri": "https://localhost:8080/",
          "height": 403
        },
        "id": "yLyqFLGNj5w9",
        "outputId": "b06f2eb8-8528-4277-9df6-c73982128d5b"
      },
      "source": [
        "# pretrained embedding, but not retrainable\n",
        "ResultsDisplay.plot_loss_and_accuracy_graphs(result_3_2['history'])"
      ],
      "execution_count": null,
      "outputs": [
        {
          "output_type": "stream",
          "text": [
            "\n",
            "\n"
          ],
          "name": "stdout"
        },
        {
          "output_type": "display_data",
          "data": {
            "image/png": "[encoded data removed]",
            "text/plain": [
              "<Figure size 504x360 with 2 Axes>"
            ]
          },
          "metadata": {
            "tags": [],
            "needs_background": "light"
          }
        }
      ]
    },
    {
      "cell_type": "code",
      "metadata": {
        "colab": {
          "base_uri": "https://localhost:8080/",
          "height": 403
        },
        "id": "PdBXvaKSj5m8",
        "outputId": "3d301974-f147-454a-d4ff-633864089334"
      },
      "source": [
        "# pretrained embedding and retrainable\n",
        "ResultsDisplay.plot_loss_and_accuracy_graphs(result_3_3['history'])"
      ],
      "execution_count": null,
      "outputs": [
        {
          "output_type": "stream",
          "text": [
            "\n",
            "\n"
          ],
          "name": "stdout"
        },
        {
          "output_type": "display_data",
          "data": {
            "image/png": "[encoded data removed]",
            "text/plain": [
              "<Figure size 504x360 with 2 Axes>"
            ]
          },
          "metadata": {
            "tags": [],
            "needs_background": "light"
          }
        }
      ]
    },
    {
      "cell_type": "markdown",
      "metadata": {
        "id": "eU_ABJB23Ndk"
      },
      "source": [
        "## **Result:**\n",
        "\n",
        "As we can see, option 3 (using a pretrained embedding, set to retrainable) performs the best. However, it also overfits. \n",
        "\n",
        "So we will continue other experiments with pretrained embedding matrix and set it to not retrainable (as suggested in the keras tutorial).\n"
      ]
    },
    {
      "cell_type": "markdown",
      "metadata": {
        "id": "51-xvL4z3eFo"
      },
      "source": [
        "#**Experiment 4: Comparing Embedding Dimension**\n",
        "\n",
        "We now want to test if the dimension of the pretrained embedding makes a difference. So we will try with 3 different options (all will be set to not retrainable):\n",
        "\n",
        "1. 50 dim gloVe embedding (already done in Experiment #3 )\n",
        "\n",
        "2. 200 dim gloVe embedding\n",
        "3. 300 dim gloVe embedding"
      ]
    },
    {
      "cell_type": "code",
      "metadata": {
        "colab": {
          "base_uri": "https://localhost:8080/"
        },
        "id": "ulJcAcT2jHcB",
        "outputId": "13718326-a83a-4a81-d6ad-20cdd0b86f8d"
      },
      "source": [
        "# We have to construct 2 embedding matrix\n",
        "pretrained200dim_embedding = PretrainedEmbedding(200, long_news_dataset_10seq.my_vocab)\n",
        "pretrained300dim_embedding = PretrainedEmbedding(300, long_news_dataset_10seq.my_vocab)\n",
        "\n",
        "# Make all embedding not trainable \n",
        "EMBEDDING_TRAINABLE = False"
      ],
      "execution_count": null,
      "outputs": [
        {
          "output_type": "stream",
          "text": [
            "Found 400000 word vectors.\n",
            "Converted 17577 words (2423 misses) in the embedding\n",
            "Found 400000 word vectors.\n",
            "Converted 17577 words (2423 misses) in the embedding\n"
          ],
          "name": "stdout"
        }
      ]
    },
    {
      "cell_type": "code",
      "metadata": {
        "id": "sMw9CpyPaKBK"
      },
      "source": [
        "# Option 1 is already done\n",
        "result_4_1 = result_3_2"
      ],
      "execution_count": null,
      "outputs": []
    },
    {
      "cell_type": "code",
      "metadata": {
        "colab": {
          "base_uri": "https://localhost:8080/"
        },
        "id": "-srBCIP4ipG-",
        "outputId": "3f1d0013-f7c6-4439-be05-74715aa1dfb7"
      },
      "source": [
        "experiment_200dim = Experiment(\n",
        "                   \"200-dim embedding\",\n",
        "                   my_training_param,\n",
        "                   200, \n",
        "                   pretrained200dim_embedding.embedding_matrix, # if we don't pass in any, will use the untrained embedding (that is fully trainable)\n",
        "                   EMBEDDING_TRAINABLE, # if we pass in embedding_matrix, do we want it to be trainable \n",
        "                   long_news_dataset_10seq)\n",
        "\n",
        "EPOCH = 20\n",
        "result_4_2  = experiment_200dim.run_experiment(\n",
        "                          f\"Test first {EPOCH} epoch\",\n",
        "                          None,  # if we want to continue training from previous run, pass in the model \n",
        "                          EPOCH ) "
      ],
      "execution_count": null,
      "outputs": [
        {
          "output_type": "stream",
          "text": [
            "dataset_train batch size: 527\n",
            "dataset_val batch size: 131\n",
            "Running 200-dim embedding:Test first 20 epoch...\n",
            "\n",
            "checkpoint_dir: ./training_checkpoints_12-01-04:24\n",
            "(20002, 200)\n",
            "Model: \"sequential_12\"\n",
            "_________________________________________________________________\n",
            "Layer (type)                 Output Shape              Param #   \n",
            "=================================================================\n",
            "pretrained-embedding (Embedd (128, None, 200)          4000400   \n",
            "_________________________________________________________________\n",
            "lstm_12 (LSTM)               (128, None, 256)          467968    \n",
            "_________________________________________________________________\n",
            "dropout_12 (Dropout)         (128, None, 256)          0         \n",
            "_________________________________________________________________\n",
            "dense_12 (Dense)             (128, None, 20000)        5140000   \n",
            "=================================================================\n",
            "Total params: 9,608,368\n",
            "Trainable params: 5,607,968\n",
            "Non-trainable params: 4,000,400\n",
            "_________________________________________________________________\n",
            "Epoch 1/20\n",
            "  1/527 [..............................] - ETA: 0s - loss: 9.9032 - accuracy: 0.0000e+00WARNING:tensorflow:Callbacks method `on_train_batch_end` is slow compared to the batch time (batch time: 0.0099s vs `on_train_batch_end` time: 0.0381s). Check your callbacks.\n",
            "526/527 [============================>.] - ETA: 0s - loss: 7.0804 - accuracy: 0.0627WARNING:tensorflow:Callbacks method `on_test_batch_end` is slow compared to the batch time (batch time: 0.0028s vs `on_test_batch_end` time: 0.0336s). Check your callbacks.\n",
            "527/527 [==============================] - 33s 63ms/step - loss: 7.0796 - accuracy: 0.0627 - val_loss: 6.6787 - val_accuracy: 0.0814\n",
            "Epoch 2/20\n",
            "527/527 [==============================] - 33s 62ms/step - loss: 6.3274 - accuracy: 0.1003 - val_loss: 6.1953 - val_accuracy: 0.1144\n",
            "Epoch 3/20\n",
            "527/527 [==============================] - 33s 62ms/step - loss: 5.9263 - accuracy: 0.1236 - val_loss: 5.9464 - val_accuracy: 0.1309\n",
            "Epoch 4/20\n",
            "527/527 [==============================] - 33s 62ms/step - loss: 5.6624 - accuracy: 0.1401 - val_loss: 5.7733 - val_accuracy: 0.1447\n",
            "Epoch 5/20\n",
            "527/527 [==============================] - 33s 62ms/step - loss: 5.4632 - accuracy: 0.1532 - val_loss: 5.6422 - val_accuracy: 0.1554\n",
            "Epoch 6/20\n",
            "527/527 [==============================] - 33s 62ms/step - loss: 5.3013 - accuracy: 0.1632 - val_loss: 5.5393 - val_accuracy: 0.1642\n",
            "Epoch 7/20\n",
            "527/527 [==============================] - 33s 62ms/step - loss: 5.1663 - accuracy: 0.1717 - val_loss: 5.4653 - val_accuracy: 0.1701\n",
            "Epoch 8/20\n",
            "527/527 [==============================] - 33s 63ms/step - loss: 5.0461 - accuracy: 0.1789 - val_loss: 5.4057 - val_accuracy: 0.1740\n",
            "Epoch 9/20\n",
            "527/527 [==============================] - 33s 63ms/step - loss: 4.9426 - accuracy: 0.1857 - val_loss: 5.3554 - val_accuracy: 0.1794\n",
            "Epoch 10/20\n",
            "527/527 [==============================] - 33s 62ms/step - loss: 4.8501 - accuracy: 0.1911 - val_loss: 5.3112 - val_accuracy: 0.1836\n",
            "Epoch 11/20\n",
            "527/527 [==============================] - 33s 62ms/step - loss: 4.7688 - accuracy: 0.1963 - val_loss: 5.2651 - val_accuracy: 0.1874\n",
            "Epoch 12/20\n",
            "527/527 [==============================] - 33s 62ms/step - loss: 4.6929 - accuracy: 0.2013 - val_loss: 5.2414 - val_accuracy: 0.1904\n",
            "Epoch 13/20\n",
            "527/527 [==============================] - 33s 62ms/step - loss: 4.6250 - accuracy: 0.2062 - val_loss: 5.2172 - val_accuracy: 0.1916\n",
            "Epoch 14/20\n",
            "527/527 [==============================] - 33s 62ms/step - loss: 4.5620 - accuracy: 0.2112 - val_loss: 5.2005 - val_accuracy: 0.1944\n",
            "Epoch 15/20\n",
            "527/527 [==============================] - 33s 62ms/step - loss: 4.5023 - accuracy: 0.2162 - val_loss: 5.1800 - val_accuracy: 0.1963\n",
            "Epoch 16/20\n",
            "527/527 [==============================] - 33s 62ms/step - loss: 4.4533 - accuracy: 0.2204 - val_loss: 5.1680 - val_accuracy: 0.1989\n",
            "Epoch 17/20\n",
            "527/527 [==============================] - 33s 62ms/step - loss: 4.3995 - accuracy: 0.2254 - val_loss: 5.1531 - val_accuracy: 0.2016\n",
            "Epoch 18/20\n",
            "527/527 [==============================] - 33s 63ms/step - loss: 4.3530 - accuracy: 0.2298 - val_loss: 5.1465 - val_accuracy: 0.2029\n",
            "Epoch 19/20\n",
            "527/527 [==============================] - 33s 62ms/step - loss: 4.3101 - accuracy: 0.2335 - val_loss: 5.1337 - val_accuracy: 0.2043\n",
            "Epoch 20/20\n",
            "527/527 [==============================] - 33s 63ms/step - loss: 4.2733 - accuracy: 0.2370 - val_loss: 5.1195 - val_accuracy: 0.2070\n",
            "Done 20 epoch.\n"
          ],
          "name": "stdout"
        }
      ]
    },
    {
      "cell_type": "code",
      "metadata": {
        "colab": {
          "base_uri": "https://localhost:8080/"
        },
        "id": "sNgyVoOCiiWz",
        "outputId": "a4d7bfba-4e7d-45a9-8a7f-30a66de17462"
      },
      "source": [
        "experiment_300dim = Experiment(\n",
        "                   \"300-dim embedding\",\n",
        "                   my_training_param,\n",
        "                   300, \n",
        "                   pretrained300dim_embedding.embedding_matrix, # if we don't pass in any, will use the untrained embedding (that is fully trainable)\n",
        "                   EMBEDDING_TRAINABLE, # if we pass in embedding_matrix, do we want it to be trainable \n",
        "                   long_news_dataset_10seq)\n",
        "\n",
        "EPOCH = 20\n",
        "result_4_3  = experiment_300dim.run_experiment(\n",
        "                          f\"Test first {EPOCH} epoch\",\n",
        "                          None,  # if we want to continue training from previous run, pass in the model \n",
        "                          EPOCH ) "
      ],
      "execution_count": null,
      "outputs": [
        {
          "output_type": "stream",
          "text": [
            "dataset_train batch size: 527\n",
            "dataset_val batch size: 131\n",
            "Running 300-dim embedding:Test first 20 epoch...\n",
            "\n",
            "checkpoint_dir: ./training_checkpoints_12-01-04:36\n",
            "(20002, 300)\n",
            "Model: \"sequential_14\"\n",
            "_________________________________________________________________\n",
            "Layer (type)                 Output Shape              Param #   \n",
            "=================================================================\n",
            "pretrained-embedding (Embedd (128, None, 300)          6000600   \n",
            "_________________________________________________________________\n",
            "lstm_14 (LSTM)               (128, None, 256)          570368    \n",
            "_________________________________________________________________\n",
            "dropout_14 (Dropout)         (128, None, 256)          0         \n",
            "_________________________________________________________________\n",
            "dense_14 (Dense)             (128, None, 20000)        5140000   \n",
            "=================================================================\n",
            "Total params: 11,710,968\n",
            "Trainable params: 5,710,368\n",
            "Non-trainable params: 6,000,600\n",
            "_________________________________________________________________\n",
            "Epoch 1/20\n",
            "  1/527 [..............................] - ETA: 0s - loss: 9.9039 - accuracy: 0.0000e+00WARNING:tensorflow:Callbacks method `on_train_batch_end` is slow compared to the batch time (batch time: 0.0124s vs `on_train_batch_end` time: 0.0357s). Check your callbacks.\n",
            "526/527 [============================>.] - ETA: 0s - loss: 7.0458 - accuracy: 0.0649WARNING:tensorflow:Callbacks method `on_test_batch_end` is slow compared to the batch time (batch time: 0.0034s vs `on_test_batch_end` time: 0.0338s). Check your callbacks.\n",
            "527/527 [==============================] - 33s 63ms/step - loss: 7.0449 - accuracy: 0.0649 - val_loss: 6.5999 - val_accuracy: 0.0906\n",
            "Epoch 2/20\n",
            "527/527 [==============================] - 33s 63ms/step - loss: 6.2620 - accuracy: 0.1060 - val_loss: 6.1431 - val_accuracy: 0.1207\n",
            "Epoch 3/20\n",
            "527/527 [==============================] - 33s 63ms/step - loss: 5.8599 - accuracy: 0.1300 - val_loss: 5.8844 - val_accuracy: 0.1380\n",
            "Epoch 4/20\n",
            "527/527 [==============================] - 33s 63ms/step - loss: 5.5990 - accuracy: 0.1471 - val_loss: 5.7112 - val_accuracy: 0.1512\n",
            "Epoch 5/20\n",
            "527/527 [==============================] - 33s 63ms/step - loss: 5.3984 - accuracy: 0.1596 - val_loss: 5.5861 - val_accuracy: 0.1613\n",
            "Epoch 6/20\n",
            "527/527 [==============================] - 34s 64ms/step - loss: 5.2322 - accuracy: 0.1699 - val_loss: 5.4926 - val_accuracy: 0.1701\n",
            "Epoch 7/20\n",
            "527/527 [==============================] - 34s 64ms/step - loss: 5.0964 - accuracy: 0.1787 - val_loss: 5.4135 - val_accuracy: 0.1749\n",
            "Epoch 8/20\n",
            "527/527 [==============================] - 33s 63ms/step - loss: 4.9740 - accuracy: 0.1857 - val_loss: 5.3433 - val_accuracy: 0.1811\n",
            "Epoch 9/20\n",
            "527/527 [==============================] - 33s 63ms/step - loss: 4.8675 - accuracy: 0.1923 - val_loss: 5.2994 - val_accuracy: 0.1847\n",
            "Epoch 10/20\n",
            "527/527 [==============================] - 33s 63ms/step - loss: 4.7723 - accuracy: 0.1985 - val_loss: 5.2573 - val_accuracy: 0.1885\n",
            "Epoch 11/20\n",
            "527/527 [==============================] - 33s 63ms/step - loss: 4.6862 - accuracy: 0.2035 - val_loss: 5.2190 - val_accuracy: 0.1927\n",
            "Epoch 12/20\n",
            "527/527 [==============================] - 33s 63ms/step - loss: 4.6097 - accuracy: 0.2088 - val_loss: 5.1973 - val_accuracy: 0.1946\n",
            "Epoch 13/20\n",
            "527/527 [==============================] - 33s 63ms/step - loss: 4.5391 - accuracy: 0.2143 - val_loss: 5.1682 - val_accuracy: 0.1982\n",
            "Epoch 14/20\n",
            "527/527 [==============================] - 33s 62ms/step - loss: 4.4748 - accuracy: 0.2196 - val_loss: 5.1403 - val_accuracy: 0.2009\n",
            "Epoch 15/20\n",
            "527/527 [==============================] - 33s 63ms/step - loss: 4.4138 - accuracy: 0.2248 - val_loss: 5.1302 - val_accuracy: 0.2021\n",
            "Epoch 16/20\n",
            "527/527 [==============================] - 33s 63ms/step - loss: 4.3599 - accuracy: 0.2299 - val_loss: 5.1187 - val_accuracy: 0.2056\n",
            "Epoch 17/20\n",
            "527/527 [==============================] - 33s 64ms/step - loss: 4.3088 - accuracy: 0.2346 - val_loss: 5.0974 - val_accuracy: 0.2072\n",
            "Epoch 18/20\n",
            "527/527 [==============================] - 33s 62ms/step - loss: 4.2613 - accuracy: 0.2395 - val_loss: 5.0819 - val_accuracy: 0.2097\n",
            "Epoch 19/20\n",
            "527/527 [==============================] - 33s 63ms/step - loss: 4.2183 - accuracy: 0.2432 - val_loss: 5.0794 - val_accuracy: 0.2115\n",
            "Epoch 20/20\n",
            "527/527 [==============================] - 33s 63ms/step - loss: 4.1785 - accuracy: 0.2473 - val_loss: 5.0743 - val_accuracy: 0.2134\n",
            "Done 20 epoch.\n"
          ],
          "name": "stdout"
        }
      ]
    },
    {
      "cell_type": "code",
      "metadata": {
        "colab": {
          "base_uri": "https://localhost:8080/",
          "height": 403
        },
        "id": "UysIAtBeOBne",
        "outputId": "cbef5d9b-b434-413f-e2f1-f384a10c3203"
      },
      "source": [
        "# 50 dim \n",
        "ResultsDisplay.plot_loss_and_accuracy_graphs(result_4_1['history'])"
      ],
      "execution_count": null,
      "outputs": [
        {
          "output_type": "stream",
          "text": [
            "\n",
            "\n"
          ],
          "name": "stdout"
        },
        {
          "output_type": "display_data",
          "data": {
            "image/png": "[encoded data removed]",
            "text/plain": [
              "<Figure size 504x360 with 2 Axes>"
            ]
          },
          "metadata": {
            "tags": [],
            "needs_background": "light"
          }
        }
      ]
    },
    {
      "cell_type": "code",
      "metadata": {
        "colab": {
          "base_uri": "https://localhost:8080/",
          "height": 403
        },
        "id": "9lra2lDLosFZ",
        "outputId": "984922f0-3feb-4984-826a-6d920427b4de"
      },
      "source": [
        "# 200 dim \n",
        "ResultsDisplay.plot_loss_and_accuracy_graphs(result_4_2['history'])"
      ],
      "execution_count": null,
      "outputs": [
        {
          "output_type": "stream",
          "text": [
            "\n",
            "\n"
          ],
          "name": "stdout"
        },
        {
          "output_type": "display_data",
          "data": {
            "image/png": "[encoded data removed]",
            "text/plain": [
              "<Figure size 504x360 with 2 Axes>"
            ]
          },
          "metadata": {
            "tags": [],
            "needs_background": "light"
          }
        }
      ]
    },
    {
      "cell_type": "code",
      "metadata": {
        "colab": {
          "base_uri": "https://localhost:8080/",
          "height": 403
        },
        "id": "kypQXyPbor4g",
        "outputId": "20c6d3cf-f03c-4a15-f93c-725e15d365d6"
      },
      "source": [
        "# 300 dim \n",
        "ResultsDisplay.plot_loss_and_accuracy_graphs(result_4_3['history'])"
      ],
      "execution_count": null,
      "outputs": [
        {
          "output_type": "stream",
          "text": [
            "\n",
            "\n"
          ],
          "name": "stdout"
        },
        {
          "output_type": "display_data",
          "data": {
            "image/png": "[encoded data removed]",
            "text/plain": [
              "<Figure size 504x360 with 2 Axes>"
            ]
          },
          "metadata": {
            "tags": [],
            "needs_background": "light"
          }
        }
      ]
    },
    {
      "cell_type": "markdown",
      "metadata": {
        "id": "Gg38OptJlSpn"
      },
      "source": [
        "## **Result:** \n",
        "\n",
        "300 dimension embedding matrix performs better (although the difference between 200dim and 300dim is not that much). \n",
        "\n",
        "However we will continue further experiments with a pretrained embedding of **50dim** only (for faster training and lower memory usage) with retrainable setting. In the final model, we may use the higher dimension embedding."
      ]
    },
    {
      "cell_type": "markdown",
      "metadata": {
        "id": "33L-Y4fRpbNN"
      },
      "source": [
        "# **Experiment 5: Comparing num of LSTM layers**\n",
        "Using diff number of LSTM layers:\n",
        "\n",
        "Options:\n",
        "1. Using 1 LSTM layer (already did in experiment 3.3 & 4.1)\n",
        "2. Using 2 LSTM layer "
      ]
    },
    {
      "cell_type": "code",
      "metadata": {
        "id": "yWi3PxqfqXvQ"
      },
      "source": [
        "result_5_1 = result_4_1"
      ],
      "execution_count": null,
      "outputs": []
    },
    {
      "cell_type": "code",
      "metadata": {
        "colab": {
          "base_uri": "https://localhost:8080/"
        },
        "id": "WR59ZsmQpakZ",
        "outputId": "48b35feb-b102-4a46-d17f-f66321c1a790"
      },
      "source": [
        "RNN_UNITS = 256\n",
        "DROPOUT = 0.1\n",
        "LSTM_LAYER = 2\n",
        "my_training_param = {'rnn_units' : RNN_UNITS,\n",
        "                     'dropout'   : DROPOUT,\n",
        "                     'lstm_layer': LSTM_LAYER}\n",
        "\n",
        "experiment_50dim_lstm2 = Experiment(\n",
        "                   f\"50-dim  {LSTM_LAYER} LSTM layer\",\n",
        "                   my_training_param,\n",
        "                   EMBEDDING_DIM, \n",
        "                   long_news_dataset_10seq.embedding.embedding_matrix, # if we don't pass in any, will use the untrained embedding (that is fully trainable)\n",
        "                   False, # if we pass in embedding_matrix, do we want it to be trainable \n",
        "                   long_news_dataset_10seq)\n",
        "\n",
        "EPOCH = 30\n",
        "result_5_2  = experiment_50dim_lstm2.run_experiment(\n",
        "                          f\"Test first {EPOCH} epoch\",\n",
        "                          None,  # if we want to continue training from previous run, pass in the model \n",
        "                          EPOCH ) "
      ],
      "execution_count": 36,
      "outputs": [
        {
          "output_type": "stream",
          "text": [
            "dataset_train batch size: 527\n",
            "dataset_val batch size: 131\n",
            "Running 50-dim  2 LSTM layer:Test first 30 epoch...\n",
            "\n",
            "checkpoint_dir: ./training_checkpoints_12-01-15:14\n",
            "(20002, 50)\n",
            "Model: \"sequential_14\"\n",
            "_________________________________________________________________\n",
            "Layer (type)                 Output Shape              Param #   \n",
            "=================================================================\n",
            "pretrained-embedding (Embedd (128, None, 50)           1000100   \n",
            "_________________________________________________________________\n",
            "lstm_18 (LSTM)               (128, None, 256)          314368    \n",
            "_________________________________________________________________\n",
            "dropout_18 (Dropout)         (128, None, 256)          0         \n",
            "_________________________________________________________________\n",
            "lstm_19 (LSTM)               (128, None, 256)          525312    \n",
            "_________________________________________________________________\n",
            "dropout_19 (Dropout)         (128, None, 256)          0         \n",
            "_________________________________________________________________\n",
            "dense_14 (Dense)             (128, None, 20000)        5140000   \n",
            "=================================================================\n",
            "Total params: 6,979,780\n",
            "Trainable params: 5,979,680\n",
            "Non-trainable params: 1,000,100\n",
            "_________________________________________________________________\n",
            "Epoch 1/30\n",
            "  1/527 [..............................] - ETA: 0s - loss: 9.9032 - accuracy: 0.0000e+00WARNING:tensorflow:Callbacks method `on_train_batch_end` is slow compared to the batch time (batch time: 0.0123s vs `on_train_batch_end` time: 0.0247s). Check your callbacks.\n",
            "527/527 [==============================] - ETA: 0s - loss: 7.2689 - accuracy: 0.0571WARNING:tensorflow:Callbacks method `on_test_batch_end` is slow compared to the batch time (batch time: 0.0034s vs `on_test_batch_end` time: 0.0189s). Check your callbacks.\n",
            "527/527 [==============================] - 23s 44ms/step - loss: 7.2689 - accuracy: 0.0571 - val_loss: 7.2142 - val_accuracy: 0.0564\n",
            "Epoch 2/30\n",
            "527/527 [==============================] - 22s 43ms/step - loss: 7.1108 - accuracy: 0.0574 - val_loss: 7.1477 - val_accuracy: 0.0564\n",
            "Epoch 3/30\n",
            "527/527 [==============================] - 23s 43ms/step - loss: 7.0393 - accuracy: 0.0590 - val_loss: 7.0799 - val_accuracy: 0.0599\n",
            "Epoch 4/30\n",
            "527/527 [==============================] - 23s 43ms/step - loss: 6.9614 - accuracy: 0.0601 - val_loss: 6.9662 - val_accuracy: 0.0628\n",
            "Epoch 5/30\n",
            "527/527 [==============================] - 23s 43ms/step - loss: 6.7781 - accuracy: 0.0679 - val_loss: 6.6582 - val_accuracy: 0.0840\n",
            "Epoch 6/30\n",
            "527/527 [==============================] - 23s 43ms/step - loss: 6.3959 - accuracy: 0.0929 - val_loss: 6.2874 - val_accuracy: 0.1057\n",
            "Epoch 7/30\n",
            "527/527 [==============================] - 23s 43ms/step - loss: 6.0576 - accuracy: 0.1135 - val_loss: 6.0522 - val_accuracy: 0.1241\n",
            "Epoch 8/30\n",
            "527/527 [==============================] - 23s 43ms/step - loss: 5.8162 - accuracy: 0.1291 - val_loss: 5.8869 - val_accuracy: 0.1354\n",
            "Epoch 9/30\n",
            "527/527 [==============================] - 23s 43ms/step - loss: 5.6307 - accuracy: 0.1408 - val_loss: 5.7560 - val_accuracy: 0.1451\n",
            "Epoch 10/30\n",
            "527/527 [==============================] - 23s 43ms/step - loss: 5.4853 - accuracy: 0.1501 - val_loss: 5.6608 - val_accuracy: 0.1524\n",
            "Epoch 11/30\n",
            "527/527 [==============================] - 23s 43ms/step - loss: 5.3620 - accuracy: 0.1569 - val_loss: 5.5849 - val_accuracy: 0.1589\n",
            "Epoch 12/30\n",
            "527/527 [==============================] - 23s 43ms/step - loss: 5.2519 - accuracy: 0.1635 - val_loss: 5.5236 - val_accuracy: 0.1640\n",
            "Epoch 13/30\n",
            "527/527 [==============================] - 22s 43ms/step - loss: 5.1564 - accuracy: 0.1694 - val_loss: 5.4787 - val_accuracy: 0.1665\n",
            "Epoch 14/30\n",
            "527/527 [==============================] - 22s 43ms/step - loss: 5.0719 - accuracy: 0.1738 - val_loss: 5.4308 - val_accuracy: 0.1701\n",
            "Epoch 15/30\n",
            "527/527 [==============================] - 23s 43ms/step - loss: 4.9923 - accuracy: 0.1779 - val_loss: 5.3918 - val_accuracy: 0.1730\n",
            "Epoch 16/30\n",
            "527/527 [==============================] - 22s 42ms/step - loss: 4.9224 - accuracy: 0.1821 - val_loss: 5.3582 - val_accuracy: 0.1770\n",
            "Epoch 17/30\n",
            "527/527 [==============================] - 22s 42ms/step - loss: 4.8559 - accuracy: 0.1860 - val_loss: 5.3251 - val_accuracy: 0.1792\n",
            "Epoch 18/30\n",
            "527/527 [==============================] - 22s 43ms/step - loss: 4.7917 - accuracy: 0.1903 - val_loss: 5.3046 - val_accuracy: 0.1819\n",
            "Epoch 19/30\n",
            "527/527 [==============================] - 23s 43ms/step - loss: 4.7383 - accuracy: 0.1938 - val_loss: 5.2832 - val_accuracy: 0.1843\n",
            "Epoch 20/30\n",
            "527/527 [==============================] - 23s 43ms/step - loss: 4.6862 - accuracy: 0.1976 - val_loss: 5.2640 - val_accuracy: 0.1855\n",
            "Epoch 21/30\n",
            "527/527 [==============================] - 23s 43ms/step - loss: 4.6371 - accuracy: 0.2017 - val_loss: 5.2584 - val_accuracy: 0.1887\n",
            "Epoch 22/30\n",
            "527/527 [==============================] - 23s 43ms/step - loss: 4.5890 - accuracy: 0.2056 - val_loss: 5.2284 - val_accuracy: 0.1904\n",
            "Epoch 23/30\n",
            "527/527 [==============================] - 23s 43ms/step - loss: 4.5449 - accuracy: 0.2092 - val_loss: 5.2369 - val_accuracy: 0.1909\n",
            "Epoch 24/30\n",
            "527/527 [==============================] - 23s 43ms/step - loss: 4.5071 - accuracy: 0.2129 - val_loss: 5.2214 - val_accuracy: 0.1938\n",
            "Epoch 25/30\n",
            "527/527 [==============================] - 23s 44ms/step - loss: 4.4668 - accuracy: 0.2159 - val_loss: 5.2085 - val_accuracy: 0.1954\n",
            "Epoch 26/30\n",
            "527/527 [==============================] - 23s 43ms/step - loss: 4.4338 - accuracy: 0.2193 - val_loss: 5.2031 - val_accuracy: 0.1965\n",
            "Epoch 27/30\n",
            "527/527 [==============================] - 23s 43ms/step - loss: 4.4025 - accuracy: 0.2222 - val_loss: 5.2046 - val_accuracy: 0.1970\n",
            "Epoch 28/30\n",
            "527/527 [==============================] - 23s 43ms/step - loss: 4.3667 - accuracy: 0.2254 - val_loss: 5.1882 - val_accuracy: 0.2010\n",
            "Epoch 29/30\n",
            "527/527 [==============================] - 23s 43ms/step - loss: 4.3380 - accuracy: 0.2276 - val_loss: 5.1888 - val_accuracy: 0.2007\n",
            "Epoch 30/30\n",
            "527/527 [==============================] - 23s 43ms/step - loss: 4.3086 - accuracy: 0.2309 - val_loss: 5.1868 - val_accuracy: 0.2029\n",
            "Done 30 epoch.\n"
          ],
          "name": "stdout"
        }
      ]
    },
    {
      "cell_type": "code",
      "metadata": {
        "colab": {
          "base_uri": "https://localhost:8080/",
          "height": 403
        },
        "id": "eNsrxmAFuq5B",
        "outputId": "bb1a07a8-dfce-4e05-cffa-2f0e79081e8d"
      },
      "source": [
        "# 1 LSTM layer \n",
        "ResultsDisplay.plot_loss_and_accuracy_graphs(result_5_1['history'])"
      ],
      "execution_count": null,
      "outputs": [
        {
          "output_type": "stream",
          "text": [
            "\n",
            "\n"
          ],
          "name": "stdout"
        },
        {
          "output_type": "display_data",
          "data": {
            "image/png": "[encoded data removed]",
            "text/plain": [
              "<Figure size 504x360 with 2 Axes>"
            ]
          },
          "metadata": {
            "tags": [],
            "needs_background": "light"
          }
        }
      ]
    },
    {
      "cell_type": "code",
      "metadata": {
        "colab": {
          "base_uri": "https://localhost:8080/",
          "height": 403
        },
        "id": "r0IgAGyQuqgy",
        "outputId": "67c477c3-775a-44e9-e077-96e32705bb6e"
      },
      "source": [
        "# 2 LSTM layer \n",
        "ResultsDisplay.plot_loss_and_accuracy_graphs(result_5_2['history'])"
      ],
      "execution_count": 90,
      "outputs": [
        {
          "output_type": "stream",
          "text": [
            "\n",
            "\n"
          ],
          "name": "stdout"
        },
        {
          "output_type": "display_data",
          "data": {
            "image/png": "[encoded data removed]",
            "text/plain": [
              "<Figure size 504x360 with 2 Axes>"
            ]
          },
          "metadata": {
            "tags": [],
            "needs_background": "light"
          }
        }
      ]
    },
    {
      "cell_type": "markdown",
      "metadata": {
        "id": "ItDz3t70upo5"
      },
      "source": [
        "## **Result:**\n",
        "\n",
        "Using additional LSTM layer did not improve the performance by much, but it does reduce the variance (in additional to each LSTM layer, it also add the same number of DROPOUT layer).  We will use 2 LSTM in the final model."
      ]
    },
    {
      "cell_type": "markdown",
      "metadata": {
        "id": "Hka5uFZRupXv"
      },
      "source": [
        "# **Experiment 6: Comparing num RNN units**\n",
        "\n",
        "Choosing RNN_UNITS (all trained with the same numbers of LSTM + DROPOUT layer)\n",
        "\n",
        "Options:\n",
        "1. Using 256 units (already did in experiment 5.2)\n",
        "2. Using 1024 units\n"
      ]
    },
    {
      "cell_type": "code",
      "metadata": {
        "id": "orC2YY_Rw4hb"
      },
      "source": [
        "result_6_1 = result_5_2"
      ],
      "execution_count": 40,
      "outputs": []
    },
    {
      "cell_type": "code",
      "metadata": {
        "colab": {
          "base_uri": "https://localhost:8080/"
        },
        "id": "p5xByofa3jeU",
        "outputId": "e3c56d61-bccf-4310-fb0e-522cf421101c"
      },
      "source": [
        "RNN_UNITS = 1024\n",
        "DROPOUT = 0.1\n",
        "LSTM_LAYER = 2\n",
        "my_training_param = {'rnn_units' : RNN_UNITS,\n",
        "                     'dropout'   : DROPOUT,\n",
        "                     'lstm_layer': LSTM_LAYER}\n",
        "\n",
        "experiment_50dim_rnn1024 = Experiment(\n",
        "                   f\"50-dim  {LSTM_LAYER} LSTM layer (RNN={RNN_UNITS})\",\n",
        "                   my_training_param,\n",
        "                   EMBEDDING_DIM, \n",
        "                   long_news_dataset_10seq.embedding.embedding_matrix, # if we don't pass in any, will use the untrained embedding (that is fully trainable)\n",
        "                   EMBEDDING_TRAINABLE, # if we pass in embedding_matrix, do we want it to be trainable \n",
        "                   long_news_dataset_10seq)\n",
        "\n",
        "EPOCH = 30\n",
        "result_6_3  = experiment_50dim_rnn1024.run_experiment(\n",
        "                          f\"Test first {EPOCH} epoch\",\n",
        "                          None,  # if we want to continue training from previous run, pass in the model \n",
        "                          EPOCH ) "
      ],
      "execution_count": 43,
      "outputs": [
        {
          "output_type": "stream",
          "text": [
            "dataset_train batch size: 527\n",
            "dataset_val batch size: 131\n",
            "Running 50-dim  2 LSTM layer (RNN=1024):Test first 30 epoch...\n",
            "\n",
            "checkpoint_dir: ./training_checkpoints_12-01-15:28\n",
            "(20002, 50)\n",
            "Model: \"sequential_18\"\n",
            "_________________________________________________________________\n",
            "Layer (type)                 Output Shape              Param #   \n",
            "=================================================================\n",
            "pretrained-embedding (Embedd (128, None, 50)           1000100   \n",
            "_________________________________________________________________\n",
            "lstm_26 (LSTM)               (128, None, 1024)         4403200   \n",
            "_________________________________________________________________\n",
            "dropout_26 (Dropout)         (128, None, 1024)         0         \n",
            "_________________________________________________________________\n",
            "lstm_27 (LSTM)               (128, None, 1024)         8392704   \n",
            "_________________________________________________________________\n",
            "dropout_27 (Dropout)         (128, None, 1024)         0         \n",
            "_________________________________________________________________\n",
            "dense_18 (Dense)             (128, None, 20000)        20500000  \n",
            "=================================================================\n",
            "Total params: 34,296,004\n",
            "Trainable params: 33,295,904\n",
            "Non-trainable params: 1,000,100\n",
            "_________________________________________________________________\n",
            "Epoch 1/30\n",
            "  2/527 [..............................] - ETA: 14s - loss: 9.8839 - accuracy: 0.0305   WARNING:tensorflow:Callbacks method `on_train_batch_end` is slow compared to the batch time (batch time: 0.0111s vs `on_train_batch_end` time: 0.0423s). Check your callbacks.\n",
            "526/527 [============================>.] - ETA: 0s - loss: 7.2905 - accuracy: 0.0572WARNING:tensorflow:Callbacks method `on_test_batch_end` is slow compared to the batch time (batch time: 0.0035s vs `on_test_batch_end` time: 0.0250s). Check your callbacks.\n",
            "527/527 [==============================] - 34s 64ms/step - loss: 7.2899 - accuracy: 0.0572 - val_loss: 6.9705 - val_accuracy: 0.0638\n",
            "Epoch 2/30\n",
            "527/527 [==============================] - 32s 60ms/step - loss: 6.4558 - accuracy: 0.0885 - val_loss: 6.1037 - val_accuracy: 0.1182\n",
            "Epoch 3/30\n",
            "527/527 [==============================] - 32s 60ms/step - loss: 5.7651 - accuracy: 0.1335 - val_loss: 5.6747 - val_accuracy: 0.1491\n",
            "Epoch 4/30\n",
            "527/527 [==============================] - 33s 62ms/step - loss: 5.3170 - accuracy: 0.1619 - val_loss: 5.4259 - val_accuracy: 0.1690\n",
            "Epoch 5/30\n",
            "527/527 [==============================] - 32s 60ms/step - loss: 4.9647 - accuracy: 0.1839 - val_loss: 5.2445 - val_accuracy: 0.1838\n",
            "Epoch 6/30\n",
            "527/527 [==============================] - 32s 60ms/step - loss: 4.6514 - accuracy: 0.2049 - val_loss: 5.1049 - val_accuracy: 0.1989\n",
            "Epoch 7/30\n",
            "527/527 [==============================] - 33s 62ms/step - loss: 4.3623 - accuracy: 0.2276 - val_loss: 4.9899 - val_accuracy: 0.2116\n",
            "Epoch 8/30\n",
            "527/527 [==============================] - 32s 60ms/step - loss: 4.0912 - accuracy: 0.2536 - val_loss: 4.9090 - val_accuracy: 0.2230\n",
            "Epoch 9/30\n",
            "527/527 [==============================] - 32s 60ms/step - loss: 3.8374 - accuracy: 0.2819 - val_loss: 4.8271 - val_accuracy: 0.2368\n",
            "Epoch 10/30\n",
            "527/527 [==============================] - 32s 61ms/step - loss: 3.6010 - accuracy: 0.3109 - val_loss: 4.7636 - val_accuracy: 0.2488\n",
            "Epoch 11/30\n",
            "527/527 [==============================] - 32s 61ms/step - loss: 3.3837 - accuracy: 0.3396 - val_loss: 4.7038 - val_accuracy: 0.2587\n",
            "Epoch 12/30\n",
            "527/527 [==============================] - 33s 62ms/step - loss: 3.1770 - accuracy: 0.3695 - val_loss: 4.6666 - val_accuracy: 0.2690\n",
            "Epoch 13/30\n",
            "527/527 [==============================] - 32s 61ms/step - loss: 2.9855 - accuracy: 0.3984 - val_loss: 4.6235 - val_accuracy: 0.2806\n",
            "Epoch 14/30\n",
            "527/527 [==============================] - 32s 61ms/step - loss: 2.8073 - accuracy: 0.4277 - val_loss: 4.5870 - val_accuracy: 0.2921\n",
            "Epoch 15/30\n",
            "527/527 [==============================] - 33s 62ms/step - loss: 2.6444 - accuracy: 0.4553 - val_loss: 4.5591 - val_accuracy: 0.3014\n",
            "Epoch 16/30\n",
            "527/527 [==============================] - 32s 60ms/step - loss: 2.4915 - accuracy: 0.4818 - val_loss: 4.5249 - val_accuracy: 0.3126\n",
            "Epoch 17/30\n",
            "527/527 [==============================] - 33s 62ms/step - loss: 2.3535 - accuracy: 0.5065 - val_loss: 4.5019 - val_accuracy: 0.3225\n",
            "Epoch 18/30\n",
            "527/527 [==============================] - 32s 60ms/step - loss: 2.2246 - accuracy: 0.5309 - val_loss: 4.4806 - val_accuracy: 0.3335\n",
            "Epoch 19/30\n",
            "527/527 [==============================] - 32s 60ms/step - loss: 2.1045 - accuracy: 0.5537 - val_loss: 4.4685 - val_accuracy: 0.3429\n",
            "Epoch 20/30\n",
            "527/527 [==============================] - 33s 63ms/step - loss: 1.9999 - accuracy: 0.5742 - val_loss: 4.4549 - val_accuracy: 0.3510\n",
            "Epoch 21/30\n",
            "527/527 [==============================] - 32s 60ms/step - loss: 1.9000 - accuracy: 0.5944 - val_loss: 4.4447 - val_accuracy: 0.3589\n",
            "Epoch 22/30\n",
            "527/527 [==============================] - 32s 60ms/step - loss: 1.8099 - accuracy: 0.6106 - val_loss: 4.4481 - val_accuracy: 0.3648\n",
            "Epoch 23/30\n",
            "527/527 [==============================] - 33s 62ms/step - loss: 1.7283 - accuracy: 0.6271 - val_loss: 4.4362 - val_accuracy: 0.3740\n",
            "Epoch 24/30\n",
            "527/527 [==============================] - 32s 60ms/step - loss: 1.6513 - accuracy: 0.6429 - val_loss: 4.4281 - val_accuracy: 0.3805\n",
            "Epoch 25/30\n",
            "527/527 [==============================] - 33s 62ms/step - loss: 1.5822 - accuracy: 0.6572 - val_loss: 4.4297 - val_accuracy: 0.3880\n",
            "Epoch 26/30\n",
            "527/527 [==============================] - 32s 60ms/step - loss: 1.5219 - accuracy: 0.6695 - val_loss: 4.4236 - val_accuracy: 0.3940\n",
            "Epoch 27/30\n",
            "527/527 [==============================] - 32s 60ms/step - loss: 1.4679 - accuracy: 0.6800 - val_loss: 4.4288 - val_accuracy: 0.4002\n",
            "Epoch 28/30\n",
            "527/527 [==============================] - 33s 62ms/step - loss: 1.4171 - accuracy: 0.6904 - val_loss: 4.4211 - val_accuracy: 0.4057\n",
            "Epoch 29/30\n",
            "527/527 [==============================] - 32s 61ms/step - loss: 1.3741 - accuracy: 0.6995 - val_loss: 4.4212 - val_accuracy: 0.4112\n",
            "Epoch 30/30\n",
            "527/527 [==============================] - 32s 61ms/step - loss: 1.3304 - accuracy: 0.7082 - val_loss: 4.4338 - val_accuracy: 0.4149\n",
            "Done 30 epoch.\n"
          ],
          "name": "stdout"
        }
      ]
    },
    {
      "cell_type": "code",
      "metadata": {
        "id": "5OPYvLZu8975",
        "colab": {
          "base_uri": "https://localhost:8080/",
          "height": 403
        },
        "outputId": "b1ba82f8-e50f-4223-f5ef-44c2be3357bd"
      },
      "source": [
        "# 2 LSTM layer with rnn=256\n",
        "ResultsDisplay.plot_loss_and_accuracy_graphs(result_6_1['history'])"
      ],
      "execution_count": 92,
      "outputs": [
        {
          "output_type": "stream",
          "text": [
            "\n",
            "\n"
          ],
          "name": "stdout"
        },
        {
          "output_type": "display_data",
          "data": {
            "image/png": "[encoded data removed]",
            "text/plain": [
              "<Figure size 504x360 with 2 Axes>"
            ]
          },
          "metadata": {
            "tags": [],
            "needs_background": "light"
          }
        }
      ]
    },
    {
      "cell_type": "code",
      "metadata": {
        "colab": {
          "base_uri": "https://localhost:8080/",
          "height": 403
        },
        "id": "QKwYCBinzo6H",
        "outputId": "99076530-462f-4442-8893-f578778fcc7d"
      },
      "source": [
        "# 2 LSTM layer with rnn=1024\n",
        "ResultsDisplay.plot_loss_and_accuracy_graphs(result_6_3['history'])"
      ],
      "execution_count": 93,
      "outputs": [
        {
          "output_type": "stream",
          "text": [
            "\n",
            "\n"
          ],
          "name": "stdout"
        },
        {
          "output_type": "display_data",
          "data": {
            "image/png": "[encoded data removed]",
            "text/plain": [
              "<Figure size 504x360 with 2 Axes>"
            ]
          },
          "metadata": {
            "tags": [],
            "needs_background": "light"
          }
        }
      ]
    },
    {
      "cell_type": "markdown",
      "metadata": {
        "id": "kQ1r6-4m_esz"
      },
      "source": [
        "## **Result:**\n",
        "\n",
        "Increasing RNN units improves more than increasing the LSTM layers. Using more RNN units does improve the model performance (although we still have overfitting). We will use more RNN units in the final model.\n",
        "\n"
      ]
    },
    {
      "cell_type": "code",
      "metadata": {
        "id": "KHuk0-qeAEX_"
      },
      "source": [
        "start_string_list = ['Today is a good',\n",
        "                   'Trump is',\n",
        "                   'US plans to',\n",
        "                   'Small business suffers',\n",
        "                   'Tomorrow we will know',\n",
        "                   'there were 2 mass shootings in texas last week',\n",
        "                   'US stock market will continue to',\n",
        "                   'The Oscar goes to',\n",
        "                   \"What is\",\n",
        "                   \"Gunmen Assassinate Iran’s Top Nuclear Scientist\",\n",
        "                   \"Iran’s president blames Israel for killing nuclear scientist and vows to\",\n",
        "                   \"Man linked the killing of\",\n",
        "                   \"This Thanksgiving\"\n",
        "                   ]\n",
        "result_tester = ResultsDisplay(start_string_list) "
      ],
      "execution_count": 95,
      "outputs": []
    },
    {
      "cell_type": "code",
      "metadata": {
        "colab": {
          "base_uri": "https://localhost:8080/",
          "height": 896
        },
        "id": "Fb53g62B_yb8",
        "outputId": "e4206545-e46a-4200-d2f9-eca010ee9c50"
      },
      "source": [
        "# Showing text generation of the last best performed model in the experiements\n",
        "result_tester.show_experiment_results(result_6_3, long_news_dataset_10seq.my_vocab)"
      ],
      "execution_count": 96,
      "outputs": [
        {
          "output_type": "stream",
          "text": [
            "Experiment: 50-dim  2 LSTM layer (RNN=1024):Test first 30 epoch\n",
            "training_param: {'rnn_units': 1024, 'dropout': 0.1, 'lstm_layer': 2}\n",
            "max_seq_len: 10\n",
            "\n",
            "\n"
          ],
          "name": "stdout"
        },
        {
          "output_type": "display_data",
          "data": {
            "image/png": "[encoded data removed]",
            "text/plain": [
              "<Figure size 504x360 with 2 Axes>"
            ]
          },
          "metadata": {
            "tags": [],
            "needs_background": "light"
          }
        },
        {
          "output_type": "stream",
          "text": [
            "#1:  Today is a good...\n",
            "         mechanism and challenging the wall street financier linton pushed by refusing deportees at chairman of a republican lawmaker ron johnson\n",
            "#2:  Trump is...\n",
            "         expected to arrive to pakistan to be honest trustworthy twoincome ad buys insurance markets have that they support from seven\n",
            "#3:  US plans to...\n",
            "         invade north korea according to advise the democratic presidential opponent for business chief executive order that washington on nbcs ceremony\n",
            "#4:  Small business suffers...\n",
            "         in which depend its political was sending from quoting only partially granted when asked how he was going and training\n",
            "#5:  Tomorrow we will know...\n",
            "         very fast halt congress might the insurance plans on thursday by former democratic lawmakers have concluded to deliver deep the\n",
            "#6:  there were 2 mass shootings in texas last week...\n",
            "         sought to help farmers automakers in last november he expected for the testimony said on china since 1994 with him\n",
            "#7:  US stock market will continue to...\n",
            "         take place to be a decision on the wall which provides a major incident because refugees who still fewer people\n",
            "#8:  The Oscar goes to...\n",
            "         which is already rallied behind closed hearing are unlikely to work and that the only the opposition to provide an\n",
            "#9:  What is...\n",
            "         known as well as fundraiser for lower tax cut money laundering count in trumps professional success to receive a opposition\n",
            "#10:  Gunmen Assassinate Iran’s Top Nuclear Scientist...\n",
            "         the longheld womens its fulltime a big 20 percent of the 12 years republicans lost subsidies at 10 years more\n",
            "#11:  Iran’s president blames Israel for killing nuclear scientist and vows to...\n",
            "         reaching an advanced the wholesale price has lost subsidies to a loud and steve bannon gave her body as children\n",
            "#12:  Man linked the killing of...\n",
            "         north korea and the debt ceiling they were by the surveillance are on monday us geological such as a proposed\n",
            "#13:  This Thanksgiving...\n",
            "         because of the administration attaching a program while won his independence makes gains the taxwriting travels on fox news briefing\n"
          ],
          "name": "stdout"
        }
      ]
    },
    {
      "cell_type": "markdown",
      "metadata": {
        "id": "pSNp52GDiLu0"
      },
      "source": [
        "\n",
        "# **Experimentation Summary:** \n",
        "\n",
        "After running all different experiments, we concluded that the final model should use the long news dataset. The long news dataset performs better (expected) because there are more related text sequence within the same news, rather than shorter descriptions of different unrelated news joined together.  The training input and target pairs may be meaningless when the different news joined in the text file and made up a sequece. Short news has higher probability of such unrelated words in the same sequences. \n",
        "\n",
        "Using a smaller max_sequence_length also helps breaking the datasets into more sequences (hence more training samples). That improves training.  \n",
        "\n",
        "Using a pretrained embedding of high dimension (e.g., 300) also helps improve the performance.   \n",
        "\n",
        "Using additional LSTM layer does not improve the performance, although with more LSTM (and the DROPOUT layers), it helps reduce overfitting a little.\n",
        "Using more RNN units per LSTM layer definitely improves the performance. \n",
        "\n",
        "So we will use higher RNN units in the final model.\n"
      ]
    },
    {
      "cell_type": "markdown",
      "metadata": {
        "id": "li8FCkX-eXA7"
      },
      "source": [
        "## **Train the final model**\n",
        "\n",
        "\n",
        "Now train our final model using a larger batch size and with 1024 RNN units, using 300 dim pretrained embedding. "
      ]
    },
    {
      "cell_type": "code",
      "metadata": {
        "colab": {
          "base_uri": "https://localhost:8080/"
        },
        "id": "lRlyF2nAjvE5",
        "outputId": "d9c87ce6-6a58-49aa-dd54-0fb0f3204f89"
      },
      "source": [
        "VALIDATION_SPLIT = 0.2 \n",
        "BATCH_SIZE = 128\n",
        "EMBEDDING_DIM = 300  # increase the dimension \n",
        "MAX_TOKENS = 20000 # this is fixed to 20K for all tests \n",
        "TEXT_LIMIT = 5800000 \n",
        "\n",
        "long_news_file_path = DATA_DIR+'true_news_text.txt'\n",
        "my_dataset = TextDataset(long_news_file_path, TEXT_LIMIT, MAX_TOKENS, EMBEDDING_DIM, 10, VALIDATION_SPLIT, BATCH_SIZE)"
      ],
      "execution_count": 52,
      "outputs": [
        {
          "output_type": "stream",
          "text": [
            "Found 400000 word vectors.\n",
            "Converted 17577 words (2423 misses) in the embedding\n",
            "\n",
            "dataset size: 84478\n",
            "num_validation_samples: 16895\n",
            "dataset_train size: 67583\n",
            "dataset_val size: 16895\n",
            "dataset_train batch size: 527\n",
            "dataset_val batch size: 131\n"
          ],
          "name": "stdout"
        }
      ]
    },
    {
      "cell_type": "code",
      "metadata": {
        "colab": {
          "base_uri": "https://localhost:8080/"
        },
        "id": "5RL1jw2ckFYv",
        "outputId": "6d964e04-f575-4e1f-bf84-80246ca7a3be"
      },
      "source": [
        "RNN_UNITS = 1024\n",
        "DROPOUT = 0.4 # use higher drop out if needed more regularization \n",
        "LSTM_LAYER = 2\n",
        "\n",
        "my_training_param = {'rnn_units' : RNN_UNITS,\n",
        "                     'dropout'   : DROPOUT,\n",
        "                     'lstm_layer': LSTM_LAYER}\n",
        "\n",
        "final_model = Experiment(\n",
        "                   f\"{LSTM_LAYER}LSTM dropout={DROPOUT}\",\n",
        "                   my_training_param,\n",
        "                   EMBEDDING_DIM, \n",
        "                   my_dataset.embedding.embedding_matrix, # if we don't pass in any, will use the untrained embedding (that is fully trainable)\n",
        "                   False, # Not retrainable \n",
        "                   my_dataset)\n",
        "\n",
        "EPOCH = 100\n",
        "result1  = final_model.run_experiment(\n",
        "                          f\"Test first {EPOCH} epoch\",\n",
        "                          None,  # if we want to continue training from previous run, pass in previous result dictionary \n",
        "                          EPOCH ) "
      ],
      "execution_count": 102,
      "outputs": [
        {
          "output_type": "stream",
          "text": [
            "dataset_train batch size: 527\n",
            "dataset_val batch size: 131\n",
            "Running 2LSTM dropout=0.4:Test first 100 epoch...\n",
            "\n",
            "checkpoint_dir: ./training_checkpoints_12-01-17:51\n",
            "(20002, 300)\n",
            "Model: \"sequential_36\"\n",
            "_________________________________________________________________\n",
            "Layer (type)                 Output Shape              Param #   \n",
            "=================================================================\n",
            "pretrained-embedding (Embedd (128, None, 300)          6000600   \n",
            "_________________________________________________________________\n",
            "lstm_58 (LSTM)               (128, None, 1024)         5427200   \n",
            "_________________________________________________________________\n",
            "dropout_58 (Dropout)         (128, None, 1024)         0         \n",
            "_________________________________________________________________\n",
            "lstm_59 (LSTM)               (128, None, 1024)         8392704   \n",
            "_________________________________________________________________\n",
            "dropout_59 (Dropout)         (128, None, 1024)         0         \n",
            "_________________________________________________________________\n",
            "dense_34 (Dense)             (128, None, 20000)        20500000  \n",
            "=================================================================\n",
            "Total params: 40,320,504\n",
            "Trainable params: 34,319,904\n",
            "Non-trainable params: 6,000,600\n",
            "_________________________________________________________________\n",
            "Epoch 1/100\n",
            "  2/527 [..............................] - ETA: 14s - loss: 9.8878 - accuracy: 0.0262   WARNING:tensorflow:Callbacks method `on_train_batch_end` is slow compared to the batch time (batch time: 0.0137s vs `on_train_batch_end` time: 0.0409s). Check your callbacks.\n",
            "526/527 [============================>.] - ETA: 0s - loss: 7.2799 - accuracy: 0.0569WARNING:tensorflow:Callbacks method `on_test_batch_end` is slow compared to the batch time (batch time: 0.0039s vs `on_test_batch_end` time: 0.0216s). Check your callbacks.\n",
            "527/527 [==============================] - 63s 119ms/step - loss: 7.2792 - accuracy: 0.0569 - val_loss: 6.9323 - val_accuracy: 0.0646\n",
            "Epoch 2/100\n",
            "527/527 [==============================] - 50s 95ms/step - loss: 6.3606 - accuracy: 0.1002 - val_loss: 5.9515 - val_accuracy: 0.1360\n",
            "Epoch 3/100\n",
            "527/527 [==============================] - 33s 63ms/step - loss: 5.6735 - accuracy: 0.1470 - val_loss: 5.5325 - val_accuracy: 0.1669\n",
            "Epoch 4/100\n",
            "527/527 [==============================] - 32s 61ms/step - loss: 5.2766 - accuracy: 0.1738 - val_loss: 5.2807 - val_accuracy: 0.1856\n",
            "Epoch 5/100\n",
            "527/527 [==============================] - 33s 63ms/step - loss: 4.9792 - accuracy: 0.1925 - val_loss: 5.1139 - val_accuracy: 0.1996\n",
            "Epoch 6/100\n",
            "527/527 [==============================] - 34s 64ms/step - loss: 4.7226 - accuracy: 0.2077 - val_loss: 4.9822 - val_accuracy: 0.2098\n",
            "Epoch 7/100\n",
            "527/527 [==============================] - 33s 62ms/step - loss: 4.4883 - accuracy: 0.2235 - val_loss: 4.8824 - val_accuracy: 0.2209\n",
            "Epoch 8/100\n",
            "527/527 [==============================] - 34s 64ms/step - loss: 4.2792 - accuracy: 0.2392 - val_loss: 4.8030 - val_accuracy: 0.2298\n",
            "Epoch 9/100\n",
            "527/527 [==============================] - 32s 61ms/step - loss: 4.0875 - accuracy: 0.2555 - val_loss: 4.7308 - val_accuracy: 0.2388\n",
            "Epoch 10/100\n",
            "527/527 [==============================] - 32s 61ms/step - loss: 3.9141 - accuracy: 0.2730 - val_loss: 4.6787 - val_accuracy: 0.2465\n",
            "Epoch 11/100\n",
            "527/527 [==============================] - 33s 63ms/step - loss: 3.7579 - accuracy: 0.2896 - val_loss: 4.6303 - val_accuracy: 0.2549\n",
            "Epoch 12/100\n",
            "527/527 [==============================] - 32s 61ms/step - loss: 3.6205 - accuracy: 0.3057 - val_loss: 4.5837 - val_accuracy: 0.2620\n",
            "Epoch 13/100\n",
            "527/527 [==============================] - 33s 62ms/step - loss: 3.4944 - accuracy: 0.3202 - val_loss: 4.5445 - val_accuracy: 0.2694\n",
            "Epoch 14/100\n",
            "527/527 [==============================] - 33s 63ms/step - loss: 3.3821 - accuracy: 0.3337 - val_loss: 4.5246 - val_accuracy: 0.2765\n",
            "Epoch 15/100\n",
            "527/527 [==============================] - 32s 61ms/step - loss: 3.2820 - accuracy: 0.3471 - val_loss: 4.4897 - val_accuracy: 0.2830\n",
            "Epoch 16/100\n",
            "527/527 [==============================] - 33s 64ms/step - loss: 3.1896 - accuracy: 0.3588 - val_loss: 4.4731 - val_accuracy: 0.2890\n",
            "Epoch 17/100\n",
            "527/527 [==============================] - 32s 61ms/step - loss: 3.1086 - accuracy: 0.3694 - val_loss: 4.4457 - val_accuracy: 0.2942\n",
            "Epoch 18/100\n",
            "527/527 [==============================] - 32s 61ms/step - loss: 3.0328 - accuracy: 0.3803 - val_loss: 4.4277 - val_accuracy: 0.2995\n",
            "Epoch 19/100\n",
            "527/527 [==============================] - 33s 63ms/step - loss: 2.9609 - accuracy: 0.3898 - val_loss: 4.4287 - val_accuracy: 0.3028\n",
            "Epoch 20/100\n",
            "527/527 [==============================] - 33s 62ms/step - loss: 2.8976 - accuracy: 0.3990 - val_loss: 4.4134 - val_accuracy: 0.3077\n",
            "Epoch 21/100\n",
            "527/527 [==============================] - 32s 61ms/step - loss: 2.8393 - accuracy: 0.4071 - val_loss: 4.3955 - val_accuracy: 0.3134\n",
            "Epoch 22/100\n",
            "527/527 [==============================] - 33s 63ms/step - loss: 2.7819 - accuracy: 0.4160 - val_loss: 4.3923 - val_accuracy: 0.3172\n",
            "Epoch 23/100\n",
            "527/527 [==============================] - 32s 61ms/step - loss: 2.7346 - accuracy: 0.4231 - val_loss: 4.3731 - val_accuracy: 0.3215\n",
            "Epoch 24/100\n",
            "527/527 [==============================] - 32s 61ms/step - loss: 2.6912 - accuracy: 0.4288 - val_loss: 4.3681 - val_accuracy: 0.3256\n",
            "Epoch 25/100\n",
            "527/527 [==============================] - 33s 62ms/step - loss: 2.6419 - accuracy: 0.4358 - val_loss: 4.3658 - val_accuracy: 0.3281\n",
            "Epoch 26/100\n",
            "527/527 [==============================] - 32s 61ms/step - loss: 2.6052 - accuracy: 0.4418 - val_loss: 4.3560 - val_accuracy: 0.3322\n",
            "Epoch 27/100\n",
            "527/527 [==============================] - 33s 62ms/step - loss: 2.5658 - accuracy: 0.4479 - val_loss: 4.3522 - val_accuracy: 0.3364\n",
            "Epoch 28/100\n",
            "527/527 [==============================] - 32s 61ms/step - loss: 2.5307 - accuracy: 0.4536 - val_loss: 4.3564 - val_accuracy: 0.3389\n",
            "Epoch 29/100\n",
            "527/527 [==============================] - 32s 61ms/step - loss: 2.4977 - accuracy: 0.4586 - val_loss: 4.3526 - val_accuracy: 0.3437\n",
            "Epoch 30/100\n",
            "527/527 [==============================] - 32s 61ms/step - loss: 2.4698 - accuracy: 0.4623 - val_loss: 4.3475 - val_accuracy: 0.3432\n",
            "Epoch 31/100\n",
            "527/527 [==============================] - 32s 61ms/step - loss: 2.4399 - accuracy: 0.4673 - val_loss: 4.3381 - val_accuracy: 0.3465\n",
            "Epoch 32/100\n",
            "527/527 [==============================] - 33s 63ms/step - loss: 2.4157 - accuracy: 0.4717 - val_loss: 4.3341 - val_accuracy: 0.3479\n",
            "Epoch 33/100\n",
            "527/527 [==============================] - 32s 61ms/step - loss: 2.3869 - accuracy: 0.4750 - val_loss: 4.3392 - val_accuracy: 0.3505\n",
            "Epoch 34/100\n",
            "527/527 [==============================] - 32s 61ms/step - loss: 2.3646 - accuracy: 0.4795 - val_loss: 4.3241 - val_accuracy: 0.3536\n",
            "Epoch 35/100\n",
            "527/527 [==============================] - 38s 72ms/step - loss: 2.3434 - accuracy: 0.4828 - val_loss: 4.3470 - val_accuracy: 0.3547\n",
            "Epoch 36/100\n",
            "527/527 [==============================] - 32s 61ms/step - loss: 2.3203 - accuracy: 0.4858 - val_loss: 4.3357 - val_accuracy: 0.3565\n",
            "Epoch 37/100\n",
            "527/527 [==============================] - 31s 60ms/step - loss: 2.3005 - accuracy: 0.4904 - val_loss: 4.3412 - val_accuracy: 0.3577\n",
            "Epoch 38/100\n",
            "527/527 [==============================] - 33s 62ms/step - loss: 2.2804 - accuracy: 0.4924 - val_loss: 4.3363 - val_accuracy: 0.3620\n",
            "Epoch 39/100\n",
            "527/527 [==============================] - 32s 60ms/step - loss: 2.2645 - accuracy: 0.4949 - val_loss: 4.3267 - val_accuracy: 0.3643\n",
            "Epoch 40/100\n",
            "527/527 [==============================] - 32s 60ms/step - loss: 2.2478 - accuracy: 0.4984 - val_loss: 4.3328 - val_accuracy: 0.3650\n",
            "Epoch 41/100\n",
            "527/527 [==============================] - 33s 64ms/step - loss: 2.2295 - accuracy: 0.5012 - val_loss: 4.3488 - val_accuracy: 0.3658\n",
            "Epoch 42/100\n",
            "527/527 [==============================] - 33s 63ms/step - loss: 2.2176 - accuracy: 0.5032 - val_loss: 4.3349 - val_accuracy: 0.3695\n",
            "Epoch 43/100\n",
            "527/527 [==============================] - 33s 63ms/step - loss: 2.1982 - accuracy: 0.5065 - val_loss: 4.3508 - val_accuracy: 0.3687\n",
            "Epoch 44/100\n",
            "527/527 [==============================] - 33s 62ms/step - loss: 2.1877 - accuracy: 0.5083 - val_loss: 4.3459 - val_accuracy: 0.3711\n",
            "Epoch 45/100\n",
            "527/527 [==============================] - 33s 62ms/step - loss: 2.1730 - accuracy: 0.5106 - val_loss: 4.3527 - val_accuracy: 0.3730\n",
            "Epoch 46/100\n",
            "527/527 [==============================] - 34s 64ms/step - loss: 2.1609 - accuracy: 0.5119 - val_loss: 4.3519 - val_accuracy: 0.3727\n",
            "Epoch 47/100\n",
            "527/527 [==============================] - 33s 62ms/step - loss: 2.1460 - accuracy: 0.5156 - val_loss: 4.3535 - val_accuracy: 0.3753\n",
            "Epoch 48/100\n",
            "527/527 [==============================] - 33s 63ms/step - loss: 2.1356 - accuracy: 0.5172 - val_loss: 4.3374 - val_accuracy: 0.3771\n",
            "Epoch 49/100\n",
            "527/527 [==============================] - 32s 61ms/step - loss: 2.1264 - accuracy: 0.5180 - val_loss: 4.3391 - val_accuracy: 0.3784\n",
            "Epoch 50/100\n",
            "527/527 [==============================] - 57s 109ms/step - loss: 2.1127 - accuracy: 0.5207 - val_loss: 4.3593 - val_accuracy: 0.3793\n",
            "Epoch 51/100\n",
            "527/527 [==============================] - 59s 113ms/step - loss: 2.1002 - accuracy: 0.5231 - val_loss: 4.3486 - val_accuracy: 0.3810\n",
            "Epoch 52/100\n",
            "527/527 [==============================] - 58s 110ms/step - loss: 2.0945 - accuracy: 0.5232 - val_loss: 4.3494 - val_accuracy: 0.3834\n",
            "Epoch 53/100\n",
            "527/527 [==============================] - 58s 111ms/step - loss: 2.0819 - accuracy: 0.5265 - val_loss: 4.3563 - val_accuracy: 0.3828\n",
            "Epoch 54/100\n",
            "527/527 [==============================] - 58s 109ms/step - loss: 2.0785 - accuracy: 0.5266 - val_loss: 4.3421 - val_accuracy: 0.3856\n",
            "Epoch 55/100\n",
            "527/527 [==============================] - 34s 64ms/step - loss: 2.0685 - accuracy: 0.5281 - val_loss: 4.3699 - val_accuracy: 0.3834\n",
            "Epoch 56/100\n",
            "527/527 [==============================] - 34s 64ms/step - loss: 2.0570 - accuracy: 0.5309 - val_loss: 4.3652 - val_accuracy: 0.3858\n",
            "Epoch 57/100\n",
            "527/527 [==============================] - 33s 63ms/step - loss: 2.0489 - accuracy: 0.5318 - val_loss: 4.3721 - val_accuracy: 0.3863\n",
            "Epoch 58/100\n",
            "527/527 [==============================] - 32s 62ms/step - loss: 2.0442 - accuracy: 0.5320 - val_loss: 4.3708 - val_accuracy: 0.3872\n",
            "Epoch 59/100\n",
            "527/527 [==============================] - 32s 62ms/step - loss: 2.0335 - accuracy: 0.5336 - val_loss: 4.3887 - val_accuracy: 0.3867\n",
            "Epoch 60/100\n",
            "527/527 [==============================] - 32s 62ms/step - loss: 2.0290 - accuracy: 0.5350 - val_loss: 4.3730 - val_accuracy: 0.3884\n",
            "Epoch 61/100\n",
            "527/527 [==============================] - 33s 63ms/step - loss: 2.0222 - accuracy: 0.5364 - val_loss: 4.3776 - val_accuracy: 0.3891\n",
            "Epoch 62/100\n",
            "527/527 [==============================] - 32s 62ms/step - loss: 2.0169 - accuracy: 0.5368 - val_loss: 4.3752 - val_accuracy: 0.3909\n",
            "Epoch 63/100\n",
            "527/527 [==============================] - 32s 61ms/step - loss: 2.0084 - accuracy: 0.5388 - val_loss: 4.3779 - val_accuracy: 0.3915\n",
            "Epoch 64/100\n",
            "527/527 [==============================] - 33s 63ms/step - loss: 2.0005 - accuracy: 0.5400 - val_loss: 4.3930 - val_accuracy: 0.3926\n",
            "Epoch 65/100\n",
            "527/527 [==============================] - 33s 62ms/step - loss: 1.9988 - accuracy: 0.5401 - val_loss: 4.4013 - val_accuracy: 0.3934\n",
            "Epoch 66/100\n",
            "527/527 [==============================] - 33s 63ms/step - loss: 1.9932 - accuracy: 0.5409 - val_loss: 4.3932 - val_accuracy: 0.3928\n",
            "Epoch 67/100\n",
            "527/527 [==============================] - 32s 61ms/step - loss: 1.9872 - accuracy: 0.5432 - val_loss: 4.3897 - val_accuracy: 0.3944\n",
            "Epoch 68/100\n",
            "527/527 [==============================] - 32s 61ms/step - loss: 1.9804 - accuracy: 0.5436 - val_loss: 4.3875 - val_accuracy: 0.3965\n",
            "Epoch 69/100\n",
            "527/527 [==============================] - 33s 63ms/step - loss: 1.9745 - accuracy: 0.5439 - val_loss: 4.3944 - val_accuracy: 0.3951\n",
            "Epoch 70/100\n",
            "527/527 [==============================] - 33s 62ms/step - loss: 1.9684 - accuracy: 0.5455 - val_loss: 4.3824 - val_accuracy: 0.3978\n",
            "Epoch 71/100\n",
            "527/527 [==============================] - 33s 63ms/step - loss: 1.9641 - accuracy: 0.5466 - val_loss: 4.4045 - val_accuracy: 0.3957\n",
            "Epoch 72/100\n",
            "527/527 [==============================] - 32s 61ms/step - loss: 1.9607 - accuracy: 0.5468 - val_loss: 4.4017 - val_accuracy: 0.3988\n",
            "Epoch 73/100\n",
            "527/527 [==============================] - 32s 61ms/step - loss: 1.9565 - accuracy: 0.5481 - val_loss: 4.4148 - val_accuracy: 0.3976\n",
            "Epoch 74/100\n",
            "527/527 [==============================] - 33s 63ms/step - loss: 1.9485 - accuracy: 0.5495 - val_loss: 4.4102 - val_accuracy: 0.3997\n",
            "Epoch 75/100\n",
            "527/527 [==============================] - 32s 62ms/step - loss: 1.9431 - accuracy: 0.5501 - val_loss: 4.4177 - val_accuracy: 0.3997\n",
            "Epoch 76/100\n",
            "527/527 [==============================] - 33s 63ms/step - loss: 1.9400 - accuracy: 0.5501 - val_loss: 4.4174 - val_accuracy: 0.3995\n",
            "Epoch 77/100\n",
            "527/527 [==============================] - 32s 61ms/step - loss: 1.9390 - accuracy: 0.5507 - val_loss: 4.4134 - val_accuracy: 0.3994\n",
            "Epoch 78/100\n",
            "527/527 [==============================] - 32s 61ms/step - loss: 1.9342 - accuracy: 0.5515 - val_loss: 4.4289 - val_accuracy: 0.3991\n",
            "Epoch 79/100\n",
            "527/527 [==============================] - 33s 63ms/step - loss: 1.9278 - accuracy: 0.5526 - val_loss: 4.4367 - val_accuracy: 0.4002\n",
            "Epoch 80/100\n",
            "527/527 [==============================] - 32s 61ms/step - loss: 1.9237 - accuracy: 0.5536 - val_loss: 4.4117 - val_accuracy: 0.4033\n",
            "Epoch 81/100\n",
            "527/527 [==============================] - 32s 61ms/step - loss: 1.9177 - accuracy: 0.5544 - val_loss: 4.4387 - val_accuracy: 0.4021\n",
            "Epoch 82/100\n",
            "527/527 [==============================] - 32s 61ms/step - loss: 1.9175 - accuracy: 0.5539 - val_loss: 4.4405 - val_accuracy: 0.4023\n",
            "Epoch 83/100\n",
            "527/527 [==============================] - 32s 61ms/step - loss: 1.9160 - accuracy: 0.5553 - val_loss: 4.4353 - val_accuracy: 0.4040\n",
            "Epoch 84/100\n",
            "527/527 [==============================] - 34s 64ms/step - loss: 1.9123 - accuracy: 0.5552 - val_loss: 4.4299 - val_accuracy: 0.4036\n",
            "Epoch 85/100\n",
            "527/527 [==============================] - 32s 61ms/step - loss: 1.9093 - accuracy: 0.5557 - val_loss: 4.4534 - val_accuracy: 0.4026\n",
            "Epoch 86/100\n",
            "527/527 [==============================] - 32s 61ms/step - loss: 1.9045 - accuracy: 0.5567 - val_loss: 4.4543 - val_accuracy: 0.4037\n",
            "Epoch 87/100\n",
            "527/527 [==============================] - 32s 62ms/step - loss: 1.9043 - accuracy: 0.5571 - val_loss: 4.4400 - val_accuracy: 0.4047\n",
            "Epoch 88/100\n",
            "527/527 [==============================] - 32s 61ms/step - loss: 1.8974 - accuracy: 0.5584 - val_loss: 4.4661 - val_accuracy: 0.4046\n",
            "Epoch 89/100\n",
            "527/527 [==============================] - 33s 63ms/step - loss: 1.8944 - accuracy: 0.5584 - val_loss: 4.4436 - val_accuracy: 0.4051\n",
            "Epoch 90/100\n",
            "527/527 [==============================] - 32s 61ms/step - loss: 1.8945 - accuracy: 0.5584 - val_loss: 4.4335 - val_accuracy: 0.4046\n",
            "Epoch 91/100\n",
            "527/527 [==============================] - 32s 61ms/step - loss: 1.8913 - accuracy: 0.5595 - val_loss: 4.4488 - val_accuracy: 0.4051\n",
            "Epoch 92/100\n",
            "527/527 [==============================] - 34s 64ms/step - loss: 1.8918 - accuracy: 0.5587 - val_loss: 4.4559 - val_accuracy: 0.4048\n",
            "Epoch 93/100\n",
            "527/527 [==============================] - 34s 64ms/step - loss: 1.8888 - accuracy: 0.5602 - val_loss: 4.4509 - val_accuracy: 0.4049\n",
            "Epoch 94/100\n",
            "527/527 [==============================] - 33s 63ms/step - loss: 1.8809 - accuracy: 0.5613 - val_loss: 4.4588 - val_accuracy: 0.4067\n",
            "Epoch 95/100\n",
            "527/527 [==============================] - 32s 61ms/step - loss: 1.8791 - accuracy: 0.5613 - val_loss: 4.4485 - val_accuracy: 0.4073\n",
            "Epoch 96/100\n",
            "527/527 [==============================] - 32s 61ms/step - loss: 1.8767 - accuracy: 0.5617 - val_loss: 4.4585 - val_accuracy: 0.4080\n",
            "Epoch 97/100\n",
            "527/527 [==============================] - 33s 63ms/step - loss: 1.8765 - accuracy: 0.5620 - val_loss: 4.4471 - val_accuracy: 0.4085\n",
            "Epoch 98/100\n",
            "527/527 [==============================] - 32s 61ms/step - loss: 1.8756 - accuracy: 0.5620 - val_loss: 4.4678 - val_accuracy: 0.4091\n",
            "Epoch 99/100\n",
            "527/527 [==============================] - 33s 63ms/step - loss: 1.8725 - accuracy: 0.5625 - val_loss: 4.4661 - val_accuracy: 0.4088\n",
            "Epoch 100/100\n",
            "527/527 [==============================] - 32s 61ms/step - loss: 1.8689 - accuracy: 0.5629 - val_loss: 4.4558 - val_accuracy: 0.4106\n",
            "Done 100 epoch.\n"
          ],
          "name": "stdout"
        }
      ]
    },
    {
      "cell_type": "code",
      "metadata": {
        "colab": {
          "base_uri": "https://localhost:8080/",
          "height": 896
        },
        "id": "nmcqJ59Vj8Yw",
        "outputId": "30582369-7013-4256-f260-833f85acc026"
      },
      "source": [
        "# Show the text generation with what we got so far\n",
        "result_tester.show_experiment_results(result1, my_dataset.my_vocab)"
      ],
      "execution_count": 105,
      "outputs": [
        {
          "output_type": "stream",
          "text": [
            "Experiment: 2LSTM dropout=0.4:Test first 100 epoch\n",
            "training_param: {'rnn_units': 1024, 'dropout': 0.4, 'lstm_layer': 2}\n",
            "max_seq_len: 10\n",
            "\n",
            "\n"
          ],
          "name": "stdout"
        },
        {
          "output_type": "display_data",
          "data": {
            "image/png": "[encoded data removed]",
            "text/plain": [
              "<Figure size 504x360 with 2 Axes>"
            ]
          },
          "metadata": {
            "tags": [],
            "needs_background": "light"
          }
        },
        {
          "output_type": "stream",
          "text": [
            "#1:  Today is a good...\n",
            "         deal us technology with its new hampshires secretary jim mattis on wednesday clearing a relaxation new emergency management prevezons oversight\n",
            "#2:  Trump is...\n",
            "         expected with homeland security issues such a lucrative business income tax legislation that he stirred around the president donald trump\n",
            "#3:  US plans to...\n",
            "         block grants only the stunt that the younger older offpatent 63 percent of the senate if they could not a\n",
            "#4:  Small business suffers...\n",
            "         that was forced to a warrant before the notorious attacks and whitefishs deal and others it offering than half 800000\n",
            "#5:  Tomorrow we will know...\n",
            "         what at the resolution to deal and militias against him there has currently in 2013 said the senators on a\n",
            "#6:  there were 2 mass shootings in texas last week...\n",
            "         asked the weapons and it for several congressional aides say it us territories on us senate confirms charges that exist\n",
            "#7:  US stock market will continue to...\n",
            "         be party divisions a party computers with the details if flynn had opened fire hindering jobcreating said lawmakers have fled\n",
            "#8:  The Oscar goes to...\n",
            "         be able to see their users voiced misgivings misgivings about president signed by the united states until on slashing red\n",
            "#9:  What is...\n",
            "         known as the countrys presidential election the south carolina oregon and largest forecast an agreement i actually qualified to cuts\n",
            "#10:  Gunmen Assassinate Iran’s Top Nuclear Scientist...\n",
            "         said mark zuckerberg to protect consumers to stay with the discussions with the indictment the 11 are into the united\n",
            "#11:  Iran’s president blames Israel for killing nuclear scientist and vows to...\n",
            "         spur the latest in its old guidance in addition provision was passed by russia and patty murray of the mtcr\n",
            "#12:  Man linked the killing of...\n",
            "         more than an openended regulations and means committee ioc in july 3 from the treasury did not necessary rights values\n",
            "#13:  This Thanksgiving...\n",
            "         trump told the referee and companies said they believe even though they had concerns appropriately to working with the president\n"
          ],
          "name": "stdout"
        }
      ]
    },
    {
      "cell_type": "code",
      "metadata": {
        "colab": {
          "base_uri": "https://localhost:8080/"
        },
        "id": "YpMlxaY2yinl",
        "outputId": "7842d3f7-7aa6-43c8-ac7f-f012aaff0c35"
      },
      "source": [
        "# Try generating different text\n",
        "result_tester.test_generate_text(start_string_list, result1['predict'], my_dataset.my_vocab, 10)"
      ],
      "execution_count": 107,
      "outputs": [
        {
          "output_type": "stream",
          "text": [
            "#1:  Today is a good...\n",
            "         deal were not immediately respond to block an industry officials\n",
            "#2:  Trump is...\n",
            "         expected in the federal law requires 60 percent of supreme\n",
            "#3:  US plans to...\n",
            "         cut the last week although adding for tax rate for\n",
            "#4:  Small business suffers...\n",
            "         that owns directv on its bills a housesenate senate that\n",
            "#5:  Tomorrow we will know...\n",
            "         what were receiving support conservative republicans and tweeted and white\n",
            "#6:  there were 2 mass shootings in texas last week...\n",
            "         abbott on wednesday to repeated meeting with a dinner room\n",
            "#7:  US stock market will continue to...\n",
            "         be hardpressed and republican effort to express condolences satisfaction in\n",
            "#8:  The Oscar goes to...\n",
            "         wall the company att incs program that would destroy the\n",
            "#9:  What is...\n",
            "         for engaging as the world for childhood arrivals daca mansion\n",
            "#10:  Gunmen Assassinate Iran’s Top Nuclear Scientist...\n",
            "         in us president on solid different tack on thursday the\n",
            "#11:  Iran’s president blames Israel for killing nuclear scientist and vows to...\n",
            "         destroy north koreas biggest impact earlier this weekend puts any\n",
            "#12:  Man linked the killing of...\n",
            "         the state rex tillerson from deportation of tribune trump would\n",
            "#13:  This Thanksgiving...\n",
            "         as the governments needs to cooperate with north korean leader\n"
          ],
          "name": "stdout"
        }
      ]
    },
    {
      "cell_type": "markdown",
      "metadata": {
        "id": "8NYae2ppqWWD"
      },
      "source": [
        "As we can see, the generated text is somewhat coherent, althought not making complete sense.  It is not completely random. "
      ]
    },
    {
      "cell_type": "markdown",
      "metadata": {
        "id": "d1ZfFZdS8C_I"
      },
      "source": [
        "# **Conclusion:**\n",
        "\n",
        "The model tends to overfit. Increasing the dropout does reduce the overfitting but cannot prevent it. The validation accuracy will soon improve at a slower rate than the training accuracy (which will keep improving with additional training).\n",
        "\n",
        "Our final model can achieve the training accuracy of > 0.5 and validation accuracy of > 0.4 in the first 100 Epoch. This is good consider the relatively short time we use for training. \n",
        "\n",
        "The classes created for this project can help us easily set up new datasets based on a given text file and we can use it do train different text generation models (will have the style of the dataset text).\n",
        "\n",
        "Lessons learned:\n",
        "\n",
        "* Using a big dataset is good, but the relationships of segments/sentences within the text always matter. I decided to go with \"merged\" text because when I trained earlier with different news being kept as different samples, we either have to truncate a lot of sentences and lost valuable training data, or pad the shorter sentences. When we have a lot of padding, the model tend to predict 0 index very often because there is a lot of padding in the training target.\n",
        "\n",
        "* Having pretrained embedding does help improving the accuracy because we are using generate text that follows a language model. If we want to use this to generate other kinds of predictions (like customer orders), we should pretrain the embedding of the input object, so that we can understand the relationships between different objects.\n",
        "\n",
        "\n"
      ]
    }
  ]
}